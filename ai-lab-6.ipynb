{
 "cells": [
  {
   "cell_type": "markdown",
   "metadata": {},
   "source": [
    "# Binary Classification using Neural Networks and Vanilla (simple) DL Models\n",
    "\n",
    "In this section, we have built **ANN binary classification models** to **predict if one person is diabetes or not** using:\n",
    "\n",
    "- Machine learning Python library of **scikit-learn** and\n",
    "\n",
    "- the deep learning Python libraries of **Tensorflow - Keras**. "
   ]
  },
  {
   "cell_type": "markdown",
   "metadata": {},
   "source": [
    "# I- How to design MLP Artificial Neural Network Model using scikit-learn Library\n",
    "\n",
    "A **multilayer perceptron** (**MLP**) is a type of fully connected feedforward artificial neural network (ANN). It uses Backpropagation training method and the some versions of Stochastic Gradient Descent learning algorithm to learn the right values of weights and biases inorder to map inputs to their corresponding labels given in the training dataset. \n",
    "A MLP has inputs and output layer, and may has one or more hidden layers with many neurons in between inputs and the output layer.\n",
    "\n",
    "**scikit-learn** is a free software machine learning library for the Python programming language. It provides various classification, regression and clustering algorithms and so many other data analysis and analitics tools. \n",
    "\n",
    "A **multilayer perceptron** (**MLP**) network is implemented in the **scikit-learn** Python library as two different classes:\n",
    "\n",
    "- **MLPRegressor** **class** implements a multi-layer perceptron (MLP) that trains using backpropagation with **identity function as activation function (means no activation function)** in the output layer. It uses the **square error as the loss function**, and the output is a set of continuous values.\n",
    "\n",
    "- **MLPClassifier** **class** implements a multi-layer perceptron (MLP) that trains using backpropagation. It uses the **Cross-Entropy loss function**, and the output is a set of continuous values. \n",
    "In the case of **binary classification tasks**, it uses **logistic activation function**. It outputs the values larger or equal to 0.5 are rounded to 1, otherwise to 0.\n",
    "In the case of **multi-class classification**, it uses **Softmax activation** function. \n",
    "\n",
    "Scikit-learn implementations of MLP use **Stochastic Gradient Descent (SGD), Adam, or L-BFGS learning algorithms**. With SGD or Adam, training supports online and mini-batch learning.  ‘L-BFGS’, training does not support online nor mini-batch learning. Empirically, we observed that L-BFGS converges faster and with better solutions on small datasets. For relatively large datasets, however, Adam is very robust. It usually converges quickly and gives pretty good performance. SGD with momentum or nesterov’s momentum, on the other hand, can perform better than those two algorithms if learning rate is correctly tuned.\n",
    "\n",
    "\n",
    "\n",
    "ALL ANN models including the Multi-layer Perceptron networks are **sensitive to feature scaling**, so it is highly recommended to scale your data. For example, scale each attribute on the input vector X to [0, 1] or [-1, +1], or standardize it to have mean 0 and variance 1. \n"
   ]
  },
  {
   "cell_type": "markdown",
   "metadata": {},
   "source": [
    "### Step 1 - Loading the required libraries and modules"
   ]
  },
  {
   "cell_type": "code",
   "execution_count": 1,
   "metadata": {
    "_cell_guid": "b1076dfc-b9ad-4769-8c92-a6c4dae69d19",
    "_uuid": "8f2839f25d086af736a60e9eeb907d3b93b6e0e5",
    "execution": {
     "iopub.execute_input": "2024-11-20T09:39:09.774323Z",
     "iopub.status.busy": "2024-11-20T09:39:09.773875Z",
     "iopub.status.idle": "2024-11-20T09:39:09.787098Z",
     "shell.execute_reply": "2024-11-20T09:39:09.785087Z",
     "shell.execute_reply.started": "2024-11-20T09:39:09.774286Z"
    },
    "trusted": true
   },
   "outputs": [],
   "source": [
    "# This Python 3 environment comes with many helpful analytics libraries installed\n",
    "# It is defined by the kaggle/python docker image: https://github.com/kaggle/docker-python\n",
    "# For example, here's several helpful packages to load in \n",
    "\n",
    "# conda install  TensorFlow\n",
    "# The Official Keras Deep Neural Network Example for CNN \n",
    "###############################\n",
    "# Setting Seed Random Number for Reproducibility\n",
    "import numpy as np # linear algebra\n",
    "np.random.seed(123)  # for reproducibility\n",
    "\n",
    "# Setting Seed Random Number for the TensorFlow Backend\n",
    "import tensorflow as tf\n",
    "tf.random.set_seed(123) # for reproducibility\n",
    "\n",
    "import pandas as pd # data processing, CSV file I/O (e.g. pd.read_csv)\n",
    "import matplotlib.pyplot as plt # plotting library\n",
    "#%matplotlib inline\n",
    "\n",
    "from tensorflow import keras\n",
    "from keras import  backend as K\n",
    "\n",
    "\n",
    "\n",
    "import seaborn as sns\n",
    "import matplotlib.pyplot as plt\n",
    "%matplotlib inline"
   ]
  },
  {
   "cell_type": "markdown",
   "metadata": {},
   "source": [
    "### Step 2 - Loading the data and performing basic data exploration"
   ]
  },
  {
   "cell_type": "code",
   "execution_count": 2,
   "metadata": {
    "execution": {
     "iopub.execute_input": "2024-11-20T09:39:09.790942Z",
     "iopub.status.busy": "2024-11-20T09:39:09.790035Z",
     "iopub.status.idle": "2024-11-20T09:39:09.837043Z",
     "shell.execute_reply": "2024-11-20T09:39:09.835249Z",
     "shell.execute_reply.started": "2024-11-20T09:39:09.790523Z"
    },
    "trusted": true
   },
   "outputs": [
    {
     "data": {
      "text/html": [
       "<div>\n",
       "<style scoped>\n",
       "    .dataframe tbody tr th:only-of-type {\n",
       "        vertical-align: middle;\n",
       "    }\n",
       "\n",
       "    .dataframe tbody tr th {\n",
       "        vertical-align: top;\n",
       "    }\n",
       "\n",
       "    .dataframe thead th {\n",
       "        text-align: right;\n",
       "    }\n",
       "</style>\n",
       "<table border=\"1\" class=\"dataframe\">\n",
       "  <thead>\n",
       "    <tr style=\"text-align: right;\">\n",
       "      <th></th>\n",
       "      <th>Pregnancies</th>\n",
       "      <th>Glucose</th>\n",
       "      <th>BloodPressure</th>\n",
       "      <th>SkinThickness</th>\n",
       "      <th>Insulin</th>\n",
       "      <th>BMI</th>\n",
       "      <th>DiabetesPedigreeFunction</th>\n",
       "      <th>Age</th>\n",
       "      <th>Outcome</th>\n",
       "    </tr>\n",
       "  </thead>\n",
       "  <tbody>\n",
       "    <tr>\n",
       "      <th>0</th>\n",
       "      <td>6</td>\n",
       "      <td>148</td>\n",
       "      <td>72</td>\n",
       "      <td>35</td>\n",
       "      <td>0</td>\n",
       "      <td>33.6</td>\n",
       "      <td>0.627</td>\n",
       "      <td>50</td>\n",
       "      <td>1</td>\n",
       "    </tr>\n",
       "    <tr>\n",
       "      <th>1</th>\n",
       "      <td>1</td>\n",
       "      <td>85</td>\n",
       "      <td>66</td>\n",
       "      <td>29</td>\n",
       "      <td>0</td>\n",
       "      <td>26.6</td>\n",
       "      <td>0.351</td>\n",
       "      <td>31</td>\n",
       "      <td>0</td>\n",
       "    </tr>\n",
       "    <tr>\n",
       "      <th>2</th>\n",
       "      <td>8</td>\n",
       "      <td>183</td>\n",
       "      <td>64</td>\n",
       "      <td>0</td>\n",
       "      <td>0</td>\n",
       "      <td>23.3</td>\n",
       "      <td>0.672</td>\n",
       "      <td>32</td>\n",
       "      <td>1</td>\n",
       "    </tr>\n",
       "    <tr>\n",
       "      <th>3</th>\n",
       "      <td>1</td>\n",
       "      <td>89</td>\n",
       "      <td>66</td>\n",
       "      <td>23</td>\n",
       "      <td>94</td>\n",
       "      <td>28.1</td>\n",
       "      <td>0.167</td>\n",
       "      <td>21</td>\n",
       "      <td>0</td>\n",
       "    </tr>\n",
       "    <tr>\n",
       "      <th>4</th>\n",
       "      <td>0</td>\n",
       "      <td>137</td>\n",
       "      <td>40</td>\n",
       "      <td>35</td>\n",
       "      <td>168</td>\n",
       "      <td>43.1</td>\n",
       "      <td>2.288</td>\n",
       "      <td>33</td>\n",
       "      <td>1</td>\n",
       "    </tr>\n",
       "  </tbody>\n",
       "</table>\n",
       "</div>"
      ],
      "text/plain": [
       "   Pregnancies  Glucose  BloodPressure  SkinThickness  Insulin   BMI  \\\n",
       "0            6      148             72             35        0  33.6   \n",
       "1            1       85             66             29        0  26.6   \n",
       "2            8      183             64              0        0  23.3   \n",
       "3            1       89             66             23       94  28.1   \n",
       "4            0      137             40             35      168  43.1   \n",
       "\n",
       "   DiabetesPedigreeFunction  Age  Outcome  \n",
       "0                     0.627   50        1  \n",
       "1                     0.351   31        0  \n",
       "2                     0.672   32        1  \n",
       "3                     0.167   21        0  \n",
       "4                     2.288   33        1  "
      ]
     },
     "execution_count": 2,
     "metadata": {},
     "output_type": "execute_result"
    }
   ],
   "source": [
    "# https://www.kaggle.com/datasets/uciml/pima-indians-diabetes-database\n",
    "dataset = pd.read_csv('diabetes.csv')\n",
    "dataset.head()"
   ]
  },
  {
   "cell_type": "code",
   "execution_count": 3,
   "metadata": {
    "execution": {
     "iopub.execute_input": "2024-11-20T09:39:09.839580Z",
     "iopub.status.busy": "2024-11-20T09:39:09.839183Z",
     "iopub.status.idle": "2024-11-20T09:39:09.887937Z",
     "shell.execute_reply": "2024-11-20T09:39:09.886293Z",
     "shell.execute_reply.started": "2024-11-20T09:39:09.839545Z"
    },
    "trusted": true
   },
   "outputs": [
    {
     "data": {
      "text/html": [
       "<div>\n",
       "<style scoped>\n",
       "    .dataframe tbody tr th:only-of-type {\n",
       "        vertical-align: middle;\n",
       "    }\n",
       "\n",
       "    .dataframe tbody tr th {\n",
       "        vertical-align: top;\n",
       "    }\n",
       "\n",
       "    .dataframe thead th {\n",
       "        text-align: right;\n",
       "    }\n",
       "</style>\n",
       "<table border=\"1\" class=\"dataframe\">\n",
       "  <thead>\n",
       "    <tr style=\"text-align: right;\">\n",
       "      <th></th>\n",
       "      <th>Pregnancies</th>\n",
       "      <th>Glucose</th>\n",
       "      <th>BloodPressure</th>\n",
       "      <th>SkinThickness</th>\n",
       "      <th>Insulin</th>\n",
       "      <th>BMI</th>\n",
       "      <th>DiabetesPedigreeFunction</th>\n",
       "      <th>Age</th>\n",
       "      <th>Outcome</th>\n",
       "    </tr>\n",
       "  </thead>\n",
       "  <tbody>\n",
       "    <tr>\n",
       "      <th>count</th>\n",
       "      <td>768.000000</td>\n",
       "      <td>768.000000</td>\n",
       "      <td>768.000000</td>\n",
       "      <td>768.000000</td>\n",
       "      <td>768.000000</td>\n",
       "      <td>768.000000</td>\n",
       "      <td>768.000000</td>\n",
       "      <td>768.000000</td>\n",
       "      <td>768.000000</td>\n",
       "    </tr>\n",
       "    <tr>\n",
       "      <th>mean</th>\n",
       "      <td>3.845052</td>\n",
       "      <td>120.894531</td>\n",
       "      <td>69.105469</td>\n",
       "      <td>20.536458</td>\n",
       "      <td>79.799479</td>\n",
       "      <td>31.992578</td>\n",
       "      <td>0.471876</td>\n",
       "      <td>33.240885</td>\n",
       "      <td>0.348958</td>\n",
       "    </tr>\n",
       "    <tr>\n",
       "      <th>std</th>\n",
       "      <td>3.369578</td>\n",
       "      <td>31.972618</td>\n",
       "      <td>19.355807</td>\n",
       "      <td>15.952218</td>\n",
       "      <td>115.244002</td>\n",
       "      <td>7.884160</td>\n",
       "      <td>0.331329</td>\n",
       "      <td>11.760232</td>\n",
       "      <td>0.476951</td>\n",
       "    </tr>\n",
       "    <tr>\n",
       "      <th>min</th>\n",
       "      <td>0.000000</td>\n",
       "      <td>0.000000</td>\n",
       "      <td>0.000000</td>\n",
       "      <td>0.000000</td>\n",
       "      <td>0.000000</td>\n",
       "      <td>0.000000</td>\n",
       "      <td>0.078000</td>\n",
       "      <td>21.000000</td>\n",
       "      <td>0.000000</td>\n",
       "    </tr>\n",
       "    <tr>\n",
       "      <th>25%</th>\n",
       "      <td>1.000000</td>\n",
       "      <td>99.000000</td>\n",
       "      <td>62.000000</td>\n",
       "      <td>0.000000</td>\n",
       "      <td>0.000000</td>\n",
       "      <td>27.300000</td>\n",
       "      <td>0.243750</td>\n",
       "      <td>24.000000</td>\n",
       "      <td>0.000000</td>\n",
       "    </tr>\n",
       "    <tr>\n",
       "      <th>50%</th>\n",
       "      <td>3.000000</td>\n",
       "      <td>117.000000</td>\n",
       "      <td>72.000000</td>\n",
       "      <td>23.000000</td>\n",
       "      <td>30.500000</td>\n",
       "      <td>32.000000</td>\n",
       "      <td>0.372500</td>\n",
       "      <td>29.000000</td>\n",
       "      <td>0.000000</td>\n",
       "    </tr>\n",
       "    <tr>\n",
       "      <th>75%</th>\n",
       "      <td>6.000000</td>\n",
       "      <td>140.250000</td>\n",
       "      <td>80.000000</td>\n",
       "      <td>32.000000</td>\n",
       "      <td>127.250000</td>\n",
       "      <td>36.600000</td>\n",
       "      <td>0.626250</td>\n",
       "      <td>41.000000</td>\n",
       "      <td>1.000000</td>\n",
       "    </tr>\n",
       "    <tr>\n",
       "      <th>max</th>\n",
       "      <td>17.000000</td>\n",
       "      <td>199.000000</td>\n",
       "      <td>122.000000</td>\n",
       "      <td>99.000000</td>\n",
       "      <td>846.000000</td>\n",
       "      <td>67.100000</td>\n",
       "      <td>2.420000</td>\n",
       "      <td>81.000000</td>\n",
       "      <td>1.000000</td>\n",
       "    </tr>\n",
       "  </tbody>\n",
       "</table>\n",
       "</div>"
      ],
      "text/plain": [
       "       Pregnancies     Glucose  BloodPressure  SkinThickness     Insulin  \\\n",
       "count   768.000000  768.000000     768.000000     768.000000  768.000000   \n",
       "mean      3.845052  120.894531      69.105469      20.536458   79.799479   \n",
       "std       3.369578   31.972618      19.355807      15.952218  115.244002   \n",
       "min       0.000000    0.000000       0.000000       0.000000    0.000000   \n",
       "25%       1.000000   99.000000      62.000000       0.000000    0.000000   \n",
       "50%       3.000000  117.000000      72.000000      23.000000   30.500000   \n",
       "75%       6.000000  140.250000      80.000000      32.000000  127.250000   \n",
       "max      17.000000  199.000000     122.000000      99.000000  846.000000   \n",
       "\n",
       "              BMI  DiabetesPedigreeFunction         Age     Outcome  \n",
       "count  768.000000                768.000000  768.000000  768.000000  \n",
       "mean    31.992578                  0.471876   33.240885    0.348958  \n",
       "std      7.884160                  0.331329   11.760232    0.476951  \n",
       "min      0.000000                  0.078000   21.000000    0.000000  \n",
       "25%     27.300000                  0.243750   24.000000    0.000000  \n",
       "50%     32.000000                  0.372500   29.000000    0.000000  \n",
       "75%     36.600000                  0.626250   41.000000    1.000000  \n",
       "max     67.100000                  2.420000   81.000000    1.000000  "
      ]
     },
     "execution_count": 3,
     "metadata": {},
     "output_type": "execute_result"
    }
   ],
   "source": [
    "dataset.describe()"
   ]
  },
  {
   "cell_type": "code",
   "execution_count": 4,
   "metadata": {
    "execution": {
     "iopub.execute_input": "2024-11-20T09:39:09.891161Z",
     "iopub.status.busy": "2024-11-20T09:39:09.890750Z",
     "iopub.status.idle": "2024-11-20T09:39:09.902254Z",
     "shell.execute_reply": "2024-11-20T09:39:09.900880Z",
     "shell.execute_reply.started": "2024-11-20T09:39:09.891126Z"
    },
    "trusted": true
   },
   "outputs": [
    {
     "data": {
      "text/plain": [
       "Index(['Pregnancies', 'Glucose', 'BloodPressure', 'SkinThickness', 'Insulin',\n",
       "       'BMI', 'DiabetesPedigreeFunction', 'Age', 'Outcome'],\n",
       "      dtype='object')"
      ]
     },
     "execution_count": 4,
     "metadata": {},
     "output_type": "execute_result"
    }
   ],
   "source": [
    "dataset.columns"
   ]
  },
  {
   "cell_type": "code",
   "execution_count": 5,
   "metadata": {
    "execution": {
     "iopub.execute_input": "2024-11-20T09:39:09.904139Z",
     "iopub.status.busy": "2024-11-20T09:39:09.903698Z",
     "iopub.status.idle": "2024-11-20T09:39:09.929246Z",
     "shell.execute_reply": "2024-11-20T09:39:09.927438Z",
     "shell.execute_reply.started": "2024-11-20T09:39:09.904105Z"
    },
    "trusted": true
   },
   "outputs": [
    {
     "name": "stdout",
     "output_type": "stream",
     "text": [
      "<class 'pandas.core.frame.DataFrame'>\n",
      "RangeIndex: 768 entries, 0 to 767\n",
      "Data columns (total 9 columns):\n",
      " #   Column                    Non-Null Count  Dtype  \n",
      "---  ------                    --------------  -----  \n",
      " 0   Pregnancies               768 non-null    int64  \n",
      " 1   Glucose                   768 non-null    int64  \n",
      " 2   BloodPressure             768 non-null    int64  \n",
      " 3   SkinThickness             768 non-null    int64  \n",
      " 4   Insulin                   768 non-null    int64  \n",
      " 5   BMI                       768 non-null    float64\n",
      " 6   DiabetesPedigreeFunction  768 non-null    float64\n",
      " 7   Age                       768 non-null    int64  \n",
      " 8   Outcome                   768 non-null    int64  \n",
      "dtypes: float64(2), int64(7)\n",
      "memory usage: 54.1 KB\n"
     ]
    }
   ],
   "source": [
    "dataset.info()"
   ]
  },
  {
   "cell_type": "markdown",
   "metadata": {},
   "source": [
    "### Step 3 - Setting the input variable (inputs, features) and output variable (response variable)."
   ]
  },
  {
   "cell_type": "code",
   "execution_count": 6,
   "metadata": {
    "execution": {
     "iopub.execute_input": "2024-11-20T09:39:09.931545Z",
     "iopub.status.busy": "2024-11-20T09:39:09.930995Z",
     "iopub.status.idle": "2024-11-20T09:39:09.950595Z",
     "shell.execute_reply": "2024-11-20T09:39:09.949023Z",
     "shell.execute_reply.started": "2024-11-20T09:39:09.931493Z"
    },
    "trusted": true
   },
   "outputs": [
    {
     "name": "stdout",
     "output_type": "stream",
     "text": [
      "Shape of X (features): (768, 8)\n",
      "Shape of y (target): (768,)\n"
     ]
    }
   ],
   "source": [
    "# Define the input variable and output variables, and display shapes of the X and y\n",
    "X = dataset.iloc[:, :-1].values  # All columns except the last one\n",
    "y = dataset.iloc[:, -1].values   # The last column (target variable)\n",
    "\n",
    "# Display the shapes of X and y\n",
    "print(\"Shape of X (features):\", X.shape)\n",
    "print(\"Shape of y (target):\", y.shape)\n"
   ]
  },
  {
   "cell_type": "markdown",
   "metadata": {},
   "source": [
    "### Step 4 - Spliting the training and test datasets."
   ]
  },
  {
   "cell_type": "code",
   "execution_count": 7,
   "metadata": {
    "execution": {
     "iopub.execute_input": "2024-11-20T09:39:09.953358Z",
     "iopub.status.busy": "2024-11-20T09:39:09.952699Z",
     "iopub.status.idle": "2024-11-20T09:39:10.006766Z",
     "shell.execute_reply": "2024-11-20T09:39:10.002875Z",
     "shell.execute_reply.started": "2024-11-20T09:39:09.953260Z"
    },
    "trusted": true
   },
   "outputs": [],
   "source": [
    "# Divide the dataset into the 75% training and 25% testing\n",
    "from sklearn.model_selection import train_test_split\n",
    "\n",
    "\n",
    "X_train, X_test, y_train, y_test = train_test_split(X, y, test_size=0.25, random_state=42)\n",
    "\n"
   ]
  },
  {
   "cell_type": "markdown",
   "metadata": {},
   "source": [
    "### Step 5 - Scalling/Normalization of the input data"
   ]
  },
  {
   "cell_type": "code",
   "execution_count": 8,
   "metadata": {
    "execution": {
     "iopub.status.busy": "2024-11-20T09:39:10.008338Z",
     "iopub.status.idle": "2024-11-20T09:39:10.008987Z",
     "shell.execute_reply": "2024-11-20T09:39:10.008776Z",
     "shell.execute_reply.started": "2024-11-20T09:39:10.008749Z"
    },
    "trusted": true
   },
   "outputs": [],
   "source": [
    "# Scale the training data inputs and test data inputs using the MinMax scaler\n",
    "from sklearn.preprocessing import StandardScaler\n",
    "from sklearn.preprocessing import MinMaxScaler\n",
    "\n",
    "scaler=MinMaxScaler()\n",
    "X_trainscaled = scaler.fit_transform(X_train)\n",
    "X_testscaled=scaler.transform(X_test)"
   ]
  },
  {
   "cell_type": "markdown",
   "metadata": {},
   "source": [
    "### Step 6 - Define, compile, and fit (train) the regression ANN model."
   ]
  },
  {
   "cell_type": "code",
   "execution_count": 9,
   "metadata": {
    "execution": {
     "iopub.status.busy": "2024-11-20T09:39:10.011487Z",
     "iopub.status.idle": "2024-11-20T09:39:10.012066Z",
     "shell.execute_reply": "2024-11-20T09:39:10.011866Z",
     "shell.execute_reply.started": "2024-11-20T09:39:10.011842Z"
    },
    "trusted": true
   },
   "outputs": [],
   "source": [
    "from sklearn.neural_network import MLPClassifier\n",
    "\n",
    "# Step : Design an ANN model using the 3 hidden layers with the numbers of 24,6,3 neurons, relu activation function, adam training method\n",
    "net = MLPClassifier(\n",
    "    hidden_layer_sizes=(24, 6, 3),  # Number of neurons in each hidden layer\n",
    "    activation='relu',              # Activation function\n",
    "    solver='adam',                  # Training algorithm\n",
    "    max_iter=5000,                  # Maximum number of iterations\n",
    "    alpha=0.01,                     # Regularization parameter\n",
    "    batch_size=124,                 # Batch size\n",
    "    learning_rate_init=0.001,       # Initial learning rate\n",
    "    random_state=2                  # Random state for reproducibility\n",
    ")\n",
    "\n",
    "\n",
    "\n",
    "\n",
    "\n",
    "\n"
   ]
  },
  {
   "cell_type": "code",
   "execution_count": 10,
   "metadata": {},
   "outputs": [
    {
     "data": {
      "text/html": [
       "<style>#sk-container-id-1 {\n",
       "  /* Definition of color scheme common for light and dark mode */\n",
       "  --sklearn-color-text: black;\n",
       "  --sklearn-color-line: gray;\n",
       "  /* Definition of color scheme for unfitted estimators */\n",
       "  --sklearn-color-unfitted-level-0: #fff5e6;\n",
       "  --sklearn-color-unfitted-level-1: #f6e4d2;\n",
       "  --sklearn-color-unfitted-level-2: #ffe0b3;\n",
       "  --sklearn-color-unfitted-level-3: chocolate;\n",
       "  /* Definition of color scheme for fitted estimators */\n",
       "  --sklearn-color-fitted-level-0: #f0f8ff;\n",
       "  --sklearn-color-fitted-level-1: #d4ebff;\n",
       "  --sklearn-color-fitted-level-2: #b3dbfd;\n",
       "  --sklearn-color-fitted-level-3: cornflowerblue;\n",
       "\n",
       "  /* Specific color for light theme */\n",
       "  --sklearn-color-text-on-default-background: var(--sg-text-color, var(--theme-code-foreground, var(--jp-content-font-color1, black)));\n",
       "  --sklearn-color-background: var(--sg-background-color, var(--theme-background, var(--jp-layout-color0, white)));\n",
       "  --sklearn-color-border-box: var(--sg-text-color, var(--theme-code-foreground, var(--jp-content-font-color1, black)));\n",
       "  --sklearn-color-icon: #696969;\n",
       "\n",
       "  @media (prefers-color-scheme: dark) {\n",
       "    /* Redefinition of color scheme for dark theme */\n",
       "    --sklearn-color-text-on-default-background: var(--sg-text-color, var(--theme-code-foreground, var(--jp-content-font-color1, white)));\n",
       "    --sklearn-color-background: var(--sg-background-color, var(--theme-background, var(--jp-layout-color0, #111)));\n",
       "    --sklearn-color-border-box: var(--sg-text-color, var(--theme-code-foreground, var(--jp-content-font-color1, white)));\n",
       "    --sklearn-color-icon: #878787;\n",
       "  }\n",
       "}\n",
       "\n",
       "#sk-container-id-1 {\n",
       "  color: var(--sklearn-color-text);\n",
       "}\n",
       "\n",
       "#sk-container-id-1 pre {\n",
       "  padding: 0;\n",
       "}\n",
       "\n",
       "#sk-container-id-1 input.sk-hidden--visually {\n",
       "  border: 0;\n",
       "  clip: rect(1px 1px 1px 1px);\n",
       "  clip: rect(1px, 1px, 1px, 1px);\n",
       "  height: 1px;\n",
       "  margin: -1px;\n",
       "  overflow: hidden;\n",
       "  padding: 0;\n",
       "  position: absolute;\n",
       "  width: 1px;\n",
       "}\n",
       "\n",
       "#sk-container-id-1 div.sk-dashed-wrapped {\n",
       "  border: 1px dashed var(--sklearn-color-line);\n",
       "  margin: 0 0.4em 0.5em 0.4em;\n",
       "  box-sizing: border-box;\n",
       "  padding-bottom: 0.4em;\n",
       "  background-color: var(--sklearn-color-background);\n",
       "}\n",
       "\n",
       "#sk-container-id-1 div.sk-container {\n",
       "  /* jupyter's `normalize.less` sets `[hidden] { display: none; }`\n",
       "     but bootstrap.min.css set `[hidden] { display: none !important; }`\n",
       "     so we also need the `!important` here to be able to override the\n",
       "     default hidden behavior on the sphinx rendered scikit-learn.org.\n",
       "     See: https://github.com/scikit-learn/scikit-learn/issues/21755 */\n",
       "  display: inline-block !important;\n",
       "  position: relative;\n",
       "}\n",
       "\n",
       "#sk-container-id-1 div.sk-text-repr-fallback {\n",
       "  display: none;\n",
       "}\n",
       "\n",
       "div.sk-parallel-item,\n",
       "div.sk-serial,\n",
       "div.sk-item {\n",
       "  /* draw centered vertical line to link estimators */\n",
       "  background-image: linear-gradient(var(--sklearn-color-text-on-default-background), var(--sklearn-color-text-on-default-background));\n",
       "  background-size: 2px 100%;\n",
       "  background-repeat: no-repeat;\n",
       "  background-position: center center;\n",
       "}\n",
       "\n",
       "/* Parallel-specific style estimator block */\n",
       "\n",
       "#sk-container-id-1 div.sk-parallel-item::after {\n",
       "  content: \"\";\n",
       "  width: 100%;\n",
       "  border-bottom: 2px solid var(--sklearn-color-text-on-default-background);\n",
       "  flex-grow: 1;\n",
       "}\n",
       "\n",
       "#sk-container-id-1 div.sk-parallel {\n",
       "  display: flex;\n",
       "  align-items: stretch;\n",
       "  justify-content: center;\n",
       "  background-color: var(--sklearn-color-background);\n",
       "  position: relative;\n",
       "}\n",
       "\n",
       "#sk-container-id-1 div.sk-parallel-item {\n",
       "  display: flex;\n",
       "  flex-direction: column;\n",
       "}\n",
       "\n",
       "#sk-container-id-1 div.sk-parallel-item:first-child::after {\n",
       "  align-self: flex-end;\n",
       "  width: 50%;\n",
       "}\n",
       "\n",
       "#sk-container-id-1 div.sk-parallel-item:last-child::after {\n",
       "  align-self: flex-start;\n",
       "  width: 50%;\n",
       "}\n",
       "\n",
       "#sk-container-id-1 div.sk-parallel-item:only-child::after {\n",
       "  width: 0;\n",
       "}\n",
       "\n",
       "/* Serial-specific style estimator block */\n",
       "\n",
       "#sk-container-id-1 div.sk-serial {\n",
       "  display: flex;\n",
       "  flex-direction: column;\n",
       "  align-items: center;\n",
       "  background-color: var(--sklearn-color-background);\n",
       "  padding-right: 1em;\n",
       "  padding-left: 1em;\n",
       "}\n",
       "\n",
       "\n",
       "/* Toggleable style: style used for estimator/Pipeline/ColumnTransformer box that is\n",
       "clickable and can be expanded/collapsed.\n",
       "- Pipeline and ColumnTransformer use this feature and define the default style\n",
       "- Estimators will overwrite some part of the style using the `sk-estimator` class\n",
       "*/\n",
       "\n",
       "/* Pipeline and ColumnTransformer style (default) */\n",
       "\n",
       "#sk-container-id-1 div.sk-toggleable {\n",
       "  /* Default theme specific background. It is overwritten whether we have a\n",
       "  specific estimator or a Pipeline/ColumnTransformer */\n",
       "  background-color: var(--sklearn-color-background);\n",
       "}\n",
       "\n",
       "/* Toggleable label */\n",
       "#sk-container-id-1 label.sk-toggleable__label {\n",
       "  cursor: pointer;\n",
       "  display: block;\n",
       "  width: 100%;\n",
       "  margin-bottom: 0;\n",
       "  padding: 0.5em;\n",
       "  box-sizing: border-box;\n",
       "  text-align: center;\n",
       "}\n",
       "\n",
       "#sk-container-id-1 label.sk-toggleable__label-arrow:before {\n",
       "  /* Arrow on the left of the label */\n",
       "  content: \"▸\";\n",
       "  float: left;\n",
       "  margin-right: 0.25em;\n",
       "  color: var(--sklearn-color-icon);\n",
       "}\n",
       "\n",
       "#sk-container-id-1 label.sk-toggleable__label-arrow:hover:before {\n",
       "  color: var(--sklearn-color-text);\n",
       "}\n",
       "\n",
       "/* Toggleable content - dropdown */\n",
       "\n",
       "#sk-container-id-1 div.sk-toggleable__content {\n",
       "  max-height: 0;\n",
       "  max-width: 0;\n",
       "  overflow: hidden;\n",
       "  text-align: left;\n",
       "  /* unfitted */\n",
       "  background-color: var(--sklearn-color-unfitted-level-0);\n",
       "}\n",
       "\n",
       "#sk-container-id-1 div.sk-toggleable__content.fitted {\n",
       "  /* fitted */\n",
       "  background-color: var(--sklearn-color-fitted-level-0);\n",
       "}\n",
       "\n",
       "#sk-container-id-1 div.sk-toggleable__content pre {\n",
       "  margin: 0.2em;\n",
       "  border-radius: 0.25em;\n",
       "  color: var(--sklearn-color-text);\n",
       "  /* unfitted */\n",
       "  background-color: var(--sklearn-color-unfitted-level-0);\n",
       "}\n",
       "\n",
       "#sk-container-id-1 div.sk-toggleable__content.fitted pre {\n",
       "  /* unfitted */\n",
       "  background-color: var(--sklearn-color-fitted-level-0);\n",
       "}\n",
       "\n",
       "#sk-container-id-1 input.sk-toggleable__control:checked~div.sk-toggleable__content {\n",
       "  /* Expand drop-down */\n",
       "  max-height: 200px;\n",
       "  max-width: 100%;\n",
       "  overflow: auto;\n",
       "}\n",
       "\n",
       "#sk-container-id-1 input.sk-toggleable__control:checked~label.sk-toggleable__label-arrow:before {\n",
       "  content: \"▾\";\n",
       "}\n",
       "\n",
       "/* Pipeline/ColumnTransformer-specific style */\n",
       "\n",
       "#sk-container-id-1 div.sk-label input.sk-toggleable__control:checked~label.sk-toggleable__label {\n",
       "  color: var(--sklearn-color-text);\n",
       "  background-color: var(--sklearn-color-unfitted-level-2);\n",
       "}\n",
       "\n",
       "#sk-container-id-1 div.sk-label.fitted input.sk-toggleable__control:checked~label.sk-toggleable__label {\n",
       "  background-color: var(--sklearn-color-fitted-level-2);\n",
       "}\n",
       "\n",
       "/* Estimator-specific style */\n",
       "\n",
       "/* Colorize estimator box */\n",
       "#sk-container-id-1 div.sk-estimator input.sk-toggleable__control:checked~label.sk-toggleable__label {\n",
       "  /* unfitted */\n",
       "  background-color: var(--sklearn-color-unfitted-level-2);\n",
       "}\n",
       "\n",
       "#sk-container-id-1 div.sk-estimator.fitted input.sk-toggleable__control:checked~label.sk-toggleable__label {\n",
       "  /* fitted */\n",
       "  background-color: var(--sklearn-color-fitted-level-2);\n",
       "}\n",
       "\n",
       "#sk-container-id-1 div.sk-label label.sk-toggleable__label,\n",
       "#sk-container-id-1 div.sk-label label {\n",
       "  /* The background is the default theme color */\n",
       "  color: var(--sklearn-color-text-on-default-background);\n",
       "}\n",
       "\n",
       "/* On hover, darken the color of the background */\n",
       "#sk-container-id-1 div.sk-label:hover label.sk-toggleable__label {\n",
       "  color: var(--sklearn-color-text);\n",
       "  background-color: var(--sklearn-color-unfitted-level-2);\n",
       "}\n",
       "\n",
       "/* Label box, darken color on hover, fitted */\n",
       "#sk-container-id-1 div.sk-label.fitted:hover label.sk-toggleable__label.fitted {\n",
       "  color: var(--sklearn-color-text);\n",
       "  background-color: var(--sklearn-color-fitted-level-2);\n",
       "}\n",
       "\n",
       "/* Estimator label */\n",
       "\n",
       "#sk-container-id-1 div.sk-label label {\n",
       "  font-family: monospace;\n",
       "  font-weight: bold;\n",
       "  display: inline-block;\n",
       "  line-height: 1.2em;\n",
       "}\n",
       "\n",
       "#sk-container-id-1 div.sk-label-container {\n",
       "  text-align: center;\n",
       "}\n",
       "\n",
       "/* Estimator-specific */\n",
       "#sk-container-id-1 div.sk-estimator {\n",
       "  font-family: monospace;\n",
       "  border: 1px dotted var(--sklearn-color-border-box);\n",
       "  border-radius: 0.25em;\n",
       "  box-sizing: border-box;\n",
       "  margin-bottom: 0.5em;\n",
       "  /* unfitted */\n",
       "  background-color: var(--sklearn-color-unfitted-level-0);\n",
       "}\n",
       "\n",
       "#sk-container-id-1 div.sk-estimator.fitted {\n",
       "  /* fitted */\n",
       "  background-color: var(--sklearn-color-fitted-level-0);\n",
       "}\n",
       "\n",
       "/* on hover */\n",
       "#sk-container-id-1 div.sk-estimator:hover {\n",
       "  /* unfitted */\n",
       "  background-color: var(--sklearn-color-unfitted-level-2);\n",
       "}\n",
       "\n",
       "#sk-container-id-1 div.sk-estimator.fitted:hover {\n",
       "  /* fitted */\n",
       "  background-color: var(--sklearn-color-fitted-level-2);\n",
       "}\n",
       "\n",
       "/* Specification for estimator info (e.g. \"i\" and \"?\") */\n",
       "\n",
       "/* Common style for \"i\" and \"?\" */\n",
       "\n",
       ".sk-estimator-doc-link,\n",
       "a:link.sk-estimator-doc-link,\n",
       "a:visited.sk-estimator-doc-link {\n",
       "  float: right;\n",
       "  font-size: smaller;\n",
       "  line-height: 1em;\n",
       "  font-family: monospace;\n",
       "  background-color: var(--sklearn-color-background);\n",
       "  border-radius: 1em;\n",
       "  height: 1em;\n",
       "  width: 1em;\n",
       "  text-decoration: none !important;\n",
       "  margin-left: 1ex;\n",
       "  /* unfitted */\n",
       "  border: var(--sklearn-color-unfitted-level-1) 1pt solid;\n",
       "  color: var(--sklearn-color-unfitted-level-1);\n",
       "}\n",
       "\n",
       ".sk-estimator-doc-link.fitted,\n",
       "a:link.sk-estimator-doc-link.fitted,\n",
       "a:visited.sk-estimator-doc-link.fitted {\n",
       "  /* fitted */\n",
       "  border: var(--sklearn-color-fitted-level-1) 1pt solid;\n",
       "  color: var(--sklearn-color-fitted-level-1);\n",
       "}\n",
       "\n",
       "/* On hover */\n",
       "div.sk-estimator:hover .sk-estimator-doc-link:hover,\n",
       ".sk-estimator-doc-link:hover,\n",
       "div.sk-label-container:hover .sk-estimator-doc-link:hover,\n",
       ".sk-estimator-doc-link:hover {\n",
       "  /* unfitted */\n",
       "  background-color: var(--sklearn-color-unfitted-level-3);\n",
       "  color: var(--sklearn-color-background);\n",
       "  text-decoration: none;\n",
       "}\n",
       "\n",
       "div.sk-estimator.fitted:hover .sk-estimator-doc-link.fitted:hover,\n",
       ".sk-estimator-doc-link.fitted:hover,\n",
       "div.sk-label-container:hover .sk-estimator-doc-link.fitted:hover,\n",
       ".sk-estimator-doc-link.fitted:hover {\n",
       "  /* fitted */\n",
       "  background-color: var(--sklearn-color-fitted-level-3);\n",
       "  color: var(--sklearn-color-background);\n",
       "  text-decoration: none;\n",
       "}\n",
       "\n",
       "/* Span, style for the box shown on hovering the info icon */\n",
       ".sk-estimator-doc-link span {\n",
       "  display: none;\n",
       "  z-index: 9999;\n",
       "  position: relative;\n",
       "  font-weight: normal;\n",
       "  right: .2ex;\n",
       "  padding: .5ex;\n",
       "  margin: .5ex;\n",
       "  width: min-content;\n",
       "  min-width: 20ex;\n",
       "  max-width: 50ex;\n",
       "  color: var(--sklearn-color-text);\n",
       "  box-shadow: 2pt 2pt 4pt #999;\n",
       "  /* unfitted */\n",
       "  background: var(--sklearn-color-unfitted-level-0);\n",
       "  border: .5pt solid var(--sklearn-color-unfitted-level-3);\n",
       "}\n",
       "\n",
       ".sk-estimator-doc-link.fitted span {\n",
       "  /* fitted */\n",
       "  background: var(--sklearn-color-fitted-level-0);\n",
       "  border: var(--sklearn-color-fitted-level-3);\n",
       "}\n",
       "\n",
       ".sk-estimator-doc-link:hover span {\n",
       "  display: block;\n",
       "}\n",
       "\n",
       "/* \"?\"-specific style due to the `<a>` HTML tag */\n",
       "\n",
       "#sk-container-id-1 a.estimator_doc_link {\n",
       "  float: right;\n",
       "  font-size: 1rem;\n",
       "  line-height: 1em;\n",
       "  font-family: monospace;\n",
       "  background-color: var(--sklearn-color-background);\n",
       "  border-radius: 1rem;\n",
       "  height: 1rem;\n",
       "  width: 1rem;\n",
       "  text-decoration: none;\n",
       "  /* unfitted */\n",
       "  color: var(--sklearn-color-unfitted-level-1);\n",
       "  border: var(--sklearn-color-unfitted-level-1) 1pt solid;\n",
       "}\n",
       "\n",
       "#sk-container-id-1 a.estimator_doc_link.fitted {\n",
       "  /* fitted */\n",
       "  border: var(--sklearn-color-fitted-level-1) 1pt solid;\n",
       "  color: var(--sklearn-color-fitted-level-1);\n",
       "}\n",
       "\n",
       "/* On hover */\n",
       "#sk-container-id-1 a.estimator_doc_link:hover {\n",
       "  /* unfitted */\n",
       "  background-color: var(--sklearn-color-unfitted-level-3);\n",
       "  color: var(--sklearn-color-background);\n",
       "  text-decoration: none;\n",
       "}\n",
       "\n",
       "#sk-container-id-1 a.estimator_doc_link.fitted:hover {\n",
       "  /* fitted */\n",
       "  background-color: var(--sklearn-color-fitted-level-3);\n",
       "}\n",
       "</style><div id=\"sk-container-id-1\" class=\"sk-top-container\"><div class=\"sk-text-repr-fallback\"><pre>MLPClassifier(alpha=0.01, batch_size=124, hidden_layer_sizes=(24, 6, 3),\n",
       "              max_iter=5000, random_state=2)</pre><b>In a Jupyter environment, please rerun this cell to show the HTML representation or trust the notebook. <br />On GitHub, the HTML representation is unable to render, please try loading this page with nbviewer.org.</b></div><div class=\"sk-container\" hidden><div class=\"sk-item\"><div class=\"sk-estimator fitted sk-toggleable\"><input class=\"sk-toggleable__control sk-hidden--visually\" id=\"sk-estimator-id-1\" type=\"checkbox\" checked><label for=\"sk-estimator-id-1\" class=\"sk-toggleable__label fitted sk-toggleable__label-arrow fitted\">&nbsp;&nbsp;MLPClassifier<a class=\"sk-estimator-doc-link fitted\" rel=\"noreferrer\" target=\"_blank\" href=\"https://scikit-learn.org/1.5/modules/generated/sklearn.neural_network.MLPClassifier.html\">?<span>Documentation for MLPClassifier</span></a><span class=\"sk-estimator-doc-link fitted\">i<span>Fitted</span></span></label><div class=\"sk-toggleable__content fitted\"><pre>MLPClassifier(alpha=0.01, batch_size=124, hidden_layer_sizes=(24, 6, 3),\n",
       "              max_iter=5000, random_state=2)</pre></div> </div></div></div></div>"
      ],
      "text/plain": [
       "MLPClassifier(alpha=0.01, batch_size=124, hidden_layer_sizes=(24, 6, 3),\n",
       "              max_iter=5000, random_state=2)"
      ]
     },
     "execution_count": 10,
     "metadata": {},
     "output_type": "execute_result"
    }
   ],
   "source": [
    "# Train the ANN model using the scaled training data\n",
    "net.fit(X_trainscaled, y_train)"
   ]
  },
  {
   "cell_type": "markdown",
   "metadata": {},
   "source": [
    "### Step 7 - Display some properties of the trained neural network\n",
    "\n",
    "The **coef_** attribute is implemented when the **fit()** method is called. Before that, it will be undefined."
   ]
  },
  {
   "cell_type": "code",
   "execution_count": 11,
   "metadata": {
    "execution": {
     "iopub.status.busy": "2024-11-20T09:39:10.016516Z",
     "iopub.status.idle": "2024-11-20T09:39:10.017293Z",
     "shell.execute_reply": "2024-11-20T09:39:10.017004Z",
     "shell.execute_reply.started": "2024-11-20T09:39:10.016963Z"
    },
    "trusted": true
   },
   "outputs": [
    {
     "data": {
      "text/plain": [
       "[(8, 24), (24, 6), (6, 3), (3, 1)]"
      ]
     },
     "execution_count": 11,
     "metadata": {},
     "output_type": "execute_result"
    }
   ],
   "source": [
    "# display the arhitecture of the neural network\n",
    "[coef.shape for coef in net.coefs_]"
   ]
  },
  {
   "cell_type": "code",
   "execution_count": 12,
   "metadata": {
    "execution": {
     "iopub.status.busy": "2024-11-20T09:39:10.019887Z",
     "iopub.status.idle": "2024-11-20T09:39:10.020523Z",
     "shell.execute_reply": "2024-11-20T09:39:10.020229Z",
     "shell.execute_reply.started": "2024-11-20T09:39:10.020199Z"
    },
    "trusted": true
   },
   "outputs": [
    {
     "name": "stdout",
     "output_type": "stream",
     "text": [
      "Learned weights:\n",
      "Layer 1 weights shape: (8, 24)\n",
      "[[ 1.53646768e-01 -4.38923406e-01 -1.83941033e-58 -4.38263937e-58\n",
      "  -6.25027417e-02 -2.41754097e-02 -3.20907570e-01  3.27506839e-01\n",
      "  -6.30686779e-02 -3.73569943e-20  7.17357695e-02  1.06744109e-03\n",
      "  -8.87353693e-02  1.80820170e-02 -9.96807665e-02  3.47925296e-01\n",
      "   1.67200690e-01 -2.01309369e-03  2.27584811e-01 -1.05636510e+00\n",
      "   1.60402182e-01 -1.22528473e+00 -1.13099327e-01 -2.20158173e-01]\n",
      " [-4.73290055e-01 -1.78161178e-01  3.74911775e-34 -3.14847198e-17\n",
      "  -1.79145306e-01 -8.33561161e-02 -2.21388383e-01 -1.99064475e-01\n",
      "   6.13953427e-01 -6.26045253e-05  2.75768858e-03  2.73837356e-01\n",
      "  -3.72334381e-02  1.41739519e-02 -5.37842865e-01 -7.47225864e-03\n",
      "   7.50634725e-01 -1.84763362e-01  2.07038895e-01  1.74700767e-01\n",
      "  -1.25370063e-01  3.83283392e-01  4.39977702e-01 -1.31102059e-01]\n",
      " [ 1.64820481e-01  4.48998127e-01 -1.15755299e-58 -2.69876229e-15\n",
      "  -1.77557072e-01  1.11162006e-01  7.87931330e-02 -3.14872905e-01\n",
      "  -1.50768429e-01 -2.47539380e-14  2.87131369e-01  5.28548045e-01\n",
      "   4.11135344e-01  5.67700564e-02  3.32991216e-01 -1.84621185e-01\n",
      "  -1.30688504e-01  1.70014028e-01 -7.73353831e-02 -5.63677979e-01\n",
      "   4.46859068e-01 -9.11766686e-02  1.46069723e-01 -3.85622830e-02]\n",
      " [-4.82167871e-02 -4.04240788e-01 -1.04299677e-25 -2.66013912e-40\n",
      "   2.05828911e-02 -4.08207687e-03  4.25969626e-01  2.01568150e-01\n",
      "   1.92435250e-01 -3.46560687e-12 -3.36480502e-05  1.24873135e-01\n",
      "   1.90363730e-01 -4.01110355e-02  3.45582292e-02  8.76796511e-02\n",
      "   4.50038950e-01 -2.09126736e-01 -3.27810122e-01 -4.03151048e-01\n",
      "   1.48175833e-01  2.41842099e-01 -1.07381737e-02  1.97259363e-01]\n",
      " [ 2.53274322e-01  3.74004027e-01 -2.70440825e-26  2.61145711e-18\n",
      "   6.67770156e-02 -1.46534619e-03  1.84098614e-01 -2.44073311e-01\n",
      "   3.42730806e-01 -6.89926649e-59  3.13149463e-32  5.78043355e-01\n",
      "  -3.18497817e-02 -7.29031499e-04 -2.29031435e-01  1.31948738e-01\n",
      "   1.20821420e-01 -1.07282270e-01  6.67515274e-02  6.01858095e-02\n",
      "   3.26893765e-01 -3.81512282e-01  1.25933199e-01  1.51282674e-01]\n",
      " [-8.38035986e-02  2.18187030e-01 -1.94616657e-37  3.59536998e-28\n",
      "  -2.18683934e-01 -8.28178013e-02 -4.69484293e-01 -2.68389546e-01\n",
      "   2.71975547e-01 -8.05226381e-08 -1.20737706e-01  1.96615666e-01\n",
      "  -1.86493823e-01 -1.51540428e-01 -2.33776944e-01 -1.45677512e-01\n",
      "   6.40383348e-01  2.57996866e-01 -7.36206921e-01 -1.21827977e-02\n",
      "   1.46278454e-01 -1.22392840e-01  7.88730597e-01 -3.00633630e-01]\n",
      " [ 3.49275669e-01  4.91425185e-01  2.72981484e-30 -1.91855745e-12\n",
      "   1.19690672e-01  2.98798153e-03 -4.59490282e-01 -6.34787007e-01\n",
      "  -1.66974789e-02  4.35936780e-09 -4.72846880e-02 -1.61944908e-01\n",
      "  -5.24451170e-01 -6.75654670e-02  5.32314210e-02 -4.21489648e-01\n",
      "   4.01194112e-01 -6.42419136e-02  3.39561955e-01  6.25654663e-02\n",
      "  -7.03114255e-02  5.51554761e-01 -4.29048031e-02 -4.42145748e-01]\n",
      " [ 7.67767803e-02 -5.06402107e-01  4.48056021e-53 -4.64425554e-60\n",
      "   6.15686722e-02 -1.28469769e-02 -3.29672773e-01  7.64562957e-01\n",
      "   3.26048781e-01  1.12048827e-03 -2.88768124e-02  3.38388390e-01\n",
      "  -7.69061647e-01 -4.94959741e-02  4.00120662e-01  3.08861160e-01\n",
      "  -1.62374137e-01  3.99095410e-01  9.26805262e-02 -6.10762677e-01\n",
      "  -9.17670320e-01 -9.09188113e-01  3.24856462e-01 -4.78974160e-01]]\n",
      "Layer 2 weights shape: (24, 6)\n",
      "[[ 7.92382762e-01  3.89491278e-01  3.28423589e-01 -2.48229774e-24\n",
      "   7.25270915e-01 -7.03936683e-01]\n",
      " [ 1.03090197e+00  6.67402403e-01  2.18363146e-01 -7.71775816e-13\n",
      "   6.17554981e-01 -8.55341360e-01]\n",
      " [ 3.18098183e-17  1.02311950e-43  1.87489731e-42  1.18021159e-33\n",
      "  -3.12402941e-49 -3.47269379e-33]\n",
      " [-5.81366224e-54 -2.32890117e-57  2.61925921e-13  1.23663589e-52\n",
      "  -1.61463800e-55  5.15497282e-20]\n",
      " [ 6.11111241e-01 -4.71482255e-02 -3.11775396e-01  6.19998649e-59\n",
      "   5.54555690e-01 -5.31669912e-01]\n",
      " [ 3.87765209e-03 -6.64225994e-20  3.87012463e-30 -7.73508622e-35\n",
      "   2.13703111e-03  1.39531612e-02]\n",
      " [ 6.48819227e-01 -2.44138649e-01 -7.90504363e-02 -1.02713605e-09\n",
      "   4.43352172e-01 -9.94725263e-01]\n",
      " [-4.61241673e-01 -9.73500898e-01 -6.44604807e-01 -9.25428102e-15\n",
      "   1.04400915e+00 -1.18507130e+00]\n",
      " [-6.78112087e-01  1.71110810e-01  1.26802715e-01  6.29667528e-05\n",
      "  -1.51908785e-01  4.42583426e-01]\n",
      " [-3.64346371e-14 -1.50437568e-58 -3.08085509e-26  2.02517575e-59\n",
      "   6.18462105e-31  1.30238010e-07]\n",
      " [-1.68533187e-03  5.74612287e-11  9.62484409e-11 -1.71672703e-24\n",
      "  -2.50987262e-02  1.46710496e-01]\n",
      " [-6.43160337e-02  3.98173463e-01  8.66733203e-02  5.79178935e-09\n",
      "  -5.43203158e-01  4.61719907e-01]\n",
      " [ 3.77035231e-01 -9.88532324e-01 -9.48498090e-02  3.02532457e-16\n",
      "   5.07070636e-01 -4.07410184e-01]\n",
      " [-1.38708315e-05  1.54794537e-38  1.65664332e-56  4.65248909e-58\n",
      "  -7.87017626e-03  7.81523342e-02]\n",
      " [-9.19376961e-02 -3.22584895e-01 -6.20816220e-01  6.56748798e-25\n",
      "   7.60271343e-01 -4.01699674e-01]\n",
      " [ 4.55967013e-02 -6.01975984e-01  1.40251848e-01  3.94959303e-05\n",
      "   5.08715204e-01 -1.78106670e-01]\n",
      " [ 3.31894026e-01  1.62704006e-01  1.14438398e-02 -1.54064200e-05\n",
      "  -1.94832261e-01  6.26704436e-01]\n",
      " [ 2.28305696e-01 -1.92143411e-01 -2.85602588e-01 -1.01917256e-05\n",
      "   4.96121154e-01  1.09322664e-01]\n",
      " [ 4.69504616e-01 -1.50180086e-01  1.91919896e-01 -4.66994159e-11\n",
      "   2.29077056e-01 -5.48706312e-01]\n",
      " [-6.88922374e-01  2.95326284e-03 -2.10402662e-01 -6.47236519e-31\n",
      "  -7.40392026e-01  1.02735880e+00]\n",
      " [ 1.08510911e-01 -1.13496391e-02  4.29070677e-01  3.85291814e-43\n",
      "   1.46192542e-01 -4.89719247e-01]\n",
      " [-1.21663983e+00 -1.48201480e+00 -9.60095109e-01 -3.99316307e-52\n",
      "  -1.03739394e+00  1.66000260e+00]\n",
      " [-4.59365230e-01  1.49240031e-02 -8.37618344e-02 -1.14002199e-20\n",
      "   5.03554722e-02  7.42528776e-01]\n",
      " [ 8.30282252e-01  1.87267498e-02  1.63858055e-01  7.51141143e-35\n",
      "   8.34748129e-01 -6.91797496e-01]]\n",
      "Layer 3 weights shape: (6, 3)\n",
      "[[-1.20661281e-04  7.55163145e-10 -7.82762835e-01]\n",
      " [-4.42442981e-40  9.78452407e-18 -1.96324453e+00]\n",
      " [ 9.34976771e-06  3.98821501e-08 -1.12994008e+00]\n",
      " [-7.38018149e-09 -4.06478257e-05 -1.65736632e-20]\n",
      " [ 1.78271757e-16  1.67491120e-08 -8.64129487e-01]\n",
      " [-3.34816031e-10 -2.96486788e-26  1.50998089e+00]]\n",
      "Layer 4 weights shape: (3, 1)\n",
      "[[-9.08437429e-04]\n",
      " [-3.79905419e-07]\n",
      " [ 1.66220790e+00]]\n"
     ]
    }
   ],
   "source": [
    "# # Step : display the learned weights\n",
    "print(\"Learned weights:\")\n",
    "for i, coef in enumerate(net.coefs_):\n",
    "    print(f\"Layer {i + 1} weights shape: {coef.shape}\\n{coef}\")"
   ]
  },
  {
   "cell_type": "code",
   "execution_count": 13,
   "metadata": {
    "execution": {
     "iopub.status.busy": "2024-11-20T09:39:10.021981Z",
     "iopub.status.idle": "2024-11-20T09:39:10.022939Z",
     "shell.execute_reply": "2024-11-20T09:39:10.022343Z",
     "shell.execute_reply.started": "2024-11-20T09:39:10.022310Z"
    },
    "trusted": true
   },
   "outputs": [
    {
     "name": "stdout",
     "output_type": "stream",
     "text": [
      "Learned biases:\n",
      "Layer 1 biases shape: (24,)\n",
      "[ 3.47264863e-01 -5.46678110e-02 -2.59078130e-01 -9.67054350e-02\n",
      "  2.63950652e-01  4.59393618e-04  5.91143988e-01  2.41821875e-01\n",
      " -4.20292883e-03 -4.98924801e-02 -2.42908440e-01 -3.85367364e-01\n",
      "  2.66610826e-01  1.33089167e-02  5.05510518e-01  2.94445354e-01\n",
      "  3.16114946e-01  5.52850631e-01  3.33630624e-01  2.15800552e-01\n",
      " -1.30019090e-01 -1.93064490e-01 -1.13150050e-01  5.35968339e-01]\n",
      "Layer 2 biases shape: (6,)\n",
      "[-0.09688989 -0.20525873  0.05535929 -0.181028   -0.02987516  0.27483253]\n",
      "Layer 3 biases shape: (3,)\n",
      "[-0.65958112 -0.55165212  0.30683178]\n",
      "Layer 4 biases shape: (1,)\n",
      "[-2.09515911]\n"
     ]
    }
   ],
   "source": [
    "# Step : display the learned biases\n",
    "print(\"Learned biases:\")\n",
    "for i, intercept in enumerate(net.intercepts_):\n",
    "    print(f\"Layer {i + 1} biases shape: {intercept.shape}\\n{intercept}\")"
   ]
  },
  {
   "cell_type": "markdown",
   "metadata": {},
   "source": [
    "* Displaying the some properties of the trained neural network"
   ]
  },
  {
   "cell_type": "code",
   "execution_count": 14,
   "metadata": {
    "execution": {
     "iopub.status.busy": "2024-11-20T09:39:10.025426Z",
     "iopub.status.idle": "2024-11-20T09:39:10.026121Z",
     "shell.execute_reply": "2024-11-20T09:39:10.025839Z",
     "shell.execute_reply.started": "2024-11-20T09:39:10.025807Z"
    },
    "trusted": true
   },
   "outputs": [
    {
     "name": "stdout",
     "output_type": "stream",
     "text": [
      "Activation function for hidden layers : relu\n",
      "Output layer activation automatically set : logistic\n",
      "the input size automatically set : 8\n",
      "Solver (training algorithm) : adam\n",
      "Alpha value : 0.01\n",
      "Number of the training : 497\n"
     ]
    }
   ],
   "source": [
    "print('Activation function for hidden layers : {}'.format(net.activation))\n",
    "# Hidden layer activation functions {‘identity’, ‘logistic’, ‘tanh’, ‘relu’}, default=’relu’\n",
    "# Activation function for the all hidden layers is the same\n",
    "print('Output layer activation automatically set : {}'.format(net.out_activation_))\n",
    "# MLPRegressor uses identity transfer function as output activation automatically. In the current version you can not set this parameter.\n",
    "print('the input size automatically set : {}'.format(net.n_features_in_))\n",
    "# MLPRegressor sets input size during the training by looking at the input variable automatically. In the current version you can not set this parameter.\n",
    "print('Solver (training algorithm) : {}'.format(net.solver))\n",
    "# solver{‘lbfgs’, ‘sgd’, ‘adam’}, default=’adam’\n",
    "print('Alpha value : {}'.format(net.alpha))\n",
    "print('Number of the training : {}'.format(net.n_iter_))\n",
    "\n",
    "# MLPRegressor uses the Mean Square Error loss function. In the current version you can not set this parameter.\n",
    "\n"
   ]
  },
  {
   "cell_type": "code",
   "execution_count": 15,
   "metadata": {
    "execution": {
     "iopub.status.busy": "2024-11-20T09:39:10.028542Z",
     "iopub.status.idle": "2024-11-20T09:39:10.029101Z",
     "shell.execute_reply": "2024-11-20T09:39:10.028919Z",
     "shell.execute_reply.started": "2024-11-20T09:39:10.028898Z"
    },
    "trusted": true
   },
   "outputs": [
    {
     "name": "stdout",
     "output_type": "stream",
     "text": [
      "Confusion matrix:\n",
      " [[100  23]\n",
      " [ 22  47]]\n"
     ]
    }
   ],
   "source": [
    "from sklearn.metrics import confusion_matrix\n",
    "y_pred = net.predict(X_testscaled)\n",
    "cf_matrix = confusion_matrix(y_test, y_pred)\n",
    "print(\"Confusion matrix:\\n\",cf_matrix)"
   ]
  },
  {
   "cell_type": "markdown",
   "metadata": {},
   "source": [
    "### Step 8 - Predict on the test data and estimate accuracy of the trained network."
   ]
  },
  {
   "cell_type": "code",
   "execution_count": 16,
   "metadata": {
    "execution": {
     "iopub.status.busy": "2024-11-20T09:39:10.030903Z",
     "iopub.status.idle": "2024-11-20T09:39:10.031371Z",
     "shell.execute_reply": "2024-11-20T09:39:10.031195Z",
     "shell.execute_reply.started": "2024-11-20T09:39:10.031175Z"
    },
    "trusted": true
   },
   "outputs": [
    {
     "name": "stdout",
     "output_type": "stream",
     "text": [
      "Training accuracy: 0.8159722222222222\n"
     ]
    }
   ],
   "source": [
    "# Step : Display the accuracy of the ANN model using the training data\n",
    "print(\"Training accuracy:\", net.score(X_trainscaled, y_train))\n"
   ]
  },
  {
   "cell_type": "code",
   "execution_count": 17,
   "metadata": {
    "execution": {
     "iopub.status.busy": "2024-11-20T09:39:10.034113Z",
     "iopub.status.idle": "2024-11-20T09:39:10.034551Z",
     "shell.execute_reply": "2024-11-20T09:39:10.034373Z",
     "shell.execute_reply.started": "2024-11-20T09:39:10.034353Z"
    },
    "trusted": true
   },
   "outputs": [
    {
     "name": "stdout",
     "output_type": "stream",
     "text": [
      "Test accuracy: 0.765625\n"
     ]
    }
   ],
   "source": [
    "# Step : Display the test accuracy of the ANN model using the test data\n",
    "print(\"Test accuracy:\", net.score(X_testscaled, y_test))"
   ]
  },
  {
   "cell_type": "code",
   "execution_count": 18,
   "metadata": {
    "execution": {
     "iopub.status.busy": "2024-11-20T09:39:10.036629Z",
     "iopub.status.idle": "2024-11-20T09:39:10.037295Z",
     "shell.execute_reply": "2024-11-20T09:39:10.037009Z",
     "shell.execute_reply.started": "2024-11-20T09:39:10.036978Z"
    },
    "trusted": true
   },
   "outputs": [
    {
     "data": {
      "image/png": "[encoded data removed]",
      "text/plain": [
       "<Figure size 640x480 with 1 Axes>"
      ]
     },
     "metadata": {},
     "output_type": "display_data"
    }
   ],
   "source": [
    "from sklearn.metrics import roc_curve\n",
    "import matplotlib.pyplot as plt\n",
    "# %matplotlib inline\n",
    "\n",
    "y_pred_prob = net.predict_proba(X_test)[:,1]\n",
    "\n",
    "fpr, tpr, thresholds = roc_curve(y_test, y_pred_prob)# create plot\n",
    "plt.plot(fpr, tpr, label='ROC curve')\n",
    "plt.plot([0, 1], [0, 1], 'k--', label='Random guess')\n",
    "_ = plt.xlabel('False Positive Rate')\n",
    "_ = plt.ylabel('True Positive Rate')\n",
    "_ = plt.title('ROC Curve')\n",
    "_ = plt.xlim([-0.02, 1])\n",
    "_ = plt.ylim([0, 1.02])\n",
    "_ = plt.legend(loc=\"lower right\")\n",
    "plt.show()"
   ]
  },
  {
   "cell_type": "markdown",
   "metadata": {},
   "source": [
    "### Step 9 - Scoring: Making the prediction using the trained network "
   ]
  },
  {
   "attachments": {
    "94d15797-2653-4b8d-91c2-db06959d549b.png": {
     "image/png": "[encoded data removed]"
    }
   },
   "cell_type": "markdown",
   "metadata": {},
   "source": [
    "![image.png](attachment:94d15797-2653-4b8d-91c2-db06959d549b.png)"
   ]
  },
  {
   "cell_type": "code",
   "execution_count": 19,
   "metadata": {
    "execution": {
     "iopub.status.busy": "2024-11-20T09:39:10.038718Z",
     "iopub.status.idle": "2024-11-20T09:39:10.040808Z",
     "shell.execute_reply": "2024-11-20T09:39:10.040334Z",
     "shell.execute_reply.started": "2024-11-20T09:39:10.040295Z"
    },
    "trusted": true
   },
   "outputs": [
    {
     "name": "stdout",
     "output_type": "stream",
     "text": [
      "Prediction for input [  6.    148.     72.     35.      0.     33.6     0.627  50.   ]: 1\n"
     ]
    }
   ],
   "source": [
    "# Step 7: Make a prediction and display for the following inputs [6,148,72,35,0,33.6,0.627,50]\n",
    "\n",
    "new_input = np.array([6, 148, 72, 35, 0, 33.6, 0.627, 50])\n",
    "new_input_scaled = scaler.transform([new_input])\n",
    "\n",
    "prediction = net.predict(new_input_scaled)\n",
    "\n",
    "print(f\"Prediction for input {new_input}: {prediction[0]}\")\n"
   ]
  },
  {
   "cell_type": "code",
   "execution_count": 20,
   "metadata": {
    "execution": {
     "iopub.status.busy": "2024-11-20T09:39:10.042926Z",
     "iopub.status.idle": "2024-11-20T09:39:10.043503Z",
     "shell.execute_reply": "2024-11-20T09:39:10.043206Z",
     "shell.execute_reply.started": "2024-11-20T09:39:10.043187Z"
    },
    "trusted": true
   },
   "outputs": [
    {
     "data": {
      "application/vnd.jupyter.widget-view+json": {
       "model_id": "4012444768c24c7ea96654475d123603",
       "version_major": 2,
       "version_minor": 0
      },
      "text/plain": [
       "interactive(children=(FloatSlider(value=6.0, description='Pregnancies:', max=20.0, step=1.0), FloatSlider(valu…"
      ]
     },
     "metadata": {},
     "output_type": "display_data"
    }
   ],
   "source": [
    "# Using the trained network in the production environment to make the real time prediction\n",
    "\n",
    "import ipywidgets as widgets\n",
    "from ipywidgets import interact\n",
    "import numpy as np\n",
    "# Using interact() as a decorator\n",
    "@interact(\n",
    "    # Specifying the handler for the arguments in the function predict\n",
    "    x1 = widgets.FloatSlider(min=0, max=20, step=1, value=6, description=\"Pregnancies:\"),\n",
    "    x2 = widgets.FloatSlider(min=0, max=210, step=1, value=148, description=\"Glucose:\"),\n",
    "    x3 = widgets.FloatSlider(min=0, max=140, step=1, value=72, description=\"Blood Pressure:\"),\n",
    "    x4 = widgets.FloatSlider(min=0, max=110, step=1, value=35, description=\"Skin Thickness:\"),\n",
    "    x5 = widgets.FloatSlider(min=0, max=900, step=1, value=0, description=\"Insulin:\"),\n",
    "    x6 = widgets.FloatSlider(min=0, max=80, step=0.1, value=33.6, description=\"BMI:\"),\n",
    "    x7 = widgets.FloatSlider(min=0, max=2.5, step=0.01, value=0.627, description=\"Diabetes Pedigree Function:\"),\n",
    "    x8 = widgets.FloatSlider(min=1, max=100, step=1, value=50, description=\"Age:\")\n",
    ")\n",
    "\n",
    "def predict(x1, x2, x3, x4, x5, x6, x7, x8):\n",
    "   \n",
    "    # present new data\n",
    "    new_input = np.array([x1, x2, x3, x4, x5, x6, x7, x8])\n",
    "    new_input_scaled = scaler.transform([new_input])\n",
    "    # make a prediction\n",
    "    yhat = net.predict(new_input_scaled)\n",
    "    # summarize prediction\n",
    "    print('If inputs are [%1.1f, %1.1f,%1.1f, %1.1f,%1.1f,%1.1f, %1.1f,%1.1f] prediction for the diabates is : %d' % (x1,x2,x3,x4,x5,x6,x7,x8,yhat[0]))"
   ]
  },
  {
   "cell_type": "markdown",
   "metadata": {},
   "source": [
    "# II - How to design ANN for binary classification tasks using the Tensorflow - Keras"
   ]
  },
  {
   "attachments": {
    "090857fe-0be5-4cbf-b2f0-32a903892be0.png": {
     "image/png": "[encoded data removed]"
    }
   },
   "cell_type": "markdown",
   "metadata": {},
   "source": [
    "## Design (Implement) the Neural networks using the Keras\n",
    "**Keras** is an **open-source DL library** that provides a Python interface **for** **neural networks**. Keras acts as an interface for the TensorFlow library. \n",
    "Designed to develop **deep neural networks** fast, it focuses on being user-friendly, modular, and extensible.\n",
    "\n",
    "Using **Keras library's dense layer** module, you can design the feedforward artificial neural networks.  \n",
    "\n",
    "![image.png](attachment:090857fe-0be5-4cbf-b2f0-32a903892be0.png)"
   ]
  },
  {
   "cell_type": "code",
   "execution_count": 21,
   "metadata": {
    "execution": {
     "iopub.status.busy": "2024-11-20T09:39:10.046241Z",
     "iopub.status.idle": "2024-11-20T09:39:10.046794Z",
     "shell.execute_reply": "2024-11-20T09:39:10.046534Z",
     "shell.execute_reply.started": "2024-11-20T09:39:10.046497Z"
    },
    "trusted": true
   },
   "outputs": [
    {
     "data": {
      "text/html": [
       "<pre style=\"white-space:pre;overflow-x:auto;line-height:normal;font-family:Menlo,'DejaVu Sans Mono',consolas,'Courier New',monospace\"><span style=\"font-weight: bold\">Model: \"sequential\"</span>\n",
       "</pre>\n"
      ],
      "text/plain": [
       "\u001b[1mModel: \"sequential\"\u001b[0m\n"
      ]
     },
     "metadata": {},
     "output_type": "display_data"
    },
    {
     "data": {
      "text/html": [
       "<pre style=\"white-space:pre;overflow-x:auto;line-height:normal;font-family:Menlo,'DejaVu Sans Mono',consolas,'Courier New',monospace\">┏━━━━━━━━━━━━━━━━━━━━━━━━━━━━━━━━━┳━━━━━━━━━━━━━━━━━━━━━━━━┳━━━━━━━━━━━━━━━┓\n",
       "┃<span style=\"font-weight: bold\"> Layer (type)                    </span>┃<span style=\"font-weight: bold\"> Output Shape           </span>┃<span style=\"font-weight: bold\">       Param # </span>┃\n",
       "┡━━━━━━━━━━━━━━━━━━━━━━━━━━━━━━━━━╇━━━━━━━━━━━━━━━━━━━━━━━━╇━━━━━━━━━━━━━━━┩\n",
       "│ dense (<span style=\"color: #0087ff; text-decoration-color: #0087ff\">Dense</span>)                   │ (<span style=\"color: #00d7ff; text-decoration-color: #00d7ff\">None</span>, <span style=\"color: #00af00; text-decoration-color: #00af00\">24</span>)             │           <span style=\"color: #00af00; text-decoration-color: #00af00\">216</span> │\n",
       "├─────────────────────────────────┼────────────────────────┼───────────────┤\n",
       "│ dense_1 (<span style=\"color: #0087ff; text-decoration-color: #0087ff\">Dense</span>)                 │ (<span style=\"color: #00d7ff; text-decoration-color: #00d7ff\">None</span>, <span style=\"color: #00af00; text-decoration-color: #00af00\">12</span>)             │           <span style=\"color: #00af00; text-decoration-color: #00af00\">300</span> │\n",
       "├─────────────────────────────────┼────────────────────────┼───────────────┤\n",
       "│ dense_2 (<span style=\"color: #0087ff; text-decoration-color: #0087ff\">Dense</span>)                 │ (<span style=\"color: #00d7ff; text-decoration-color: #00d7ff\">None</span>, <span style=\"color: #00af00; text-decoration-color: #00af00\">1</span>)              │            <span style=\"color: #00af00; text-decoration-color: #00af00\">13</span> │\n",
       "└─────────────────────────────────┴────────────────────────┴───────────────┘\n",
       "</pre>\n"
      ],
      "text/plain": [
       "┏━━━━━━━━━━━━━━━━━━━━━━━━━━━━━━━━━┳━━━━━━━━━━━━━━━━━━━━━━━━┳━━━━━━━━━━━━━━━┓\n",
       "┃\u001b[1m \u001b[0m\u001b[1mLayer (type)                   \u001b[0m\u001b[1m \u001b[0m┃\u001b[1m \u001b[0m\u001b[1mOutput Shape          \u001b[0m\u001b[1m \u001b[0m┃\u001b[1m \u001b[0m\u001b[1m      Param #\u001b[0m\u001b[1m \u001b[0m┃\n",
       "┡━━━━━━━━━━━━━━━━━━━━━━━━━━━━━━━━━╇━━━━━━━━━━━━━━━━━━━━━━━━╇━━━━━━━━━━━━━━━┩\n",
       "│ dense (\u001b[38;5;33mDense\u001b[0m)                   │ (\u001b[38;5;45mNone\u001b[0m, \u001b[38;5;34m24\u001b[0m)             │           \u001b[38;5;34m216\u001b[0m │\n",
       "├─────────────────────────────────┼────────────────────────┼───────────────┤\n",
       "│ dense_1 (\u001b[38;5;33mDense\u001b[0m)                 │ (\u001b[38;5;45mNone\u001b[0m, \u001b[38;5;34m12\u001b[0m)             │           \u001b[38;5;34m300\u001b[0m │\n",
       "├─────────────────────────────────┼────────────────────────┼───────────────┤\n",
       "│ dense_2 (\u001b[38;5;33mDense\u001b[0m)                 │ (\u001b[38;5;45mNone\u001b[0m, \u001b[38;5;34m1\u001b[0m)              │            \u001b[38;5;34m13\u001b[0m │\n",
       "└─────────────────────────────────┴────────────────────────┴───────────────┘\n"
      ]
     },
     "metadata": {},
     "output_type": "display_data"
    },
    {
     "data": {
      "text/html": [
       "<pre style=\"white-space:pre;overflow-x:auto;line-height:normal;font-family:Menlo,'DejaVu Sans Mono',consolas,'Courier New',monospace\"><span style=\"font-weight: bold\"> Total params: </span><span style=\"color: #00af00; text-decoration-color: #00af00\">529</span> (2.07 KB)\n",
       "</pre>\n"
      ],
      "text/plain": [
       "\u001b[1m Total params: \u001b[0m\u001b[38;5;34m529\u001b[0m (2.07 KB)\n"
      ]
     },
     "metadata": {},
     "output_type": "display_data"
    },
    {
     "data": {
      "text/html": [
       "<pre style=\"white-space:pre;overflow-x:auto;line-height:normal;font-family:Menlo,'DejaVu Sans Mono',consolas,'Courier New',monospace\"><span style=\"font-weight: bold\"> Trainable params: </span><span style=\"color: #00af00; text-decoration-color: #00af00\">529</span> (2.07 KB)\n",
       "</pre>\n"
      ],
      "text/plain": [
       "\u001b[1m Trainable params: \u001b[0m\u001b[38;5;34m529\u001b[0m (2.07 KB)\n"
      ]
     },
     "metadata": {},
     "output_type": "display_data"
    },
    {
     "data": {
      "text/html": [
       "<pre style=\"white-space:pre;overflow-x:auto;line-height:normal;font-family:Menlo,'DejaVu Sans Mono',consolas,'Courier New',monospace\"><span style=\"font-weight: bold\"> Non-trainable params: </span><span style=\"color: #00af00; text-decoration-color: #00af00\">0</span> (0.00 B)\n",
       "</pre>\n"
      ],
      "text/plain": [
       "\u001b[1m Non-trainable params: \u001b[0m\u001b[38;5;34m0\u001b[0m (0.00 B)\n"
      ]
     },
     "metadata": {},
     "output_type": "display_data"
    }
   ],
   "source": [
    "from tensorflow.keras.models import Sequential\n",
    "from tensorflow.keras.layers import Dense, Input, Activation\n",
    "\n",
    "# Step 8: Design an ANN model using an Input layer, 2 hidden layers with the numbers of 24,12 neurons with relu activation function \n",
    "# and output layer\n",
    "\n",
    "n_input_variables = X.shape[1]  # 5\n",
    "\n",
    "model = Sequential()\n",
    "model.add(Input(shape=(n_input_variables,)))    # Input layer\n",
    "model.add(Dense(24, activation='relu'))    # Hidden layer 1 (dense layer 1)\n",
    "model.add(Dense(12, activation='relu'))    # Hidden layer 2 (dense layer 2)\n",
    "model.add(Dense(1))    # Output layer   (dense layer 3)\n",
    "    \n",
    "model.summary()\n"
   ]
  },
  {
   "cell_type": "markdown",
   "metadata": {},
   "source": [
    "## Train and Scoring the model\n",
    "Keras library provides function for training, evaluation and prediction process. \n",
    "\n",
    "**compile** − Configure the model for training\n",
    "\n",
    "**fit** − Train the model using the training data\n",
    "\n",
    "**evaluate** − Evaluate the model using the test data\n",
    "\n",
    "**predict** − Make prediction for new inputs."
   ]
  },
  {
   "cell_type": "code",
   "execution_count": 22,
   "metadata": {
    "execution": {
     "iopub.status.busy": "2024-11-20T09:39:10.049062Z",
     "iopub.status.idle": "2024-11-20T09:39:10.051320Z",
     "shell.execute_reply": "2024-11-20T09:39:10.051078Z",
     "shell.execute_reply.started": "2024-11-20T09:39:10.051048Z"
    },
    "trusted": true
   },
   "outputs": [],
   "source": [
    "#Compiling the neural network\n",
    "model.compile(optimizer ='adam',loss='binary_crossentropy', metrics =['accuracy'])"
   ]
  },
  {
   "cell_type": "code",
   "execution_count": 23,
   "metadata": {
    "execution": {
     "iopub.status.busy": "2024-11-20T09:39:10.052664Z",
     "iopub.status.idle": "2024-11-20T09:39:10.053275Z",
     "shell.execute_reply": "2024-11-20T09:39:10.053074Z",
     "shell.execute_reply.started": "2024-11-20T09:39:10.053050Z"
    },
    "trusted": true
   },
   "outputs": [
    {
     "name": "stdout",
     "output_type": "stream",
     "text": [
      "Epoch 1/150\n",
      "\u001b[1m58/58\u001b[0m \u001b[32m━━━━━━━━━━━━━━━━━━━━\u001b[0m\u001b[37m\u001b[0m \u001b[1m2s\u001b[0m 6ms/step - accuracy: 0.6731 - loss: 1.1873 - val_accuracy: 0.6719 - val_loss: 0.6635\n",
      "Epoch 2/150\n",
      "\u001b[1m58/58\u001b[0m \u001b[32m━━━━━━━━━━━━━━━━━━━━\u001b[0m\u001b[37m\u001b[0m \u001b[1m0s\u001b[0m 2ms/step - accuracy: 0.6912 - loss: 0.5958 - val_accuracy: 0.6458 - val_loss: 0.6309\n",
      "Epoch 3/150\n",
      "\u001b[1m58/58\u001b[0m \u001b[32m━━━━━━━━━━━━━━━━━━━━\u001b[0m\u001b[37m\u001b[0m \u001b[1m0s\u001b[0m 3ms/step - accuracy: 0.6862 - loss: 0.5755 - val_accuracy: 0.6719 - val_loss: 0.6093\n",
      "Epoch 4/150\n",
      "\u001b[1m58/58\u001b[0m \u001b[32m━━━━━━━━━━━━━━━━━━━━\u001b[0m\u001b[37m\u001b[0m \u001b[1m0s\u001b[0m 2ms/step - accuracy: 0.6935 - loss: 0.5570 - val_accuracy: 0.6562 - val_loss: 0.5920\n",
      "Epoch 5/150\n",
      "\u001b[1m58/58\u001b[0m \u001b[32m━━━━━━━━━━━━━━━━━━━━\u001b[0m\u001b[37m\u001b[0m \u001b[1m0s\u001b[0m 2ms/step - accuracy: 0.7022 - loss: 0.5394 - val_accuracy: 0.6562 - val_loss: 0.5800\n",
      "Epoch 6/150\n",
      "\u001b[1m58/58\u001b[0m \u001b[32m━━━━━━━━━━━━━━━━━━━━\u001b[0m\u001b[37m\u001b[0m \u001b[1m0s\u001b[0m 3ms/step - accuracy: 0.7076 - loss: 0.5248 - val_accuracy: 0.6510 - val_loss: 0.5719\n",
      "Epoch 7/150\n",
      "\u001b[1m58/58\u001b[0m \u001b[32m━━━━━━━━━━━━━━━━━━━━\u001b[0m\u001b[37m\u001b[0m \u001b[1m0s\u001b[0m 3ms/step - accuracy: 0.7350 - loss: 0.5115 - val_accuracy: 0.6562 - val_loss: 0.5689\n",
      "Epoch 8/150\n",
      "\u001b[1m58/58\u001b[0m \u001b[32m━━━━━━━━━━━━━━━━━━━━\u001b[0m\u001b[37m\u001b[0m \u001b[1m0s\u001b[0m 2ms/step - accuracy: 0.7447 - loss: 0.5002 - val_accuracy: 0.6667 - val_loss: 0.5675\n",
      "Epoch 9/150\n",
      "\u001b[1m58/58\u001b[0m \u001b[32m━━━━━━━━━━━━━━━━━━━━\u001b[0m\u001b[37m\u001b[0m \u001b[1m0s\u001b[0m 2ms/step - accuracy: 0.7544 - loss: 0.4899 - val_accuracy: 0.6927 - val_loss: 0.5698\n",
      "Epoch 10/150\n",
      "\u001b[1m58/58\u001b[0m \u001b[32m━━━━━━━━━━━━━━━━━━━━\u001b[0m\u001b[37m\u001b[0m \u001b[1m0s\u001b[0m 2ms/step - accuracy: 0.7633 - loss: 0.4808 - val_accuracy: 0.6875 - val_loss: 0.6361\n",
      "Epoch 11/150\n",
      "\u001b[1m58/58\u001b[0m \u001b[32m━━━━━━━━━━━━━━━━━━━━\u001b[0m\u001b[37m\u001b[0m \u001b[1m0s\u001b[0m 2ms/step - accuracy: 0.7676 - loss: 0.4730 - val_accuracy: 0.7135 - val_loss: 0.6369\n",
      "Epoch 12/150\n",
      "\u001b[1m58/58\u001b[0m \u001b[32m━━━━━━━━━━━━━━━━━━━━\u001b[0m\u001b[37m\u001b[0m \u001b[1m0s\u001b[0m 2ms/step - accuracy: 0.7854 - loss: 0.4650 - val_accuracy: 0.7135 - val_loss: 0.6529\n",
      "Epoch 13/150\n",
      "\u001b[1m58/58\u001b[0m \u001b[32m━━━━━━━━━━━━━━━━━━━━\u001b[0m\u001b[37m\u001b[0m \u001b[1m0s\u001b[0m 2ms/step - accuracy: 0.7866 - loss: 0.4584 - val_accuracy: 0.7188 - val_loss: 0.7013\n",
      "Epoch 14/150\n",
      "\u001b[1m58/58\u001b[0m \u001b[32m━━━━━━━━━━━━━━━━━━━━\u001b[0m\u001b[37m\u001b[0m \u001b[1m0s\u001b[0m 3ms/step - accuracy: 0.7892 - loss: 0.4515 - val_accuracy: 0.7135 - val_loss: 0.6961\n",
      "Epoch 15/150\n",
      "\u001b[1m58/58\u001b[0m \u001b[32m━━━━━━━━━━━━━━━━━━━━\u001b[0m\u001b[37m\u001b[0m \u001b[1m0s\u001b[0m 2ms/step - accuracy: 0.7918 - loss: 0.4470 - val_accuracy: 0.7188 - val_loss: 0.7512\n",
      "Epoch 16/150\n",
      "\u001b[1m58/58\u001b[0m \u001b[32m━━━━━━━━━━━━━━━━━━━━\u001b[0m\u001b[37m\u001b[0m \u001b[1m0s\u001b[0m 3ms/step - accuracy: 0.7926 - loss: 0.4413 - val_accuracy: 0.7448 - val_loss: 0.7514\n",
      "Epoch 17/150\n",
      "\u001b[1m58/58\u001b[0m \u001b[32m━━━━━━━━━━━━━━━━━━━━\u001b[0m\u001b[37m\u001b[0m \u001b[1m0s\u001b[0m 2ms/step - accuracy: 0.8010 - loss: 0.4368 - val_accuracy: 0.7500 - val_loss: 0.7540\n",
      "Epoch 18/150\n",
      "\u001b[1m58/58\u001b[0m \u001b[32m━━━━━━━━━━━━━━━━━━━━\u001b[0m\u001b[37m\u001b[0m \u001b[1m0s\u001b[0m 3ms/step - accuracy: 0.7954 - loss: 0.4311 - val_accuracy: 0.7448 - val_loss: 0.8095\n",
      "Epoch 19/150\n",
      "\u001b[1m58/58\u001b[0m \u001b[32m━━━━━━━━━━━━━━━━━━━━\u001b[0m\u001b[37m\u001b[0m \u001b[1m0s\u001b[0m 2ms/step - accuracy: 0.7946 - loss: 0.4273 - val_accuracy: 0.7552 - val_loss: 0.8083\n",
      "Epoch 20/150\n",
      "\u001b[1m58/58\u001b[0m \u001b[32m━━━━━━━━━━━━━━━━━━━━\u001b[0m\u001b[37m\u001b[0m \u001b[1m0s\u001b[0m 2ms/step - accuracy: 0.7934 - loss: 0.4235 - val_accuracy: 0.7552 - val_loss: 0.8068\n",
      "Epoch 21/150\n",
      "\u001b[1m58/58\u001b[0m \u001b[32m━━━━━━━━━━━━━━━━━━━━\u001b[0m\u001b[37m\u001b[0m \u001b[1m0s\u001b[0m 2ms/step - accuracy: 0.7974 - loss: 0.4182 - val_accuracy: 0.7656 - val_loss: 0.8057\n",
      "Epoch 22/150\n",
      "\u001b[1m58/58\u001b[0m \u001b[32m━━━━━━━━━━━━━━━━━━━━\u001b[0m\u001b[37m\u001b[0m \u001b[1m0s\u001b[0m 2ms/step - accuracy: 0.7912 - loss: 0.4161 - val_accuracy: 0.7656 - val_loss: 0.8068\n",
      "Epoch 23/150\n",
      "\u001b[1m58/58\u001b[0m \u001b[32m━━━━━━━━━━━━━━━━━━━━\u001b[0m\u001b[37m\u001b[0m \u001b[1m0s\u001b[0m 2ms/step - accuracy: 0.8012 - loss: 0.4132 - val_accuracy: 0.7760 - val_loss: 0.8044\n",
      "Epoch 24/150\n",
      "\u001b[1m58/58\u001b[0m \u001b[32m━━━━━━━━━━━━━━━━━━━━\u001b[0m\u001b[37m\u001b[0m \u001b[1m0s\u001b[0m 2ms/step - accuracy: 0.7920 - loss: 0.4101 - val_accuracy: 0.7708 - val_loss: 0.8040\n",
      "Epoch 25/150\n",
      "\u001b[1m58/58\u001b[0m \u001b[32m━━━━━━━━━━━━━━━━━━━━\u001b[0m\u001b[37m\u001b[0m \u001b[1m0s\u001b[0m 3ms/step - accuracy: 0.7922 - loss: 0.4070 - val_accuracy: 0.7708 - val_loss: 0.8051\n",
      "Epoch 26/150\n",
      "\u001b[1m58/58\u001b[0m \u001b[32m━━━━━━━━━━━━━━━━━━━━\u001b[0m\u001b[37m\u001b[0m \u001b[1m0s\u001b[0m 2ms/step - accuracy: 0.7989 - loss: 0.4057 - val_accuracy: 0.7760 - val_loss: 0.8046\n",
      "Epoch 27/150\n",
      "\u001b[1m58/58\u001b[0m \u001b[32m━━━━━━━━━━━━━━━━━━━━\u001b[0m\u001b[37m\u001b[0m \u001b[1m0s\u001b[0m 2ms/step - accuracy: 0.7996 - loss: 0.4028 - val_accuracy: 0.7812 - val_loss: 0.8076\n",
      "Epoch 28/150\n",
      "\u001b[1m58/58\u001b[0m \u001b[32m━━━━━━━━━━━━━━━━━━━━\u001b[0m\u001b[37m\u001b[0m \u001b[1m0s\u001b[0m 2ms/step - accuracy: 0.7994 - loss: 0.4014 - val_accuracy: 0.7812 - val_loss: 0.8069\n",
      "Epoch 29/150\n",
      "\u001b[1m58/58\u001b[0m \u001b[32m━━━━━━━━━━━━━━━━━━━━\u001b[0m\u001b[37m\u001b[0m \u001b[1m0s\u001b[0m 3ms/step - accuracy: 0.8028 - loss: 0.3995 - val_accuracy: 0.7760 - val_loss: 0.8077\n",
      "Epoch 30/150\n",
      "\u001b[1m58/58\u001b[0m \u001b[32m━━━━━━━━━━━━━━━━━━━━\u001b[0m\u001b[37m\u001b[0m \u001b[1m0s\u001b[0m 3ms/step - accuracy: 0.8006 - loss: 0.3973 - val_accuracy: 0.7812 - val_loss: 0.8073\n",
      "Epoch 31/150\n",
      "\u001b[1m58/58\u001b[0m \u001b[32m━━━━━━━━━━━━━━━━━━━━\u001b[0m\u001b[37m\u001b[0m \u001b[1m0s\u001b[0m 2ms/step - accuracy: 0.8003 - loss: 0.3964 - val_accuracy: 0.7812 - val_loss: 0.8102\n",
      "Epoch 32/150\n",
      "\u001b[1m58/58\u001b[0m \u001b[32m━━━━━━━━━━━━━━━━━━━━\u001b[0m\u001b[37m\u001b[0m \u001b[1m0s\u001b[0m 2ms/step - accuracy: 0.7975 - loss: 0.3949 - val_accuracy: 0.7812 - val_loss: 0.8082\n",
      "Epoch 33/150\n",
      "\u001b[1m58/58\u001b[0m \u001b[32m━━━━━━━━━━━━━━━━━━━━\u001b[0m\u001b[37m\u001b[0m \u001b[1m0s\u001b[0m 3ms/step - accuracy: 0.8031 - loss: 0.3929 - val_accuracy: 0.7760 - val_loss: 0.8092\n",
      "Epoch 34/150\n",
      "\u001b[1m58/58\u001b[0m \u001b[32m━━━━━━━━━━━━━━━━━━━━\u001b[0m\u001b[37m\u001b[0m \u001b[1m0s\u001b[0m 2ms/step - accuracy: 0.8026 - loss: 0.3913 - val_accuracy: 0.7812 - val_loss: 0.8129\n",
      "Epoch 35/150\n",
      "\u001b[1m58/58\u001b[0m \u001b[32m━━━━━━━━━━━━━━━━━━━━\u001b[0m\u001b[37m\u001b[0m \u001b[1m0s\u001b[0m 3ms/step - accuracy: 0.7996 - loss: 0.3898 - val_accuracy: 0.7656 - val_loss: 0.8114\n",
      "Epoch 36/150\n",
      "\u001b[1m58/58\u001b[0m \u001b[32m━━━━━━━━━━━━━━━━━━━━\u001b[0m\u001b[37m\u001b[0m \u001b[1m0s\u001b[0m 3ms/step - accuracy: 0.8001 - loss: 0.3867 - val_accuracy: 0.7760 - val_loss: 0.8130\n",
      "Epoch 37/150\n",
      "\u001b[1m58/58\u001b[0m \u001b[32m━━━━━━━━━━━━━━━━━━━━\u001b[0m\u001b[37m\u001b[0m \u001b[1m0s\u001b[0m 2ms/step - accuracy: 0.8007 - loss: 0.3864 - val_accuracy: 0.7760 - val_loss: 0.8164\n",
      "Epoch 38/150\n",
      "\u001b[1m58/58\u001b[0m \u001b[32m━━━━━━━━━━━━━━━━━━━━\u001b[0m\u001b[37m\u001b[0m \u001b[1m0s\u001b[0m 3ms/step - accuracy: 0.7991 - loss: 0.3841 - val_accuracy: 0.7708 - val_loss: 0.8200\n",
      "Epoch 39/150\n",
      "\u001b[1m58/58\u001b[0m \u001b[32m━━━━━━━━━━━━━━━━━━━━\u001b[0m\u001b[37m\u001b[0m \u001b[1m0s\u001b[0m 2ms/step - accuracy: 0.8115 - loss: 0.3845 - val_accuracy: 0.7760 - val_loss: 0.8781\n",
      "Epoch 40/150\n",
      "\u001b[1m58/58\u001b[0m \u001b[32m━━━━━━━━━━━━━━━━━━━━\u001b[0m\u001b[37m\u001b[0m \u001b[1m0s\u001b[0m 3ms/step - accuracy: 0.8012 - loss: 0.3836 - val_accuracy: 0.7708 - val_loss: 0.8171\n",
      "Epoch 41/150\n",
      "\u001b[1m58/58\u001b[0m \u001b[32m━━━━━━━━━━━━━━━━━━━━\u001b[0m\u001b[37m\u001b[0m \u001b[1m0s\u001b[0m 2ms/step - accuracy: 0.8093 - loss: 0.3813 - val_accuracy: 0.7760 - val_loss: 0.8825\n",
      "Epoch 42/150\n",
      "\u001b[1m58/58\u001b[0m \u001b[32m━━━━━━━━━━━━━━━━━━━━\u001b[0m\u001b[37m\u001b[0m \u001b[1m0s\u001b[0m 2ms/step - accuracy: 0.8124 - loss: 0.3800 - val_accuracy: 0.7708 - val_loss: 0.8269\n",
      "Epoch 43/150\n",
      "\u001b[1m58/58\u001b[0m \u001b[32m━━━━━━━━━━━━━━━━━━━━\u001b[0m\u001b[37m\u001b[0m \u001b[1m0s\u001b[0m 3ms/step - accuracy: 0.8068 - loss: 0.3784 - val_accuracy: 0.7708 - val_loss: 0.8282\n",
      "Epoch 44/150\n",
      "\u001b[1m58/58\u001b[0m \u001b[32m━━━━━━━━━━━━━━━━━━━━\u001b[0m\u001b[37m\u001b[0m \u001b[1m0s\u001b[0m 3ms/step - accuracy: 0.8106 - loss: 0.3772 - val_accuracy: 0.7656 - val_loss: 0.8323\n",
      "Epoch 45/150\n",
      "\u001b[1m58/58\u001b[0m \u001b[32m━━━━━━━━━━━━━━━━━━━━\u001b[0m\u001b[37m\u001b[0m \u001b[1m0s\u001b[0m 2ms/step - accuracy: 0.8122 - loss: 0.3764 - val_accuracy: 0.7656 - val_loss: 0.8396\n",
      "Epoch 46/150\n",
      "\u001b[1m58/58\u001b[0m \u001b[32m━━━━━━━━━━━━━━━━━━━━\u001b[0m\u001b[37m\u001b[0m \u001b[1m0s\u001b[0m 3ms/step - accuracy: 0.8154 - loss: 0.3750 - val_accuracy: 0.7604 - val_loss: 0.8990\n",
      "Epoch 47/150\n",
      "\u001b[1m58/58\u001b[0m \u001b[32m━━━━━━━━━━━━━━━━━━━━\u001b[0m\u001b[37m\u001b[0m \u001b[1m0s\u001b[0m 2ms/step - accuracy: 0.8137 - loss: 0.3745 - val_accuracy: 0.7604 - val_loss: 0.8956\n",
      "Epoch 48/150\n",
      "\u001b[1m58/58\u001b[0m \u001b[32m━━━━━━━━━━━━━━━━━━━━\u001b[0m\u001b[37m\u001b[0m \u001b[1m0s\u001b[0m 2ms/step - accuracy: 0.8106 - loss: 0.3719 - val_accuracy: 0.7604 - val_loss: 0.9609\n",
      "Epoch 49/150\n",
      "\u001b[1m58/58\u001b[0m \u001b[32m━━━━━━━━━━━━━━━━━━━━\u001b[0m\u001b[37m\u001b[0m \u001b[1m0s\u001b[0m 3ms/step - accuracy: 0.8100 - loss: 0.3710 - val_accuracy: 0.7656 - val_loss: 0.9031\n",
      "Epoch 50/150\n",
      "\u001b[1m58/58\u001b[0m \u001b[32m━━━━━━━━━━━━━━━━━━━━\u001b[0m\u001b[37m\u001b[0m \u001b[1m0s\u001b[0m 2ms/step - accuracy: 0.8116 - loss: 0.3713 - val_accuracy: 0.7708 - val_loss: 0.9039\n",
      "Epoch 51/150\n",
      "\u001b[1m58/58\u001b[0m \u001b[32m━━━━━━━━━━━━━━━━━━━━\u001b[0m\u001b[37m\u001b[0m \u001b[1m0s\u001b[0m 2ms/step - accuracy: 0.8174 - loss: 0.3704 - val_accuracy: 0.7604 - val_loss: 0.9650\n",
      "Epoch 52/150\n",
      "\u001b[1m58/58\u001b[0m \u001b[32m━━━━━━━━━━━━━━━━━━━━\u001b[0m\u001b[37m\u001b[0m \u001b[1m0s\u001b[0m 2ms/step - accuracy: 0.8123 - loss: 0.3673 - val_accuracy: 0.7708 - val_loss: 0.9665\n",
      "Epoch 53/150\n",
      "\u001b[1m58/58\u001b[0m \u001b[32m━━━━━━━━━━━━━━━━━━━━\u001b[0m\u001b[37m\u001b[0m \u001b[1m0s\u001b[0m 2ms/step - accuracy: 0.8149 - loss: 0.3686 - val_accuracy: 0.7604 - val_loss: 1.0304\n",
      "Epoch 54/150\n",
      "\u001b[1m58/58\u001b[0m \u001b[32m━━━━━━━━━━━━━━━━━━━━\u001b[0m\u001b[37m\u001b[0m \u001b[1m0s\u001b[0m 3ms/step - accuracy: 0.8142 - loss: 0.3677 - val_accuracy: 0.7708 - val_loss: 0.9789\n",
      "Epoch 55/150\n",
      "\u001b[1m58/58\u001b[0m \u001b[32m━━━━━━━━━━━━━━━━━━━━\u001b[0m\u001b[37m\u001b[0m \u001b[1m0s\u001b[0m 3ms/step - accuracy: 0.8162 - loss: 0.3650 - val_accuracy: 0.7604 - val_loss: 0.9860\n",
      "Epoch 56/150\n",
      "\u001b[1m58/58\u001b[0m \u001b[32m━━━━━━━━━━━━━━━━━━━━\u001b[0m\u001b[37m\u001b[0m \u001b[1m0s\u001b[0m 3ms/step - accuracy: 0.8125 - loss: 0.3636 - val_accuracy: 0.7656 - val_loss: 1.0412\n",
      "Epoch 57/150\n",
      "\u001b[1m58/58\u001b[0m \u001b[32m━━━━━━━━━━━━━━━━━━━━\u001b[0m\u001b[37m\u001b[0m \u001b[1m0s\u001b[0m 2ms/step - accuracy: 0.8175 - loss: 0.3629 - val_accuracy: 0.7656 - val_loss: 1.0401\n",
      "Epoch 58/150\n",
      "\u001b[1m58/58\u001b[0m \u001b[32m━━━━━━━━━━━━━━━━━━━━\u001b[0m\u001b[37m\u001b[0m \u001b[1m0s\u001b[0m 2ms/step - accuracy: 0.8158 - loss: 0.3637 - val_accuracy: 0.7656 - val_loss: 1.0465\n",
      "Epoch 59/150\n",
      "\u001b[1m58/58\u001b[0m \u001b[32m━━━━━━━━━━━━━━━━━━━━\u001b[0m\u001b[37m\u001b[0m \u001b[1m0s\u001b[0m 2ms/step - accuracy: 0.8136 - loss: 0.3613 - val_accuracy: 0.7708 - val_loss: 1.1005\n",
      "Epoch 60/150\n",
      "\u001b[1m58/58\u001b[0m \u001b[32m━━━━━━━━━━━━━━━━━━━━\u001b[0m\u001b[37m\u001b[0m \u001b[1m0s\u001b[0m 2ms/step - accuracy: 0.8153 - loss: 0.3607 - val_accuracy: 0.7656 - val_loss: 1.1052\n",
      "Epoch 61/150\n",
      "\u001b[1m58/58\u001b[0m \u001b[32m━━━━━━━━━━━━━━━━━━━━\u001b[0m\u001b[37m\u001b[0m \u001b[1m0s\u001b[0m 3ms/step - accuracy: 0.8191 - loss: 0.3599 - val_accuracy: 0.7708 - val_loss: 1.1014\n",
      "Epoch 62/150\n",
      "\u001b[1m58/58\u001b[0m \u001b[32m━━━━━━━━━━━━━━━━━━━━\u001b[0m\u001b[37m\u001b[0m \u001b[1m0s\u001b[0m 3ms/step - accuracy: 0.8187 - loss: 0.3590 - val_accuracy: 0.7604 - val_loss: 1.1118\n",
      "Epoch 63/150\n",
      "\u001b[1m58/58\u001b[0m \u001b[32m━━━━━━━━━━━━━━━━━━━━\u001b[0m\u001b[37m\u001b[0m \u001b[1m0s\u001b[0m 2ms/step - accuracy: 0.8136 - loss: 0.3560 - val_accuracy: 0.7604 - val_loss: 1.1069\n",
      "Epoch 64/150\n",
      "\u001b[1m58/58\u001b[0m \u001b[32m━━━━━━━━━━━━━━━━━━━━\u001b[0m\u001b[37m\u001b[0m \u001b[1m0s\u001b[0m 2ms/step - accuracy: 0.8220 - loss: 0.3556 - val_accuracy: 0.7656 - val_loss: 1.1060\n",
      "Epoch 65/150\n",
      "\u001b[1m58/58\u001b[0m \u001b[32m━━━━━━━━━━━━━━━━━━━━\u001b[0m\u001b[37m\u001b[0m \u001b[1m0s\u001b[0m 3ms/step - accuracy: 0.8166 - loss: 0.3552 - val_accuracy: 0.7708 - val_loss: 1.1084\n",
      "Epoch 66/150\n",
      "\u001b[1m58/58\u001b[0m \u001b[32m━━━━━━━━━━━━━━━━━━━━\u001b[0m\u001b[37m\u001b[0m \u001b[1m0s\u001b[0m 2ms/step - accuracy: 0.8184 - loss: 0.3537 - val_accuracy: 0.7656 - val_loss: 1.1294\n",
      "Epoch 67/150\n",
      "\u001b[1m58/58\u001b[0m \u001b[32m━━━━━━━━━━━━━━━━━━━━\u001b[0m\u001b[37m\u001b[0m \u001b[1m0s\u001b[0m 2ms/step - accuracy: 0.8187 - loss: 0.3525 - val_accuracy: 0.7500 - val_loss: 1.1117\n",
      "Epoch 68/150\n",
      "\u001b[1m58/58\u001b[0m \u001b[32m━━━━━━━━━━━━━━━━━━━━\u001b[0m\u001b[37m\u001b[0m \u001b[1m0s\u001b[0m 2ms/step - accuracy: 0.8233 - loss: 0.3514 - val_accuracy: 0.7552 - val_loss: 1.1233\n",
      "Epoch 69/150\n",
      "\u001b[1m58/58\u001b[0m \u001b[32m━━━━━━━━━━━━━━━━━━━━\u001b[0m\u001b[37m\u001b[0m \u001b[1m0s\u001b[0m 3ms/step - accuracy: 0.8223 - loss: 0.3502 - val_accuracy: 0.7552 - val_loss: 1.1375\n",
      "Epoch 70/150\n",
      "\u001b[1m58/58\u001b[0m \u001b[32m━━━━━━━━━━━━━━━━━━━━\u001b[0m\u001b[37m\u001b[0m \u001b[1m0s\u001b[0m 2ms/step - accuracy: 0.8238 - loss: 0.3499 - val_accuracy: 0.7604 - val_loss: 1.1727\n",
      "Epoch 71/150\n",
      "\u001b[1m58/58\u001b[0m \u001b[32m━━━━━━━━━━━━━━━━━━━━\u001b[0m\u001b[37m\u001b[0m \u001b[1m0s\u001b[0m 2ms/step - accuracy: 0.8219 - loss: 0.3497 - val_accuracy: 0.7500 - val_loss: 1.1320\n",
      "Epoch 72/150\n",
      "\u001b[1m58/58\u001b[0m \u001b[32m━━━━━━━━━━━━━━━━━━━━\u001b[0m\u001b[37m\u001b[0m \u001b[1m0s\u001b[0m 2ms/step - accuracy: 0.8265 - loss: 0.3475 - val_accuracy: 0.7500 - val_loss: 1.1871\n",
      "Epoch 73/150\n",
      "\u001b[1m58/58\u001b[0m \u001b[32m━━━━━━━━━━━━━━━━━━━━\u001b[0m\u001b[37m\u001b[0m \u001b[1m0s\u001b[0m 4ms/step - accuracy: 0.8246 - loss: 0.3469 - val_accuracy: 0.7552 - val_loss: 1.1822\n",
      "Epoch 74/150\n",
      "\u001b[1m58/58\u001b[0m \u001b[32m━━━━━━━━━━━━━━━━━━━━\u001b[0m\u001b[37m\u001b[0m \u001b[1m0s\u001b[0m 4ms/step - accuracy: 0.8220 - loss: 0.3459 - val_accuracy: 0.7604 - val_loss: 1.1715\n",
      "Epoch 75/150\n",
      "\u001b[1m58/58\u001b[0m \u001b[32m━━━━━━━━━━━━━━━━━━━━\u001b[0m\u001b[37m\u001b[0m \u001b[1m0s\u001b[0m 3ms/step - accuracy: 0.8203 - loss: 0.3478 - val_accuracy: 0.7448 - val_loss: 1.1860\n",
      "Epoch 76/150\n",
      "\u001b[1m58/58\u001b[0m \u001b[32m━━━━━━━━━━━━━━━━━━━━\u001b[0m\u001b[37m\u001b[0m \u001b[1m0s\u001b[0m 3ms/step - accuracy: 0.8235 - loss: 0.3447 - val_accuracy: 0.7552 - val_loss: 1.1834\n",
      "Epoch 77/150\n",
      "\u001b[1m58/58\u001b[0m \u001b[32m━━━━━━━━━━━━━━━━━━━━\u001b[0m\u001b[37m\u001b[0m \u001b[1m0s\u001b[0m 2ms/step - accuracy: 0.8301 - loss: 0.3444 - val_accuracy: 0.7500 - val_loss: 1.1839\n",
      "Epoch 78/150\n",
      "\u001b[1m58/58\u001b[0m \u001b[32m━━━━━━━━━━━━━━━━━━━━\u001b[0m\u001b[37m\u001b[0m \u001b[1m0s\u001b[0m 2ms/step - accuracy: 0.8256 - loss: 0.3441 - val_accuracy: 0.7500 - val_loss: 1.1806\n",
      "Epoch 79/150\n",
      "\u001b[1m58/58\u001b[0m \u001b[32m━━━━━━━━━━━━━━━━━━━━\u001b[0m\u001b[37m\u001b[0m \u001b[1m0s\u001b[0m 2ms/step - accuracy: 0.8266 - loss: 0.3433 - val_accuracy: 0.7448 - val_loss: 1.1831\n",
      "Epoch 80/150\n",
      "\u001b[1m58/58\u001b[0m \u001b[32m━━━━━━━━━━━━━━━━━━━━\u001b[0m\u001b[37m\u001b[0m \u001b[1m0s\u001b[0m 2ms/step - accuracy: 0.8262 - loss: 0.3420 - val_accuracy: 0.7500 - val_loss: 1.1811\n",
      "Epoch 81/150\n",
      "\u001b[1m58/58\u001b[0m \u001b[32m━━━━━━━━━━━━━━━━━━━━\u001b[0m\u001b[37m\u001b[0m \u001b[1m0s\u001b[0m 3ms/step - accuracy: 0.8238 - loss: 0.3406 - val_accuracy: 0.7448 - val_loss: 1.1966\n",
      "Epoch 82/150\n",
      "\u001b[1m58/58\u001b[0m \u001b[32m━━━━━━━━━━━━━━━━━━━━\u001b[0m\u001b[37m\u001b[0m \u001b[1m0s\u001b[0m 6ms/step - accuracy: 0.8240 - loss: 0.3395 - val_accuracy: 0.7500 - val_loss: 1.2508\n",
      "Epoch 83/150\n",
      "\u001b[1m58/58\u001b[0m \u001b[32m━━━━━━━━━━━━━━━━━━━━\u001b[0m\u001b[37m\u001b[0m \u001b[1m0s\u001b[0m 4ms/step - accuracy: 0.8275 - loss: 0.3396 - val_accuracy: 0.7500 - val_loss: 1.2040\n",
      "Epoch 84/150\n",
      "\u001b[1m58/58\u001b[0m \u001b[32m━━━━━━━━━━━━━━━━━━━━\u001b[0m\u001b[37m\u001b[0m \u001b[1m0s\u001b[0m 3ms/step - accuracy: 0.8282 - loss: 0.3380 - val_accuracy: 0.7500 - val_loss: 1.1878\n",
      "Epoch 85/150\n",
      "\u001b[1m58/58\u001b[0m \u001b[32m━━━━━━━━━━━━━━━━━━━━\u001b[0m\u001b[37m\u001b[0m \u001b[1m0s\u001b[0m 3ms/step - accuracy: 0.8243 - loss: 0.3385 - val_accuracy: 0.7552 - val_loss: 1.1894\n",
      "Epoch 86/150\n",
      "\u001b[1m58/58\u001b[0m \u001b[32m━━━━━━━━━━━━━━━━━━━━\u001b[0m\u001b[37m\u001b[0m \u001b[1m0s\u001b[0m 3ms/step - accuracy: 0.8280 - loss: 0.3384 - val_accuracy: 0.7604 - val_loss: 1.1847\n",
      "Epoch 87/150\n",
      "\u001b[1m58/58\u001b[0m \u001b[32m━━━━━━━━━━━━━━━━━━━━\u001b[0m\u001b[37m\u001b[0m \u001b[1m0s\u001b[0m 3ms/step - accuracy: 0.8257 - loss: 0.3374 - val_accuracy: 0.7448 - val_loss: 1.2526\n",
      "Epoch 88/150\n",
      "\u001b[1m58/58\u001b[0m \u001b[32m━━━━━━━━━━━━━━━━━━━━\u001b[0m\u001b[37m\u001b[0m \u001b[1m0s\u001b[0m 3ms/step - accuracy: 0.8290 - loss: 0.3360 - val_accuracy: 0.7500 - val_loss: 1.2003\n",
      "Epoch 89/150\n",
      "\u001b[1m58/58\u001b[0m \u001b[32m━━━━━━━━━━━━━━━━━━━━\u001b[0m\u001b[37m\u001b[0m \u001b[1m0s\u001b[0m 3ms/step - accuracy: 0.8296 - loss: 0.3346 - val_accuracy: 0.7500 - val_loss: 1.2003\n",
      "Epoch 90/150\n",
      "\u001b[1m58/58\u001b[0m \u001b[32m━━━━━━━━━━━━━━━━━━━━\u001b[0m\u001b[37m\u001b[0m \u001b[1m0s\u001b[0m 3ms/step - accuracy: 0.8245 - loss: 0.3340 - val_accuracy: 0.7448 - val_loss: 1.1948\n",
      "Epoch 91/150\n",
      "\u001b[1m58/58\u001b[0m \u001b[32m━━━━━━━━━━━━━━━━━━━━\u001b[0m\u001b[37m\u001b[0m \u001b[1m0s\u001b[0m 3ms/step - accuracy: 0.8275 - loss: 0.3336 - val_accuracy: 0.7448 - val_loss: 1.2005\n",
      "Epoch 92/150\n",
      "\u001b[1m58/58\u001b[0m \u001b[32m━━━━━━━━━━━━━━━━━━━━\u001b[0m\u001b[37m\u001b[0m \u001b[1m0s\u001b[0m 3ms/step - accuracy: 0.8267 - loss: 0.3337 - val_accuracy: 0.7500 - val_loss: 1.2038\n",
      "Epoch 93/150\n",
      "\u001b[1m58/58\u001b[0m \u001b[32m━━━━━━━━━━━━━━━━━━━━\u001b[0m\u001b[37m\u001b[0m \u001b[1m0s\u001b[0m 3ms/step - accuracy: 0.8236 - loss: 0.3326 - val_accuracy: 0.7500 - val_loss: 1.2062\n",
      "Epoch 94/150\n",
      "\u001b[1m58/58\u001b[0m \u001b[32m━━━━━━━━━━━━━━━━━━━━\u001b[0m\u001b[37m\u001b[0m \u001b[1m0s\u001b[0m 2ms/step - accuracy: 0.8247 - loss: 0.3312 - val_accuracy: 0.7448 - val_loss: 1.2015\n",
      "Epoch 95/150\n",
      "\u001b[1m58/58\u001b[0m \u001b[32m━━━━━━━━━━━━━━━━━━━━\u001b[0m\u001b[37m\u001b[0m \u001b[1m0s\u001b[0m 3ms/step - accuracy: 0.8276 - loss: 0.3316 - val_accuracy: 0.7604 - val_loss: 1.1947\n",
      "Epoch 96/150\n",
      "\u001b[1m58/58\u001b[0m \u001b[32m━━━━━━━━━━━━━━━━━━━━\u001b[0m\u001b[37m\u001b[0m \u001b[1m0s\u001b[0m 2ms/step - accuracy: 0.8258 - loss: 0.3310 - val_accuracy: 0.7448 - val_loss: 1.2039\n",
      "Epoch 97/150\n",
      "\u001b[1m58/58\u001b[0m \u001b[32m━━━━━━━━━━━━━━━━━━━━\u001b[0m\u001b[37m\u001b[0m \u001b[1m0s\u001b[0m 4ms/step - accuracy: 0.8203 - loss: 0.3290 - val_accuracy: 0.7396 - val_loss: 1.2037\n",
      "Epoch 98/150\n",
      "\u001b[1m58/58\u001b[0m \u001b[32m━━━━━━━━━━━━━━━━━━━━\u001b[0m\u001b[37m\u001b[0m \u001b[1m0s\u001b[0m 2ms/step - accuracy: 0.8288 - loss: 0.3280 - val_accuracy: 0.7500 - val_loss: 1.2040\n",
      "Epoch 99/150\n",
      "\u001b[1m58/58\u001b[0m \u001b[32m━━━━━━━━━━━━━━━━━━━━\u001b[0m\u001b[37m\u001b[0m \u001b[1m0s\u001b[0m 3ms/step - accuracy: 0.8238 - loss: 0.3281 - val_accuracy: 0.7500 - val_loss: 1.2689\n",
      "Epoch 100/150\n",
      "\u001b[1m58/58\u001b[0m \u001b[32m━━━━━━━━━━━━━━━━━━━━\u001b[0m\u001b[37m\u001b[0m \u001b[1m0s\u001b[0m 2ms/step - accuracy: 0.8282 - loss: 0.3279 - val_accuracy: 0.7500 - val_loss: 1.2027\n",
      "Epoch 101/150\n",
      "\u001b[1m58/58\u001b[0m \u001b[32m━━━━━━━━━━━━━━━━━━━━\u001b[0m\u001b[37m\u001b[0m \u001b[1m0s\u001b[0m 2ms/step - accuracy: 0.8193 - loss: 0.3269 - val_accuracy: 0.7448 - val_loss: 1.2115\n",
      "Epoch 102/150\n",
      "\u001b[1m58/58\u001b[0m \u001b[32m━━━━━━━━━━━━━━━━━━━━\u001b[0m\u001b[37m\u001b[0m \u001b[1m0s\u001b[0m 4ms/step - accuracy: 0.8226 - loss: 0.3267 - val_accuracy: 0.7448 - val_loss: 1.2737\n",
      "Epoch 103/150\n",
      "\u001b[1m58/58\u001b[0m \u001b[32m━━━━━━━━━━━━━━━━━━━━\u001b[0m\u001b[37m\u001b[0m \u001b[1m0s\u001b[0m 2ms/step - accuracy: 0.8210 - loss: 0.3252 - val_accuracy: 0.7500 - val_loss: 1.2699\n",
      "Epoch 104/150\n",
      "\u001b[1m58/58\u001b[0m \u001b[32m━━━━━━━━━━━━━━━━━━━━\u001b[0m\u001b[37m\u001b[0m \u001b[1m0s\u001b[0m 3ms/step - accuracy: 0.8276 - loss: 0.3258 - val_accuracy: 0.7500 - val_loss: 1.2170\n",
      "Epoch 105/150\n",
      "\u001b[1m58/58\u001b[0m \u001b[32m━━━━━━━━━━━━━━━━━━━━\u001b[0m\u001b[37m\u001b[0m \u001b[1m0s\u001b[0m 2ms/step - accuracy: 0.8304 - loss: 0.3246 - val_accuracy: 0.7500 - val_loss: 1.2200\n",
      "Epoch 106/150\n",
      "\u001b[1m58/58\u001b[0m \u001b[32m━━━━━━━━━━━━━━━━━━━━\u001b[0m\u001b[37m\u001b[0m \u001b[1m0s\u001b[0m 3ms/step - accuracy: 0.8244 - loss: 0.3238 - val_accuracy: 0.7500 - val_loss: 1.2695\n",
      "Epoch 107/150\n",
      "\u001b[1m58/58\u001b[0m \u001b[32m━━━━━━━━━━━━━━━━━━━━\u001b[0m\u001b[37m\u001b[0m \u001b[1m0s\u001b[0m 2ms/step - accuracy: 0.8251 - loss: 0.3224 - val_accuracy: 0.7448 - val_loss: 1.2215\n",
      "Epoch 108/150\n",
      "\u001b[1m58/58\u001b[0m \u001b[32m━━━━━━━━━━━━━━━━━━━━\u001b[0m\u001b[37m\u001b[0m \u001b[1m0s\u001b[0m 3ms/step - accuracy: 0.8251 - loss: 0.3224 - val_accuracy: 0.7500 - val_loss: 1.2741\n",
      "Epoch 109/150\n",
      "\u001b[1m58/58\u001b[0m \u001b[32m━━━━━━━━━━━━━━━━━━━━\u001b[0m\u001b[37m\u001b[0m \u001b[1m0s\u001b[0m 3ms/step - accuracy: 0.8245 - loss: 0.3218 - val_accuracy: 0.7448 - val_loss: 1.2799\n",
      "Epoch 110/150\n",
      "\u001b[1m58/58\u001b[0m \u001b[32m━━━━━━━━━━━━━━━━━━━━\u001b[0m\u001b[37m\u001b[0m \u001b[1m0s\u001b[0m 2ms/step - accuracy: 0.8297 - loss: 0.3222 - val_accuracy: 0.7500 - val_loss: 1.2824\n",
      "Epoch 111/150\n",
      "\u001b[1m58/58\u001b[0m \u001b[32m━━━━━━━━━━━━━━━━━━━━\u001b[0m\u001b[37m\u001b[0m \u001b[1m0s\u001b[0m 2ms/step - accuracy: 0.8293 - loss: 0.3214 - val_accuracy: 0.7448 - val_loss: 1.2349\n",
      "Epoch 112/150\n",
      "\u001b[1m58/58\u001b[0m \u001b[32m━━━━━━━━━━━━━━━━━━━━\u001b[0m\u001b[37m\u001b[0m \u001b[1m0s\u001b[0m 2ms/step - accuracy: 0.8288 - loss: 0.3200 - val_accuracy: 0.7448 - val_loss: 1.2243\n",
      "Epoch 113/150\n",
      "\u001b[1m58/58\u001b[0m \u001b[32m━━━━━━━━━━━━━━━━━━━━\u001b[0m\u001b[37m\u001b[0m \u001b[1m0s\u001b[0m 3ms/step - accuracy: 0.8266 - loss: 0.3199 - val_accuracy: 0.7448 - val_loss: 1.2834\n",
      "Epoch 114/150\n",
      "\u001b[1m58/58\u001b[0m \u001b[32m━━━━━━━━━━━━━━━━━━━━\u001b[0m\u001b[37m\u001b[0m \u001b[1m0s\u001b[0m 2ms/step - accuracy: 0.8247 - loss: 0.3192 - val_accuracy: 0.7448 - val_loss: 1.2873\n",
      "Epoch 115/150\n",
      "\u001b[1m58/58\u001b[0m \u001b[32m━━━━━━━━━━━━━━━━━━━━\u001b[0m\u001b[37m\u001b[0m \u001b[1m0s\u001b[0m 2ms/step - accuracy: 0.8258 - loss: 0.3182 - val_accuracy: 0.7448 - val_loss: 1.3541\n",
      "Epoch 116/150\n",
      "\u001b[1m58/58\u001b[0m \u001b[32m━━━━━━━━━━━━━━━━━━━━\u001b[0m\u001b[37m\u001b[0m \u001b[1m0s\u001b[0m 3ms/step - accuracy: 0.8260 - loss: 0.3170 - val_accuracy: 0.7396 - val_loss: 1.3225\n",
      "Epoch 117/150\n",
      "\u001b[1m58/58\u001b[0m \u001b[32m━━━━━━━━━━━━━━━━━━━━\u001b[0m\u001b[37m\u001b[0m \u001b[1m0s\u001b[0m 2ms/step - accuracy: 0.8297 - loss: 0.3160 - val_accuracy: 0.7448 - val_loss: 1.2430\n",
      "Epoch 118/150\n",
      "\u001b[1m58/58\u001b[0m \u001b[32m━━━━━━━━━━━━━━━━━━━━\u001b[0m\u001b[37m\u001b[0m \u001b[1m0s\u001b[0m 2ms/step - accuracy: 0.8269 - loss: 0.3158 - val_accuracy: 0.7448 - val_loss: 1.3627\n",
      "Epoch 119/150\n",
      "\u001b[1m58/58\u001b[0m \u001b[32m━━━━━━━━━━━━━━━━━━━━\u001b[0m\u001b[37m\u001b[0m \u001b[1m0s\u001b[0m 2ms/step - accuracy: 0.8275 - loss: 0.3157 - val_accuracy: 0.7500 - val_loss: 1.3113\n",
      "Epoch 120/150\n",
      "\u001b[1m58/58\u001b[0m \u001b[32m━━━━━━━━━━━━━━━━━━━━\u001b[0m\u001b[37m\u001b[0m \u001b[1m0s\u001b[0m 3ms/step - accuracy: 0.8266 - loss: 0.3157 - val_accuracy: 0.7500 - val_loss: 1.3198\n",
      "Epoch 121/150\n",
      "\u001b[1m58/58\u001b[0m \u001b[32m━━━━━━━━━━━━━━━━━━━━\u001b[0m\u001b[37m\u001b[0m \u001b[1m0s\u001b[0m 2ms/step - accuracy: 0.8257 - loss: 0.3147 - val_accuracy: 0.7448 - val_loss: 1.3766\n",
      "Epoch 122/150\n",
      "\u001b[1m58/58\u001b[0m \u001b[32m━━━━━━━━━━━━━━━━━━━━\u001b[0m\u001b[37m\u001b[0m \u001b[1m0s\u001b[0m 3ms/step - accuracy: 0.8268 - loss: 0.3143 - val_accuracy: 0.7500 - val_loss: 1.4350\n",
      "Epoch 123/150\n",
      "\u001b[1m58/58\u001b[0m \u001b[32m━━━━━━━━━━━━━━━━━━━━\u001b[0m\u001b[37m\u001b[0m \u001b[1m0s\u001b[0m 2ms/step - accuracy: 0.8266 - loss: 0.3132 - val_accuracy: 0.7500 - val_loss: 1.4285\n",
      "Epoch 124/150\n",
      "\u001b[1m58/58\u001b[0m \u001b[32m━━━━━━━━━━━━━━━━━━━━\u001b[0m\u001b[37m\u001b[0m \u001b[1m0s\u001b[0m 2ms/step - accuracy: 0.8311 - loss: 0.3130 - val_accuracy: 0.7500 - val_loss: 1.4970\n",
      "Epoch 125/150\n",
      "\u001b[1m58/58\u001b[0m \u001b[32m━━━━━━━━━━━━━━━━━━━━\u001b[0m\u001b[37m\u001b[0m \u001b[1m0s\u001b[0m 2ms/step - accuracy: 0.8299 - loss: 0.3128 - val_accuracy: 0.7500 - val_loss: 1.4264\n",
      "Epoch 126/150\n",
      "\u001b[1m58/58\u001b[0m \u001b[32m━━━━━━━━━━━━━━━━━━━━\u001b[0m\u001b[37m\u001b[0m \u001b[1m0s\u001b[0m 4ms/step - accuracy: 0.8307 - loss: 0.3116 - val_accuracy: 0.7396 - val_loss: 1.3840\n",
      "Epoch 127/150\n",
      "\u001b[1m58/58\u001b[0m \u001b[32m━━━━━━━━━━━━━━━━━━━━\u001b[0m\u001b[37m\u001b[0m \u001b[1m0s\u001b[0m 3ms/step - accuracy: 0.8265 - loss: 0.3111 - val_accuracy: 0.7448 - val_loss: 1.4349\n",
      "Epoch 128/150\n",
      "\u001b[1m58/58\u001b[0m \u001b[32m━━━━━━━━━━━━━━━━━━━━\u001b[0m\u001b[37m\u001b[0m \u001b[1m0s\u001b[0m 2ms/step - accuracy: 0.8325 - loss: 0.3108 - val_accuracy: 0.7448 - val_loss: 1.4852\n",
      "Epoch 129/150\n",
      "\u001b[1m58/58\u001b[0m \u001b[32m━━━━━━━━━━━━━━━━━━━━\u001b[0m\u001b[37m\u001b[0m \u001b[1m0s\u001b[0m 3ms/step - accuracy: 0.8307 - loss: 0.3085 - val_accuracy: 0.7500 - val_loss: 1.4377\n",
      "Epoch 130/150\n",
      "\u001b[1m58/58\u001b[0m \u001b[32m━━━━━━━━━━━━━━━━━━━━\u001b[0m\u001b[37m\u001b[0m \u001b[1m0s\u001b[0m 3ms/step - accuracy: 0.8286 - loss: 0.3083 - val_accuracy: 0.7396 - val_loss: 1.4464\n",
      "Epoch 131/150\n",
      "\u001b[1m58/58\u001b[0m \u001b[32m━━━━━━━━━━━━━━━━━━━━\u001b[0m\u001b[37m\u001b[0m \u001b[1m0s\u001b[0m 3ms/step - accuracy: 0.8255 - loss: 0.3082 - val_accuracy: 0.7396 - val_loss: 1.5606\n",
      "Epoch 132/150\n",
      "\u001b[1m58/58\u001b[0m \u001b[32m━━━━━━━━━━━━━━━━━━━━\u001b[0m\u001b[37m\u001b[0m \u001b[1m0s\u001b[0m 3ms/step - accuracy: 0.8267 - loss: 0.3067 - val_accuracy: 0.7448 - val_loss: 1.5522\n",
      "Epoch 133/150\n",
      "\u001b[1m58/58\u001b[0m \u001b[32m━━━━━━━━━━━━━━━━━━━━\u001b[0m\u001b[37m\u001b[0m \u001b[1m0s\u001b[0m 3ms/step - accuracy: 0.8285 - loss: 0.3075 - val_accuracy: 0.7448 - val_loss: 1.4962\n",
      "Epoch 134/150\n",
      "\u001b[1m58/58\u001b[0m \u001b[32m━━━━━━━━━━━━━━━━━━━━\u001b[0m\u001b[37m\u001b[0m \u001b[1m0s\u001b[0m 2ms/step - accuracy: 0.8295 - loss: 0.3067 - val_accuracy: 0.7396 - val_loss: 1.4896\n",
      "Epoch 135/150\n",
      "\u001b[1m58/58\u001b[0m \u001b[32m━━━━━━━━━━━━━━━━━━━━\u001b[0m\u001b[37m\u001b[0m \u001b[1m0s\u001b[0m 3ms/step - accuracy: 0.8281 - loss: 0.3057 - val_accuracy: 0.7396 - val_loss: 1.5061\n",
      "Epoch 136/150\n",
      "\u001b[1m58/58\u001b[0m \u001b[32m━━━━━━━━━━━━━━━━━━━━\u001b[0m\u001b[37m\u001b[0m \u001b[1m0s\u001b[0m 2ms/step - accuracy: 0.8261 - loss: 0.3047 - val_accuracy: 0.7396 - val_loss: 1.5366\n",
      "Epoch 137/150\n",
      "\u001b[1m58/58\u001b[0m \u001b[32m━━━━━━━━━━━━━━━━━━━━\u001b[0m\u001b[37m\u001b[0m \u001b[1m0s\u001b[0m 3ms/step - accuracy: 0.8299 - loss: 0.3058 - val_accuracy: 0.7396 - val_loss: 1.5031\n",
      "Epoch 138/150\n",
      "\u001b[1m58/58\u001b[0m \u001b[32m━━━━━━━━━━━━━━━━━━━━\u001b[0m\u001b[37m\u001b[0m \u001b[1m0s\u001b[0m 2ms/step - accuracy: 0.8297 - loss: 0.3047 - val_accuracy: 0.7448 - val_loss: 1.4963\n",
      "Epoch 139/150\n",
      "\u001b[1m58/58\u001b[0m \u001b[32m━━━━━━━━━━━━━━━━━━━━\u001b[0m\u001b[37m\u001b[0m \u001b[1m0s\u001b[0m 3ms/step - accuracy: 0.8239 - loss: 0.3037 - val_accuracy: 0.7292 - val_loss: 1.5133\n",
      "Epoch 140/150\n",
      "\u001b[1m58/58\u001b[0m \u001b[32m━━━━━━━━━━━━━━━━━━━━\u001b[0m\u001b[37m\u001b[0m \u001b[1m0s\u001b[0m 3ms/step - accuracy: 0.8239 - loss: 0.3037 - val_accuracy: 0.7448 - val_loss: 1.5005\n",
      "Epoch 141/150\n",
      "\u001b[1m58/58\u001b[0m \u001b[32m━━━━━━━━━━━━━━━━━━━━\u001b[0m\u001b[37m\u001b[0m \u001b[1m0s\u001b[0m 3ms/step - accuracy: 0.8308 - loss: 0.3030 - val_accuracy: 0.7396 - val_loss: 1.5141\n",
      "Epoch 142/150\n",
      "\u001b[1m58/58\u001b[0m \u001b[32m━━━━━━━━━━━━━━━━━━━━\u001b[0m\u001b[37m\u001b[0m \u001b[1m0s\u001b[0m 4ms/step - accuracy: 0.8299 - loss: 0.3028 - val_accuracy: 0.7448 - val_loss: 1.5151\n",
      "Epoch 143/150\n",
      "\u001b[1m58/58\u001b[0m \u001b[32m━━━━━━━━━━━━━━━━━━━━\u001b[0m\u001b[37m\u001b[0m \u001b[1m0s\u001b[0m 4ms/step - accuracy: 0.8303 - loss: 0.3017 - val_accuracy: 0.7396 - val_loss: 1.5088\n",
      "Epoch 144/150\n",
      "\u001b[1m58/58\u001b[0m \u001b[32m━━━━━━━━━━━━━━━━━━━━\u001b[0m\u001b[37m\u001b[0m \u001b[1m0s\u001b[0m 4ms/step - accuracy: 0.8241 - loss: 0.3010 - val_accuracy: 0.7396 - val_loss: 1.5727\n",
      "Epoch 145/150\n",
      "\u001b[1m58/58\u001b[0m \u001b[32m━━━━━━━━━━━━━━━━━━━━\u001b[0m\u001b[37m\u001b[0m \u001b[1m1s\u001b[0m 3ms/step - accuracy: 0.8247 - loss: 0.3001 - val_accuracy: 0.7396 - val_loss: 1.5853\n",
      "Epoch 146/150\n",
      "\u001b[1m58/58\u001b[0m \u001b[32m━━━━━━━━━━━━━━━━━━━━\u001b[0m\u001b[37m\u001b[0m \u001b[1m0s\u001b[0m 4ms/step - accuracy: 0.8261 - loss: 0.3012 - val_accuracy: 0.7344 - val_loss: 1.5145\n",
      "Epoch 147/150\n",
      "\u001b[1m58/58\u001b[0m \u001b[32m━━━━━━━━━━━━━━━━━━━━\u001b[0m\u001b[37m\u001b[0m \u001b[1m0s\u001b[0m 4ms/step - accuracy: 0.8247 - loss: 0.2994 - val_accuracy: 0.7448 - val_loss: 1.5680\n",
      "Epoch 148/150\n",
      "\u001b[1m58/58\u001b[0m \u001b[32m━━━━━━━━━━━━━━━━━━━━\u001b[0m\u001b[37m\u001b[0m \u001b[1m0s\u001b[0m 3ms/step - accuracy: 0.8268 - loss: 0.2994 - val_accuracy: 0.7500 - val_loss: 1.5648\n",
      "Epoch 149/150\n",
      "\u001b[1m58/58\u001b[0m \u001b[32m━━━━━━━━━━━━━━━━━━━━\u001b[0m\u001b[37m\u001b[0m \u001b[1m0s\u001b[0m 4ms/step - accuracy: 0.8258 - loss: 0.3001 - val_accuracy: 0.7396 - val_loss: 1.5032\n",
      "Epoch 150/150\n",
      "\u001b[1m58/58\u001b[0m \u001b[32m━━━━━━━━━━━━━━━━━━━━\u001b[0m\u001b[37m\u001b[0m \u001b[1m0s\u001b[0m 4ms/step - accuracy: 0.8312 - loss: 0.2976 - val_accuracy: 0.7396 - val_loss: 1.4995\n"
     ]
    }
   ],
   "source": [
    "#Fitting the data to the training dataset\n",
    "history = model.fit(X_trainscaled,y_train, batch_size=10, epochs=150,\n",
    "                   validation_data=(X_testscaled, y_test))"
   ]
  },
  {
   "cell_type": "markdown",
   "metadata": {},
   "source": [
    "We can also evaluate the loss value & accuracy metrics for the model "
   ]
  },
  {
   "cell_type": "code",
   "execution_count": 24,
   "metadata": {
    "execution": {
     "iopub.status.busy": "2024-11-20T09:39:10.055936Z",
     "iopub.status.idle": "2024-11-20T09:39:10.056414Z",
     "shell.execute_reply": "2024-11-20T09:39:10.056225Z",
     "shell.execute_reply.started": "2024-11-20T09:39:10.056204Z"
    },
    "trusted": true
   },
   "outputs": [
    {
     "name": "stdout",
     "output_type": "stream",
     "text": [
      "\u001b[1m18/18\u001b[0m \u001b[32m━━━━━━━━━━━━━━━━━━━━\u001b[0m\u001b[37m\u001b[0m \u001b[1m0s\u001b[0m 3ms/step - accuracy: 0.8483 - loss: 0.2981 \n",
      "Training Accuracy: 0.8350694179534912\n"
     ]
    }
   ],
   "source": [
    "# Measure and display the training accuracy using the evaluate method\n",
    "train_loss, train_accuracy = model.evaluate(X_trainscaled, y_train)\n",
    "print(f\"Training Accuracy: {train_accuracy}\")"
   ]
  },
  {
   "cell_type": "code",
   "execution_count": 25,
   "metadata": {
    "execution": {
     "iopub.status.busy": "2024-11-20T09:39:10.058229Z",
     "iopub.status.idle": "2024-11-20T09:39:10.058644Z",
     "shell.execute_reply": "2024-11-20T09:39:10.058473Z",
     "shell.execute_reply.started": "2024-11-20T09:39:10.058454Z"
    },
    "trusted": true
   },
   "outputs": [
    {
     "name": "stdout",
     "output_type": "stream",
     "text": [
      "\u001b[1m6/6\u001b[0m \u001b[32m━━━━━━━━━━━━━━━━━━━━\u001b[0m\u001b[37m\u001b[0m \u001b[1m0s\u001b[0m 2ms/step - accuracy: 0.7600 - loss: 1.2666 \n",
      "Test Accuracy: 0.7395833134651184\n"
     ]
    }
   ],
   "source": [
    "# Measure and display the test accuracy using the evaluate method\n",
    "test_loss, test_accuracy = model.evaluate(X_testscaled, y_test)\n",
    "print(f\"Test Accuracy: {test_accuracy}\")"
   ]
  },
  {
   "cell_type": "code",
   "execution_count": 26,
   "metadata": {
    "execution": {
     "iopub.status.busy": "2024-11-20T09:39:10.060831Z",
     "iopub.status.idle": "2024-11-20T09:39:10.061305Z",
     "shell.execute_reply": "2024-11-20T09:39:10.061127Z",
     "shell.execute_reply.started": "2024-11-20T09:39:10.061104Z"
    },
    "trusted": true
   },
   "outputs": [
    {
     "data": {
      "image/png": "[encoded data removed]",
      "text/plain": [
       "<Figure size 640x480 with 1 Axes>"
      ]
     },
     "metadata": {},
     "output_type": "display_data"
    }
   ],
   "source": [
    "# Visualize the training errors\n",
    "import matplotlib.pyplot as pyplot\n",
    "pyplot.title('accuracy')\n",
    "pyplot.plot(history.history['accuracy'], label='train')\n",
    "pyplot.plot(history.history['val_accuracy'], label='test')\n",
    "pyplot.legend()\n",
    "pyplot.show()"
   ]
  },
  {
   "cell_type": "code",
   "execution_count": 27,
   "metadata": {
    "execution": {
     "iopub.status.busy": "2024-11-20T09:39:10.062812Z",
     "iopub.status.idle": "2024-11-20T09:39:10.063266Z",
     "shell.execute_reply": "2024-11-20T09:39:10.063088Z",
     "shell.execute_reply.started": "2024-11-20T09:39:10.063068Z"
    },
    "trusted": true
   },
   "outputs": [
    {
     "data": {
      "image/png": "[encoded data removed]",
      "text/plain": [
       "<Figure size 640x480 with 1 Axes>"
      ]
     },
     "metadata": {},
     "output_type": "display_data"
    }
   ],
   "source": [
    "import matplotlib.pyplot as pyplot\n",
    "pyplot.title('Loss ')\n",
    "pyplot.plot(history.history['loss'], label='train')\n",
    "pyplot.plot(history.history['val_loss'], label='test')\n",
    "pyplot.legend()\n",
    "pyplot.show()\n"
   ]
  },
  {
   "cell_type": "code",
   "execution_count": 28,
   "metadata": {
    "execution": {
     "iopub.status.busy": "2024-11-20T09:39:10.065465Z",
     "iopub.status.idle": "2024-11-20T09:39:10.065993Z",
     "shell.execute_reply": "2024-11-20T09:39:10.065793Z",
     "shell.execute_reply.started": "2024-11-20T09:39:10.065758Z"
    },
    "trusted": true
   },
   "outputs": [
    {
     "data": {
      "text/plain": [
       "<Axes: >"
      ]
     },
     "execution_count": 28,
     "metadata": {},
     "output_type": "execute_result"
    },
    {
     "data": {
      "image/png": "[encoded data removed]",
      "text/plain": [
       "<Figure size 800x600 with 1 Axes>"
      ]
     },
     "metadata": {},
     "output_type": "display_data"
    }
   ],
   "source": [
    "losses = pd.DataFrame(history.history)\n",
    "losses.plot(figsize=(8,6))"
   ]
  },
  {
   "cell_type": "markdown",
   "metadata": {},
   "source": [
    "## Report the performance of the Neural Network over the test dataset "
   ]
  },
  {
   "cell_type": "code",
   "execution_count": 29,
   "metadata": {
    "execution": {
     "iopub.status.busy": "2024-11-20T09:39:10.067813Z",
     "iopub.status.idle": "2024-11-20T09:39:10.068278Z",
     "shell.execute_reply": "2024-11-20T09:39:10.068103Z",
     "shell.execute_reply.started": "2024-11-20T09:39:10.068082Z"
    },
    "trusted": true
   },
   "outputs": [
    {
     "name": "stdout",
     "output_type": "stream",
     "text": [
      "\u001b[1m6/6\u001b[0m \u001b[32m━━━━━━━━━━━━━━━━━━━━\u001b[0m\u001b[37m\u001b[0m \u001b[1m0s\u001b[0m 2ms/step  \n",
      "Test accuracy:  0.7395833333333334\n"
     ]
    }
   ],
   "source": [
    "from sklearn.metrics import accuracy_score\n",
    "y_pred_tst= (model.predict(X_testscaled)>0.5).astype('int32')\n",
    "print(\"Test accuracy: \",accuracy_score(y_test,y_pred_tst))"
   ]
  },
  {
   "cell_type": "code",
   "execution_count": 30,
   "metadata": {
    "execution": {
     "iopub.status.busy": "2024-11-20T09:39:10.070267Z",
     "iopub.status.idle": "2024-11-20T09:39:10.070717Z",
     "shell.execute_reply": "2024-11-20T09:39:10.070539Z",
     "shell.execute_reply.started": "2024-11-20T09:39:10.070509Z"
    },
    "trusted": true
   },
   "outputs": [
    {
     "name": "stdout",
     "output_type": "stream",
     "text": [
      "\u001b[1m18/18\u001b[0m \u001b[32m━━━━━━━━━━━━━━━━━━━━\u001b[0m\u001b[37m\u001b[0m \u001b[1m0s\u001b[0m 5ms/step\n",
      "Training accuracy:  0.8350694444444444\n"
     ]
    }
   ],
   "source": [
    "from sklearn.metrics import classification_report,confusion_matrix\n",
    "y_pred_trn= (model.predict(X_trainscaled)>0.5).astype('int32')\n",
    "print(\"Training accuracy: \",accuracy_score(y_train,y_pred_trn))"
   ]
  },
  {
   "cell_type": "code",
   "execution_count": 31,
   "metadata": {
    "execution": {
     "iopub.status.busy": "2024-11-20T09:39:10.072557Z",
     "iopub.status.idle": "2024-11-20T09:39:10.073193Z",
     "shell.execute_reply": "2024-11-20T09:39:10.072921Z",
     "shell.execute_reply.started": "2024-11-20T09:39:10.072891Z"
    },
    "trusted": true
   },
   "outputs": [
    {
     "name": "stdout",
     "output_type": "stream",
     "text": [
      "Classification Report:\n",
      "              precision    recall  f1-score   support\n",
      "\n",
      "           0       0.81      0.78      0.79       123\n",
      "           1       0.63      0.67      0.65        69\n",
      "\n",
      "    accuracy                           0.74       192\n",
      "   macro avg       0.72      0.72      0.72       192\n",
      "weighted avg       0.74      0.74      0.74       192\n",
      "\n"
     ]
    }
   ],
   "source": [
    "# Classification Report\n",
    "from sklearn.metrics import classification_report\n",
    "print(\"Classification Report:\")\n",
    "print(classification_report(y_test, y_pred_tst))"
   ]
  },
  {
   "cell_type": "code",
   "execution_count": 32,
   "metadata": {
    "execution": {
     "iopub.status.busy": "2024-11-20T09:39:10.074934Z",
     "iopub.status.idle": "2024-11-20T09:39:10.075511Z",
     "shell.execute_reply": "2024-11-20T09:39:10.075254Z",
     "shell.execute_reply.started": "2024-11-20T09:39:10.075225Z"
    },
    "trusted": true
   },
   "outputs": [
    {
     "name": "stdout",
     "output_type": "stream",
     "text": [
      "Confusion matrix:\n",
      "[[96 27]\n",
      " [23 46]]\n"
     ]
    }
   ],
   "source": [
    "from sklearn.metrics import confusion_matrix\n",
    "print(\"Confusion matrix:\")\n",
    "print(confusion_matrix(y_test,y_pred_tst))"
   ]
  },
  {
   "cell_type": "code",
   "execution_count": 33,
   "metadata": {
    "execution": {
     "iopub.status.busy": "2024-11-20T09:39:10.078766Z",
     "iopub.status.idle": "2024-11-20T09:39:10.079245Z",
     "shell.execute_reply": "2024-11-20T09:39:10.079068Z",
     "shell.execute_reply.started": "2024-11-20T09:39:10.079047Z"
    },
    "trusted": true
   },
   "outputs": [
    {
     "name": "stdout",
     "output_type": "stream",
     "text": [
      "\u001b[1m6/6\u001b[0m \u001b[32m━━━━━━━━━━━━━━━━━━━━\u001b[0m\u001b[37m\u001b[0m \u001b[1m0s\u001b[0m 2ms/step \n"
     ]
    },
    {
     "data": {
      "image/png": "[encoded data removed]",
      "text/plain": [
       "<Figure size 400x300 with 2 Axes>"
      ]
     },
     "metadata": {},
     "output_type": "display_data"
    }
   ],
   "source": [
    "import seaborn as sn\n",
    "import pandas as pd\n",
    "import matplotlib.pyplot as plt\n",
    "\n",
    "y_predtst = (model.predict(X_testscaled)>0.5).astype('int32')\n",
    "cf_matrix = confusion_matrix(y_test, y_predtst)\n",
    "df_cm = pd.DataFrame(cf_matrix, range(cf_matrix.shape[0]), range(cf_matrix.shape[1]))\n",
    "plt.figure(figsize=(4,3))\n",
    "sn.set(font_scale=1.3) # for label size\n",
    "sn.heatmap(df_cm, annot=True, annot_kws={\"size\": 14},fmt='g') # font size\n",
    "plt.xlabel('Predicted Label')\n",
    "plt.ylabel('True Label')\n",
    "plt.show()"
   ]
  },
  {
   "cell_type": "code",
   "execution_count": 34,
   "metadata": {
    "execution": {
     "iopub.status.busy": "2024-11-20T09:39:10.081290Z",
     "iopub.status.idle": "2024-11-20T09:39:10.081982Z",
     "shell.execute_reply": "2024-11-20T09:39:10.081660Z",
     "shell.execute_reply.started": "2024-11-20T09:39:10.081629Z"
    },
    "trusted": true
   },
   "outputs": [
    {
     "name": "stdout",
     "output_type": "stream",
     "text": [
      "Recall:  0.6666666666666666\n",
      "Precision:  0.6301369863013698\n",
      "F1 score:  0.647887323943662\n"
     ]
    }
   ],
   "source": [
    "from sklearn.metrics import recall_score\n",
    "print(\"Recall: \",recall_score(y_test, y_pred_tst))\n",
    "\n",
    "from sklearn.metrics import precision_score\n",
    "print(\"Precision: \",precision_score(y_test, y_pred_tst))\n",
    "\n",
    "from sklearn.metrics import f1_score\n",
    "print(\"F1 score: \",f1_score(y_test, y_pred_tst))"
   ]
  },
  {
   "cell_type": "markdown",
   "metadata": {},
   "source": [
    "#### ROC Curve"
   ]
  },
  {
   "cell_type": "code",
   "execution_count": 35,
   "metadata": {
    "execution": {
     "iopub.status.busy": "2024-11-20T09:39:10.083469Z",
     "iopub.status.idle": "2024-11-20T09:39:10.084228Z",
     "shell.execute_reply": "2024-11-20T09:39:10.083931Z",
     "shell.execute_reply.started": "2024-11-20T09:39:10.083783Z"
    },
    "trusted": true
   },
   "outputs": [
    {
     "name": "stdout",
     "output_type": "stream",
     "text": [
      "\u001b[1m6/6\u001b[0m \u001b[32m━━━━━━━━━━━━━━━━━━━━\u001b[0m\u001b[37m\u001b[0m \u001b[1m0s\u001b[0m 2ms/step \n"
     ]
    }
   ],
   "source": [
    "from sklearn.metrics import roc_curve\n",
    "y_pred_keras = model.predict(X_testscaled).ravel()\n",
    "fpr_keras, tpr_keras, thresholds_keras = roc_curve(y_test, y_pred_keras)\n",
    "from sklearn.metrics import auc\n",
    "auc_keras = auc(fpr_keras, tpr_keras)\n",
    "y_pred_net = net.predict_proba(X_test)[:, 1]\n",
    "fpr_net, tpr_net, thresholds_net = roc_curve(y_test, y_pred_net)\n",
    "auc_net = auc(fpr_net, tpr_net)"
   ]
  },
  {
   "cell_type": "code",
   "execution_count": 36,
   "metadata": {
    "execution": {
     "iopub.status.busy": "2024-11-20T09:39:10.086802Z",
     "iopub.status.idle": "2024-11-20T09:39:10.087460Z",
     "shell.execute_reply": "2024-11-20T09:39:10.087166Z",
     "shell.execute_reply.started": "2024-11-20T09:39:10.087135Z"
    },
    "trusted": true
   },
   "outputs": [
    {
     "data": {
      "image/png": "[encoded data removed]",
      "text/plain": [
       "<Figure size 640x480 with 1 Axes>"
      ]
     },
     "metadata": {},
     "output_type": "display_data"
    }
   ],
   "source": [
    "plt.figure(1)\n",
    "plt.plot([0, 1], [0, 1], 'k--', label='Random guess (area = {:.1f})'.format(0.5))\n",
    "plt.plot(fpr_keras, tpr_keras, label='Keras ANN (area = {:.3f})'.format(auc_keras))\n",
    "plt.plot(fpr_net, tpr_net, label='Sci-learn ANN (area = {:.3f})'.format(auc_net))\n",
    "plt.xlabel('False positive rate')\n",
    "plt.ylabel('True positive rate')\n",
    "plt.title('ROC curve')\n",
    "plt.legend(loc='best')\n",
    "plt.show()"
   ]
  },
  {
   "cell_type": "markdown",
   "metadata": {},
   "source": [
    "# Implementing a User Interface to interact with the model using Widgets"
   ]
  },
  {
   "cell_type": "markdown",
   "metadata": {},
   "source": [
    "* Pregnancies: Number of times pregnant\n",
    "* Glucose: Plasma glucose concentration a 2 hours in an oral glucose tolerance test\n",
    "* BloodPressure: Diastolic blood pressure (mm Hg)\n",
    "* SkinThickness: Triceps skin fold thickness (mm)\n",
    "* Insulin: 2-Hour serum insulin (mu U/ml)\n",
    "* BMI: Body mass index (weight in kg/(height in m)^2)\n",
    "* DiabetesPedigreeFunction: Diabetes pedigree function\n",
    "* Age: Age (years)\n",
    "* Outcome: Class variable (0 or 1)"
   ]
  },
  {
   "cell_type": "code",
   "execution_count": 37,
   "metadata": {
    "execution": {
     "iopub.status.busy": "2024-11-20T09:39:10.089960Z",
     "iopub.status.idle": "2024-11-20T09:39:10.090556Z",
     "shell.execute_reply": "2024-11-20T09:39:10.090300Z",
     "shell.execute_reply.started": "2024-11-20T09:39:10.090272Z"
    },
    "trusted": true
   },
   "outputs": [
    {
     "data": {
      "application/vnd.jupyter.widget-view+json": {
       "model_id": "16a14b7869a24bd6838cd883e2a76875",
       "version_major": 2,
       "version_minor": 0
      },
      "text/plain": [
       "interactive(children=(FloatSlider(value=1.0, description='Input 1 (Number of times pregnant) ........:', layou…"
      ]
     },
     "metadata": {},
     "output_type": "display_data"
    }
   ],
   "source": [
    "import ipywidgets as widgets\n",
    "from ipywidgets import Button, Layout\n",
    "from ipywidgets import interact\n",
    "import numpy as np\n",
    "\n",
    "style = {'description_width': 'initial'}\n",
    "\n",
    "# Using interact() as a decorator\n",
    "@interact(\n",
    "    # Specifying the handler for the arguments in the function predict\n",
    "    x1 = widgets.FloatSlider(min=0.0, max=20, step=1, value=1, \n",
    "                             description=\"Input 1 (Number of times pregnant) ........:\"\n",
    "                            ,style=style,layout=Layout(width='50%')),\n",
    "    x2 = widgets.FloatSlider(min=0.0, max=220, step=1, value=85, \n",
    "                             description=\"Input 2 (Plasma glucose concentration)....:\"\n",
    "                            ,style=style,layout=Layout(width='50%')),\n",
    "    x3 = widgets.FloatSlider(min=0.0, max=120, step=1, value=66, \n",
    "                             description=\"Input 3 (Diastolic blood pressure (mm Hg)):\"\n",
    "                            ,style=style,layout=Layout(width='50%')),\n",
    "    x4 = widgets.FloatSlider(min=0.0, max=110, step=1, value=29, \n",
    "                             description=\"Input 4 (Triceps skin fold thickness (mm)):\"\n",
    "                            ,style=style,layout=Layout(width='50%')),\n",
    "    x5 = widgets.FloatSlider(min=0.0, max=700, step=1, value=440, \n",
    "                             description=\"Input 5 (2-Hour serum insulin (mu U/ml))..:\"\n",
    "                            ,style=style,layout=Layout(width='50%')),\n",
    "    x6 = widgets.FloatSlider(min=0.0, max=70, step=1, value=3, \n",
    "                             description=\"Input 6 (BMI (weight in kg/(height in m)^2)):\"\n",
    "                            ,style=style,layout=Layout(width='50%')),\n",
    "    x7 = widgets.FloatSlider(min=0.0, max=3, step=0.01, value=0.35, \n",
    "                             description=\"Input 7 (Diabetes pedigree function) .....:\"\n",
    "                            ,style=style,layout=Layout(width='50%')),\n",
    "    x8 = widgets.FloatSlider(min=0.0, max=100, step=1, value=21, \n",
    "                             description=\"Input 8 (Age (years)) ...................................:\"\n",
    "                            ,style=style,layout=Layout(width='50%')),\n",
    ")\n",
    "def predict(x1,x2,x3,x4,x5,x6,x7,x8):\n",
    "   \n",
    "    # present new data\n",
    "    new_input = np.array([[x1, x2, x3, x4, x5, x6, x7, x8 ]])\n",
    "    new_input_scaled = scaler.transform(new_input)\n",
    "    # make a prediction\n",
    "    yhat = net.predict(new_input_scaled)\n",
    "    y_pred=model.predict(new_input_scaled)\n",
    "    print(\"prediction of the neural network: \",y_pred)\n",
    "    \n",
    "    \n",
    "    if y_pred < 0.5: \n",
    "        prediction=\"No Diabetes\" \n",
    "    else: \n",
    "        prediction=\"Diabetes\"\n",
    "    # summarize prediction\n",
    "    print('If inputs are [%1.1f, %1.1f,%1.1f, %1.1f,%1.1f, %1.1f,%1.1f,%1.1f] predicted class is : %s' % (x1, x2, x3,x4,x5,x6,x7,x8,prediction))"
   ]
  },
  {
   "cell_type": "markdown",
   "metadata": {},
   "source": [
    "## Model Structure\n",
    "Keras provides few methods to get the model information like layers, input data and output data. \n",
    "\n",
    "model.layers − Returns all the layers of the model as list.\n",
    "\n",
    "model.inputs − Returns all the input tensors of the model as list.\n",
    "\n",
    "model.outputs − Returns all the output tensors of the model as list.\n",
    "model.get_weights − Returns all the weights as NumPy arrays.\n",
    "model.set_weights(weight_numpy_array) − Set the weights of the model."
   ]
  },
  {
   "cell_type": "code",
   "execution_count": 38,
   "metadata": {
    "execution": {
     "iopub.status.busy": "2024-11-20T09:39:10.093004Z",
     "iopub.status.idle": "2024-11-20T09:39:10.093653Z",
     "shell.execute_reply": "2024-11-20T09:39:10.093360Z",
     "shell.execute_reply.started": "2024-11-20T09:39:10.093328Z"
    },
    "trusted": true
   },
   "outputs": [
    {
     "name": "stdout",
     "output_type": "stream",
     "text": [
      "[<Dense name=dense, built=True>, <Dense name=dense_1, built=True>, <Dense name=dense_2, built=True>]\n",
      "[<KerasTensor shape=(None, 8), dtype=float32, sparse=None, name=keras_tensor>]\n",
      "[<KerasTensor shape=(None, 1), dtype=float32, sparse=False, name=keras_tensor_6>]\n"
     ]
    }
   ],
   "source": [
    "layers = model.layers \n",
    "print(layers) \n",
    "\n",
    "inputs = model.inputs \n",
    "print(inputs) \n",
    "\n",
    "outputs = model.outputs \n",
    "print(outputs) "
   ]
  },
  {
   "cell_type": "markdown",
   "metadata": {},
   "source": [
    "**model.get_weights()** − Returns all the weights as a list object."
   ]
  },
  {
   "cell_type": "code",
   "execution_count": 39,
   "metadata": {
    "execution": {
     "iopub.status.busy": "2024-11-20T09:39:10.095250Z",
     "iopub.status.idle": "2024-11-20T09:39:10.096050Z",
     "shell.execute_reply": "2024-11-20T09:39:10.095712Z",
     "shell.execute_reply.started": "2024-11-20T09:39:10.095659Z"
    },
    "trusted": true
   },
   "outputs": [
    {
     "name": "stdout",
     "output_type": "stream",
     "text": [
      "[array([[ 0.2558386 , -0.41258684,  0.24902885, -0.31176826,  0.34877127,\n",
      "        -0.26116753,  0.664088  , -0.29828575,  0.53146327, -0.09158043,\n",
      "        -0.37881407, -0.38139626,  0.5197553 ,  0.357407  , -0.1822637 ,\n",
      "         0.18127662,  0.28534096, -0.08540999,  0.04358368, -0.1836803 ,\n",
      "         0.20350313, -0.15400381,  0.46205512,  0.76547915],\n",
      "       [-0.11404146,  0.5487686 ,  0.42106003, -0.234834  , -0.3451609 ,\n",
      "         0.01683741,  0.16444556, -0.28568572,  0.10677604, -0.03683077,\n",
      "         0.35568994,  0.49639302,  0.02160432,  0.3067455 , -0.2849488 ,\n",
      "        -0.03324384, -0.43776992,  0.08530404,  0.37168336,  0.05987648,\n",
      "         0.10618912,  0.4233504 ,  0.1873927 , -0.21846303],\n",
      "       [ 0.43951437, -0.20125927, -0.05286391,  0.29359233, -0.05618829,\n",
      "        -0.04531999, -0.13734673,  0.2582398 ,  0.40237576,  0.28556067,\n",
      "        -0.09548058, -0.29844707,  0.34140784, -0.4738804 ,  0.30688015,\n",
      "        -0.4027255 , -0.06030379, -0.3536931 , -0.22405504, -0.397819  ,\n",
      "         0.05005683, -0.45666793,  0.21433595,  0.19876572],\n",
      "       [-0.29857022,  0.08591146,  0.12449882, -0.01433159,  0.3627576 ,\n",
      "         0.06023757, -0.2719905 ,  0.43099603, -0.21144645, -0.02779165,\n",
      "         0.39270377,  0.14076793,  0.01097057, -0.76982754, -0.60746914,\n",
      "        -0.17815489, -0.4850707 ,  0.4885405 , -0.28907415, -0.20672151,\n",
      "         0.29031774, -0.16990642, -0.102663  ,  0.4147158 ],\n",
      "       [-0.571337  , -0.11128457, -0.5965866 ,  0.17755133, -0.4313641 ,\n",
      "        -0.07871445,  0.49516237,  0.47588938,  0.22610089,  0.1368916 ,\n",
      "         0.25148597,  0.24819446, -0.47655785,  0.12518077, -0.29828063,\n",
      "        -0.10125116, -0.10536033, -0.16005975, -0.11254857, -0.12752396,\n",
      "        -0.28128013,  0.4860919 , -0.17320704, -0.2255107 ],\n",
      "       [-0.30895177,  0.29899368, -0.2502928 ,  0.13514063, -0.2605441 ,\n",
      "        -0.15056467, -0.30081293, -0.23662636, -0.2493378 , -0.16513139,\n",
      "         0.41755643,  0.04284532, -0.14967869, -0.1464926 ,  0.3813297 ,\n",
      "        -0.1244081 ,  0.3438684 , -0.12912162,  0.09883495,  0.3560004 ,\n",
      "        -0.17383166, -0.6053411 ,  0.36820018,  0.33678743],\n",
      "       [-0.37272012, -0.3373396 , -0.2512809 , -0.19546317,  0.5589358 ,\n",
      "         0.01217528,  0.13279712,  0.10405388, -0.22564603,  0.4174354 ,\n",
      "         0.39036265, -0.07195889,  0.10790682, -0.21650344, -0.5410832 ,\n",
      "        -0.15317355, -0.29196134, -0.7105197 ,  0.5075495 , -0.6817338 ,\n",
      "        -0.7940282 ,  0.3436643 , -0.10621987, -0.12893267],\n",
      "       [ 0.04344264, -0.16551422, -0.36342272, -0.26576605,  0.45887253,\n",
      "        -0.07615378, -0.79450774,  0.4761954 , -0.59788215, -0.49857092,\n",
      "        -0.12887608, -0.05296648,  0.5844301 ,  0.1505379 ,  0.29294422,\n",
      "        -0.3860744 ,  0.4451129 ,  0.5499285 , -0.920655  , -0.15635073,\n",
      "        -0.48893502, -0.43390858,  0.2785606 ,  0.10190364]],\n",
      "      dtype=float32), array([ 0.00426884, -0.11135596,  0.00177619,  0.19556028,  0.01771374,\n",
      "       -0.02800771,  0.11337705, -0.08429395,  0.03100999,  0.14256763,\n",
      "       -0.093995  , -0.05955556, -0.05811221, -0.05007706,  0.06026791,\n",
      "       -0.01279733, -0.08604655, -0.00197756, -0.19035183, -0.11173104,\n",
      "        0.11097717, -0.02178216, -0.12015653, -0.01861461], dtype=float32), array([[-5.59974229e-04, -3.75217706e-01, -3.33457768e-01,\n",
      "        -3.41321260e-01, -1.87060550e-01,  2.00484827e-01,\n",
      "        -4.37214881e-01,  1.64949015e-01,  3.05325091e-02,\n",
      "         5.73994994e-01,  5.81407905e-01,  4.75829720e-01],\n",
      "       [ 1.25283808e-01,  1.37701690e-01, -3.67577165e-01,\n",
      "        -5.73518686e-02,  5.91970347e-02,  1.45642072e-01,\n",
      "         4.15281624e-01,  2.17445016e-01, -1.84221208e-01,\n",
      "         7.75446221e-02,  2.41605744e-01, -4.28696603e-01],\n",
      "       [ 3.25598329e-01,  7.54389465e-01, -4.96553451e-01,\n",
      "        -2.12279707e-01,  6.81845248e-01,  3.76657516e-01,\n",
      "         5.03033340e-01, -6.54863417e-01,  2.83349216e-01,\n",
      "        -6.48785889e-01,  3.56649041e-01, -1.39300629e-01],\n",
      "       [-4.29591000e-01, -1.64562717e-01,  6.11661613e-01,\n",
      "         2.70955861e-01, -1.72531635e-01, -1.73978105e-01,\n",
      "        -1.10032022e-01,  1.20976552e-01,  2.23107755e-01,\n",
      "         1.88584879e-01,  2.88485974e-01,  5.61615825e-01],\n",
      "       [-5.45968354e-01, -9.82193276e-02,  2.36370098e-02,\n",
      "        -3.82294476e-01,  1.36686578e-01, -1.32620609e+00,\n",
      "        -1.65395275e-01,  2.25032836e-01,  1.80891454e-02,\n",
      "         3.22596818e-01, -5.83867669e-01, -1.24483891e-01],\n",
      "       [ 1.51721671e-01, -4.20545697e-01, -2.96930164e-01,\n",
      "        -1.83826253e-01,  3.58709961e-01,  1.41660005e-01,\n",
      "         3.52006674e-01,  1.21026367e-01, -2.66653150e-01,\n",
      "         1.88938811e-01,  3.86635125e-01,  3.08524400e-01],\n",
      "       [ 3.53043258e-01,  2.27026537e-01, -1.01990044e+00,\n",
      "         2.18833089e-02, -1.95210516e-01, -7.70304441e-01,\n",
      "        -1.24674365e-01, -5.56004643e-01, -1.29744053e-01,\n",
      "         3.96290272e-01,  1.00501943e+00, -9.84791890e-02],\n",
      "       [-1.25442728e-01,  3.96891415e-01, -8.10286328e-02,\n",
      "         7.46469498e-02,  6.28812373e-01, -8.27395916e-02,\n",
      "        -8.42534453e-02, -5.45089245e-01,  1.36088789e-01,\n",
      "        -1.06325068e-01, -1.30253598e-01, -2.44241953e-01],\n",
      "       [ 1.07496396e-01,  2.53729314e-01,  1.61328867e-01,\n",
      "         1.78183958e-01, -6.81739897e-02, -7.62562037e-01,\n",
      "        -2.84778088e-01,  1.22632325e-01,  4.09159958e-02,\n",
      "         8.84413421e-02,  4.58375394e-01, -2.54529357e-01],\n",
      "       [-1.27040148e-01,  1.32846192e-01,  1.89037159e-01,\n",
      "        -7.22663775e-02, -3.05033058e-01,  6.93357661e-02,\n",
      "         1.61713228e-01,  2.11539865e-01,  3.74038458e-01,\n",
      "         1.29508838e-01,  3.54633667e-02,  4.09413785e-01],\n",
      "       [ 4.72315937e-01,  1.55028090e-01, -9.98570696e-02,\n",
      "        -1.56852543e-01, -1.47668486e-02,  5.27676761e-01,\n",
      "         3.97007436e-01, -1.34794697e-01, -3.87689710e-01,\n",
      "         3.64979237e-01, -5.11974156e-01,  1.80050850e-01],\n",
      "       [-2.58819520e-01,  3.41419995e-01, -1.28063905e+00,\n",
      "        -2.60628104e-01,  4.15625215e-01, -1.18743395e-02,\n",
      "         3.16020846e-01, -9.25413892e-02,  3.64201367e-02,\n",
      "        -3.01623225e-01, -6.06243730e-01,  3.28510374e-01],\n",
      "       [ 1.61916450e-01, -1.30383624e-03,  2.73754507e-01,\n",
      "        -2.29724362e-01,  3.62718672e-01,  1.38312951e-02,\n",
      "         2.70529926e-01,  3.14381003e-01, -2.11524546e-01,\n",
      "        -1.21706672e-01, -4.37971741e-01, -3.75639588e-01],\n",
      "       [-6.52510464e-01, -6.57593071e-01,  1.20392156e+00,\n",
      "        -5.43759167e-02, -3.01019758e-01,  3.75033379e-01,\n",
      "        -6.89540088e-01,  2.78737754e-01, -2.76398033e-01,\n",
      "         1.86002538e-01, -4.13894691e-02,  1.94956064e-01],\n",
      "       [ 4.01729107e-01,  3.70007217e-01, -6.40258729e-01,\n",
      "        -3.86777639e-01, -7.85053521e-02, -8.98845613e-01,\n",
      "         3.23683560e-01, -4.28591818e-01,  2.99348831e-01,\n",
      "        -1.97328880e-01, -3.16340119e-01,  9.00124684e-02],\n",
      "       [-2.17277288e-01,  1.92680553e-01, -3.36470068e-01,\n",
      "        -1.17525518e-01,  3.88645440e-01, -1.51998878e-01,\n",
      "         3.16604167e-01,  5.47212660e-02, -1.98172763e-01,\n",
      "         8.72284621e-02, -2.39857987e-01,  1.98789686e-02],\n",
      "       [-9.88764346e-01, -6.12121403e-01,  5.36410987e-01,\n",
      "         5.73043972e-02, -1.09010792e+00,  1.34668976e-01,\n",
      "        -1.06344688e+00,  1.04104912e+00, -1.16746843e-01,\n",
      "         7.79993892e-01, -4.26359335e-03,  8.64337444e-01],\n",
      "       [-3.59384775e-01, -3.19768041e-01,  8.59187186e-01,\n",
      "        -1.82733566e-01, -1.03907175e-01,  1.06820976e-02,\n",
      "        -7.29841948e-01,  6.99695349e-01,  3.94183755e-01,\n",
      "         1.80074275e-01, -1.24170637e+00,  4.78714168e-01],\n",
      "       [ 9.77893054e-01,  5.56381822e-01, -3.61515433e-02,\n",
      "         2.41174713e-01,  4.31052327e-01,  1.08199799e+00,\n",
      "         3.53063732e-01, -7.56266713e-01,  1.37749016e-01,\n",
      "        -1.07323444e+00, -4.02767211e-01, -3.17356676e-01],\n",
      "       [ 3.73414010e-01,  2.22246572e-01,  1.06517419e-01,\n",
      "        -3.80187124e-01,  4.50547427e-01,  1.07733214e+00,\n",
      "         1.70309082e-01, -3.85592550e-01, -1.29673183e-02,\n",
      "        -4.25546855e-01,  1.86049774e-01, -3.39173019e-01],\n",
      "       [-3.32697004e-01, -6.15966678e-01,  1.23153858e-01,\n",
      "        -2.82470673e-01, -7.65782356e-01, -4.89675730e-01,\n",
      "        -3.61138195e-01,  3.88833106e-01, -2.56146640e-01,\n",
      "         2.19528109e-01,  4.88746375e-01,  7.08728284e-02],\n",
      "       [-5.43610096e-01, -3.20289344e-01, -2.38419160e-01,\n",
      "         3.07927579e-01, -4.25695300e-01, -4.51902807e-01,\n",
      "        -8.96844804e-01,  7.11180046e-02, -1.86767161e-01,\n",
      "         8.36600304e-01,  2.87351727e-01,  9.49780405e-01],\n",
      "       [ 4.81562406e-01, -1.94977038e-02,  2.85939276e-01,\n",
      "        -5.55542205e-03,  3.84347051e-01, -3.96814235e-02,\n",
      "         3.91603708e-01,  1.26039058e-01, -2.92366952e-01,\n",
      "         2.56568044e-01,  1.27498507e-01, -3.86598766e-01],\n",
      "       [-3.01664114e-01,  2.84729660e-01, -4.19069618e-01,\n",
      "         7.50970021e-02,  2.82679230e-01, -1.29851118e-01,\n",
      "        -3.05090589e-03,  6.23914935e-02, -4.01933461e-01,\n",
      "        -3.83065373e-01,  1.58745144e-02,  5.62480465e-02]], dtype=float32), array([-0.00842064, -0.01873813,  0.02143079, -0.02636424, -0.03009001,\n",
      "       -0.11717144, -0.02807591,  0.06718338,  0.        ,  0.02522125,\n",
      "       -0.08768931,  0.19189967], dtype=float32), array([[ 0.7124818 ],\n",
      "       [ 0.3525713 ],\n",
      "       [-1.3366537 ],\n",
      "       [ 0.4207437 ],\n",
      "       [ 0.788942  ],\n",
      "       [ 2.292757  ],\n",
      "       [ 0.82509255],\n",
      "       [-0.8102644 ],\n",
      "       [-0.0724088 ],\n",
      "       [-0.65792686],\n",
      "       [-1.3558853 ],\n",
      "       [-0.69724715]], dtype=float32), array([-0.02322453], dtype=float32)]\n"
     ]
    }
   ],
   "source": [
    "# Display the learned parameters of the Keras NN\n",
    "print(model.get_weights())"
   ]
  },
  {
   "cell_type": "code",
   "execution_count": 40,
   "metadata": {
    "execution": {
     "iopub.status.busy": "2024-11-20T09:39:10.099166Z",
     "iopub.status.idle": "2024-11-20T09:39:10.099831Z",
     "shell.execute_reply": "2024-11-20T09:39:10.099526Z",
     "shell.execute_reply.started": "2024-11-20T09:39:10.099493Z"
    },
    "trusted": true
   },
   "outputs": [
    {
     "data": {
      "text/html": [
       "<pre style=\"white-space:pre;overflow-x:auto;line-height:normal;font-family:Menlo,'DejaVu Sans Mono',consolas,'Courier New',monospace\"><span style=\"font-weight: bold\">Model: \"sequential\"</span>\n",
       "</pre>\n"
      ],
      "text/plain": [
       "\u001b[1mModel: \"sequential\"\u001b[0m\n"
      ]
     },
     "metadata": {},
     "output_type": "display_data"
    },
    {
     "data": {
      "text/html": [
       "<pre style=\"white-space:pre;overflow-x:auto;line-height:normal;font-family:Menlo,'DejaVu Sans Mono',consolas,'Courier New',monospace\">┏━━━━━━━━━━━━━━━━━━━━━━━━━━━━━━━━━┳━━━━━━━━━━━━━━━━━━━━━━━━┳━━━━━━━━━━━━━━━┓\n",
       "┃<span style=\"font-weight: bold\"> Layer (type)                    </span>┃<span style=\"font-weight: bold\"> Output Shape           </span>┃<span style=\"font-weight: bold\">       Param # </span>┃\n",
       "┡━━━━━━━━━━━━━━━━━━━━━━━━━━━━━━━━━╇━━━━━━━━━━━━━━━━━━━━━━━━╇━━━━━━━━━━━━━━━┩\n",
       "│ dense (<span style=\"color: #0087ff; text-decoration-color: #0087ff\">Dense</span>)                   │ (<span style=\"color: #00d7ff; text-decoration-color: #00d7ff\">None</span>, <span style=\"color: #00af00; text-decoration-color: #00af00\">24</span>)             │           <span style=\"color: #00af00; text-decoration-color: #00af00\">216</span> │\n",
       "├─────────────────────────────────┼────────────────────────┼───────────────┤\n",
       "│ dense_1 (<span style=\"color: #0087ff; text-decoration-color: #0087ff\">Dense</span>)                 │ (<span style=\"color: #00d7ff; text-decoration-color: #00d7ff\">None</span>, <span style=\"color: #00af00; text-decoration-color: #00af00\">12</span>)             │           <span style=\"color: #00af00; text-decoration-color: #00af00\">300</span> │\n",
       "├─────────────────────────────────┼────────────────────────┼───────────────┤\n",
       "│ dense_2 (<span style=\"color: #0087ff; text-decoration-color: #0087ff\">Dense</span>)                 │ (<span style=\"color: #00d7ff; text-decoration-color: #00d7ff\">None</span>, <span style=\"color: #00af00; text-decoration-color: #00af00\">1</span>)              │            <span style=\"color: #00af00; text-decoration-color: #00af00\">13</span> │\n",
       "└─────────────────────────────────┴────────────────────────┴───────────────┘\n",
       "</pre>\n"
      ],
      "text/plain": [
       "┏━━━━━━━━━━━━━━━━━━━━━━━━━━━━━━━━━┳━━━━━━━━━━━━━━━━━━━━━━━━┳━━━━━━━━━━━━━━━┓\n",
       "┃\u001b[1m \u001b[0m\u001b[1mLayer (type)                   \u001b[0m\u001b[1m \u001b[0m┃\u001b[1m \u001b[0m\u001b[1mOutput Shape          \u001b[0m\u001b[1m \u001b[0m┃\u001b[1m \u001b[0m\u001b[1m      Param #\u001b[0m\u001b[1m \u001b[0m┃\n",
       "┡━━━━━━━━━━━━━━━━━━━━━━━━━━━━━━━━━╇━━━━━━━━━━━━━━━━━━━━━━━━╇━━━━━━━━━━━━━━━┩\n",
       "│ dense (\u001b[38;5;33mDense\u001b[0m)                   │ (\u001b[38;5;45mNone\u001b[0m, \u001b[38;5;34m24\u001b[0m)             │           \u001b[38;5;34m216\u001b[0m │\n",
       "├─────────────────────────────────┼────────────────────────┼───────────────┤\n",
       "│ dense_1 (\u001b[38;5;33mDense\u001b[0m)                 │ (\u001b[38;5;45mNone\u001b[0m, \u001b[38;5;34m12\u001b[0m)             │           \u001b[38;5;34m300\u001b[0m │\n",
       "├─────────────────────────────────┼────────────────────────┼───────────────┤\n",
       "│ dense_2 (\u001b[38;5;33mDense\u001b[0m)                 │ (\u001b[38;5;45mNone\u001b[0m, \u001b[38;5;34m1\u001b[0m)              │            \u001b[38;5;34m13\u001b[0m │\n",
       "└─────────────────────────────────┴────────────────────────┴───────────────┘\n"
      ]
     },
     "metadata": {},
     "output_type": "display_data"
    },
    {
     "data": {
      "text/html": [
       "<pre style=\"white-space:pre;overflow-x:auto;line-height:normal;font-family:Menlo,'DejaVu Sans Mono',consolas,'Courier New',monospace\"><span style=\"font-weight: bold\"> Total params: </span><span style=\"color: #00af00; text-decoration-color: #00af00\">1,589</span> (6.21 KB)\n",
       "</pre>\n"
      ],
      "text/plain": [
       "\u001b[1m Total params: \u001b[0m\u001b[38;5;34m1,589\u001b[0m (6.21 KB)\n"
      ]
     },
     "metadata": {},
     "output_type": "display_data"
    },
    {
     "data": {
      "text/html": [
       "<pre style=\"white-space:pre;overflow-x:auto;line-height:normal;font-family:Menlo,'DejaVu Sans Mono',consolas,'Courier New',monospace\"><span style=\"font-weight: bold\"> Trainable params: </span><span style=\"color: #00af00; text-decoration-color: #00af00\">529</span> (2.07 KB)\n",
       "</pre>\n"
      ],
      "text/plain": [
       "\u001b[1m Trainable params: \u001b[0m\u001b[38;5;34m529\u001b[0m (2.07 KB)\n"
      ]
     },
     "metadata": {},
     "output_type": "display_data"
    },
    {
     "data": {
      "text/html": [
       "<pre style=\"white-space:pre;overflow-x:auto;line-height:normal;font-family:Menlo,'DejaVu Sans Mono',consolas,'Courier New',monospace\"><span style=\"font-weight: bold\"> Non-trainable params: </span><span style=\"color: #00af00; text-decoration-color: #00af00\">0</span> (0.00 B)\n",
       "</pre>\n"
      ],
      "text/plain": [
       "\u001b[1m Non-trainable params: \u001b[0m\u001b[38;5;34m0\u001b[0m (0.00 B)\n"
      ]
     },
     "metadata": {},
     "output_type": "display_data"
    },
    {
     "data": {
      "text/html": [
       "<pre style=\"white-space:pre;overflow-x:auto;line-height:normal;font-family:Menlo,'DejaVu Sans Mono',consolas,'Courier New',monospace\"><span style=\"font-weight: bold\"> Optimizer params: </span><span style=\"color: #00af00; text-decoration-color: #00af00\">1,060</span> (4.14 KB)\n",
       "</pre>\n"
      ],
      "text/plain": [
       "\u001b[1m Optimizer params: \u001b[0m\u001b[38;5;34m1,060\u001b[0m (4.14 KB)\n"
      ]
     },
     "metadata": {},
     "output_type": "display_data"
    }
   ],
   "source": [
    "model.summary()"
   ]
  },
  {
   "cell_type": "code",
   "execution_count": 42,
   "metadata": {
    "execution": {
     "iopub.status.busy": "2024-11-20T09:39:10.101362Z",
     "iopub.status.idle": "2024-11-20T09:39:10.102013Z",
     "shell.execute_reply": "2024-11-20T09:39:10.101715Z",
     "shell.execute_reply.started": "2024-11-20T09:39:10.101683Z"
    },
    "trusted": true
   },
   "outputs": [
    {
     "ename": "AttributeError",
     "evalue": "module 'pydot' has no attribute 'InvocationException'",
     "output_type": "error",
     "traceback": [
      "\u001b[1;31m---------------------------------------------------------------------------\u001b[0m",
      "\u001b[1;31mFileNotFoundError\u001b[0m                         Traceback (most recent call last)",
      "File \u001b[1;32mc:\\Users\\Anis\\AppData\\Local\\Programs\\Python\\Python311\\Lib\\site-packages\\pydot\\core.py:1851\u001b[0m, in \u001b[0;36mDot.create\u001b[1;34m(self, prog, format, encoding)\u001b[0m\n\u001b[0;32m   1850\u001b[0m \u001b[38;5;28;01mtry\u001b[39;00m:\n\u001b[1;32m-> 1851\u001b[0m     stdout_data, stderr_data, process \u001b[38;5;241m=\u001b[39m \u001b[43mcall_graphviz\u001b[49m\u001b[43m(\u001b[49m\n\u001b[0;32m   1852\u001b[0m \u001b[43m        \u001b[49m\u001b[43mprogram\u001b[49m\u001b[38;5;241;43m=\u001b[39;49m\u001b[43mprog\u001b[49m\u001b[43m,\u001b[49m\n\u001b[0;32m   1853\u001b[0m \u001b[43m        \u001b[49m\u001b[43marguments\u001b[49m\u001b[38;5;241;43m=\u001b[39;49m\u001b[43marguments\u001b[49m\u001b[43m,\u001b[49m\n\u001b[0;32m   1854\u001b[0m \u001b[43m        \u001b[49m\u001b[43mworking_dir\u001b[49m\u001b[38;5;241;43m=\u001b[39;49m\u001b[43mtmp_dir\u001b[49m\u001b[43m,\u001b[49m\n\u001b[0;32m   1855\u001b[0m \u001b[43m    \u001b[49m\u001b[43m)\u001b[49m\n\u001b[0;32m   1856\u001b[0m \u001b[38;5;28;01mexcept\u001b[39;00m \u001b[38;5;167;01mOSError\u001b[39;00m \u001b[38;5;28;01mas\u001b[39;00m e:\n",
      "File \u001b[1;32mc:\\Users\\Anis\\AppData\\Local\\Programs\\Python\\Python311\\Lib\\site-packages\\pydot\\core.py:211\u001b[0m, in \u001b[0;36mcall_graphviz\u001b[1;34m(program, arguments, working_dir, **kwargs)\u001b[0m\n\u001b[0;32m    209\u001b[0m program_with_args \u001b[38;5;241m=\u001b[39m [program] \u001b[38;5;241m+\u001b[39m arguments\n\u001b[1;32m--> 211\u001b[0m process \u001b[38;5;241m=\u001b[39m \u001b[43msubprocess\u001b[49m\u001b[38;5;241;43m.\u001b[39;49m\u001b[43mPopen\u001b[49m\u001b[43m(\u001b[49m\n\u001b[0;32m    212\u001b[0m \u001b[43m    \u001b[49m\u001b[43mprogram_with_args\u001b[49m\u001b[43m,\u001b[49m\n\u001b[0;32m    213\u001b[0m \u001b[43m    \u001b[49m\u001b[43menv\u001b[49m\u001b[38;5;241;43m=\u001b[39;49m\u001b[43menv\u001b[49m\u001b[43m,\u001b[49m\n\u001b[0;32m    214\u001b[0m \u001b[43m    \u001b[49m\u001b[43mcwd\u001b[49m\u001b[38;5;241;43m=\u001b[39;49m\u001b[43mworking_dir\u001b[49m\u001b[43m,\u001b[49m\n\u001b[0;32m    215\u001b[0m \u001b[43m    \u001b[49m\u001b[43mshell\u001b[49m\u001b[38;5;241;43m=\u001b[39;49m\u001b[38;5;28;43;01mFalse\u001b[39;49;00m\u001b[43m,\u001b[49m\n\u001b[0;32m    216\u001b[0m \u001b[43m    \u001b[49m\u001b[43mstderr\u001b[49m\u001b[38;5;241;43m=\u001b[39;49m\u001b[43msubprocess\u001b[49m\u001b[38;5;241;43m.\u001b[39;49m\u001b[43mPIPE\u001b[49m\u001b[43m,\u001b[49m\n\u001b[0;32m    217\u001b[0m \u001b[43m    \u001b[49m\u001b[43mstdout\u001b[49m\u001b[38;5;241;43m=\u001b[39;49m\u001b[43msubprocess\u001b[49m\u001b[38;5;241;43m.\u001b[39;49m\u001b[43mPIPE\u001b[49m\u001b[43m,\u001b[49m\n\u001b[0;32m    218\u001b[0m \u001b[43m    \u001b[49m\u001b[38;5;241;43m*\u001b[39;49m\u001b[38;5;241;43m*\u001b[39;49m\u001b[43mkwargs\u001b[49m\u001b[43m,\u001b[49m\n\u001b[0;32m    219\u001b[0m \u001b[43m\u001b[49m\u001b[43m)\u001b[49m\n\u001b[0;32m    220\u001b[0m stdout_data, stderr_data \u001b[38;5;241m=\u001b[39m process\u001b[38;5;241m.\u001b[39mcommunicate()\n",
      "File \u001b[1;32mc:\\Users\\Anis\\AppData\\Local\\Programs\\Python\\Python311\\Lib\\subprocess.py:1024\u001b[0m, in \u001b[0;36mPopen.__init__\u001b[1;34m(self, args, bufsize, executable, stdin, stdout, stderr, preexec_fn, close_fds, shell, cwd, env, universal_newlines, startupinfo, creationflags, restore_signals, start_new_session, pass_fds, user, group, extra_groups, encoding, errors, text, umask, pipesize, process_group)\u001b[0m\n\u001b[0;32m   1021\u001b[0m             \u001b[38;5;28mself\u001b[39m\u001b[38;5;241m.\u001b[39mstderr \u001b[38;5;241m=\u001b[39m io\u001b[38;5;241m.\u001b[39mTextIOWrapper(\u001b[38;5;28mself\u001b[39m\u001b[38;5;241m.\u001b[39mstderr,\n\u001b[0;32m   1022\u001b[0m                     encoding\u001b[38;5;241m=\u001b[39mencoding, errors\u001b[38;5;241m=\u001b[39merrors)\n\u001b[1;32m-> 1024\u001b[0m     \u001b[38;5;28;43mself\u001b[39;49m\u001b[38;5;241;43m.\u001b[39;49m\u001b[43m_execute_child\u001b[49m\u001b[43m(\u001b[49m\u001b[43margs\u001b[49m\u001b[43m,\u001b[49m\u001b[43m \u001b[49m\u001b[43mexecutable\u001b[49m\u001b[43m,\u001b[49m\u001b[43m \u001b[49m\u001b[43mpreexec_fn\u001b[49m\u001b[43m,\u001b[49m\u001b[43m \u001b[49m\u001b[43mclose_fds\u001b[49m\u001b[43m,\u001b[49m\n\u001b[0;32m   1025\u001b[0m \u001b[43m                        \u001b[49m\u001b[43mpass_fds\u001b[49m\u001b[43m,\u001b[49m\u001b[43m \u001b[49m\u001b[43mcwd\u001b[49m\u001b[43m,\u001b[49m\u001b[43m \u001b[49m\u001b[43menv\u001b[49m\u001b[43m,\u001b[49m\n\u001b[0;32m   1026\u001b[0m \u001b[43m                        \u001b[49m\u001b[43mstartupinfo\u001b[49m\u001b[43m,\u001b[49m\u001b[43m \u001b[49m\u001b[43mcreationflags\u001b[49m\u001b[43m,\u001b[49m\u001b[43m \u001b[49m\u001b[43mshell\u001b[49m\u001b[43m,\u001b[49m\n\u001b[0;32m   1027\u001b[0m \u001b[43m                        \u001b[49m\u001b[43mp2cread\u001b[49m\u001b[43m,\u001b[49m\u001b[43m \u001b[49m\u001b[43mp2cwrite\u001b[49m\u001b[43m,\u001b[49m\n\u001b[0;32m   1028\u001b[0m \u001b[43m                        \u001b[49m\u001b[43mc2pread\u001b[49m\u001b[43m,\u001b[49m\u001b[43m \u001b[49m\u001b[43mc2pwrite\u001b[49m\u001b[43m,\u001b[49m\n\u001b[0;32m   1029\u001b[0m \u001b[43m                        \u001b[49m\u001b[43merrread\u001b[49m\u001b[43m,\u001b[49m\u001b[43m \u001b[49m\u001b[43merrwrite\u001b[49m\u001b[43m,\u001b[49m\n\u001b[0;32m   1030\u001b[0m \u001b[43m                        \u001b[49m\u001b[43mrestore_signals\u001b[49m\u001b[43m,\u001b[49m\n\u001b[0;32m   1031\u001b[0m \u001b[43m                        \u001b[49m\u001b[43mgid\u001b[49m\u001b[43m,\u001b[49m\u001b[43m \u001b[49m\u001b[43mgids\u001b[49m\u001b[43m,\u001b[49m\u001b[43m \u001b[49m\u001b[43muid\u001b[49m\u001b[43m,\u001b[49m\u001b[43m \u001b[49m\u001b[43mumask\u001b[49m\u001b[43m,\u001b[49m\n\u001b[0;32m   1032\u001b[0m \u001b[43m                        \u001b[49m\u001b[43mstart_new_session\u001b[49m\u001b[43m,\u001b[49m\u001b[43m \u001b[49m\u001b[43mprocess_group\u001b[49m\u001b[43m)\u001b[49m\n\u001b[0;32m   1033\u001b[0m \u001b[38;5;28;01mexcept\u001b[39;00m:\n\u001b[0;32m   1034\u001b[0m     \u001b[38;5;66;03m# Cleanup if the child failed starting.\u001b[39;00m\n",
      "File \u001b[1;32mc:\\Users\\Anis\\AppData\\Local\\Programs\\Python\\Python311\\Lib\\subprocess.py:1509\u001b[0m, in \u001b[0;36mPopen._execute_child\u001b[1;34m(self, args, executable, preexec_fn, close_fds, pass_fds, cwd, env, startupinfo, creationflags, shell, p2cread, p2cwrite, c2pread, c2pwrite, errread, errwrite, unused_restore_signals, unused_gid, unused_gids, unused_uid, unused_umask, unused_start_new_session, unused_process_group)\u001b[0m\n\u001b[0;32m   1508\u001b[0m \u001b[38;5;28;01mtry\u001b[39;00m:\n\u001b[1;32m-> 1509\u001b[0m     hp, ht, pid, tid \u001b[38;5;241m=\u001b[39m \u001b[43m_winapi\u001b[49m\u001b[38;5;241;43m.\u001b[39;49m\u001b[43mCreateProcess\u001b[49m\u001b[43m(\u001b[49m\u001b[43mexecutable\u001b[49m\u001b[43m,\u001b[49m\u001b[43m \u001b[49m\u001b[43margs\u001b[49m\u001b[43m,\u001b[49m\n\u001b[0;32m   1510\u001b[0m \u001b[43m                             \u001b[49m\u001b[38;5;66;43;03m# no special security\u001b[39;49;00m\n\u001b[0;32m   1511\u001b[0m \u001b[43m                             \u001b[49m\u001b[38;5;28;43;01mNone\u001b[39;49;00m\u001b[43m,\u001b[49m\u001b[43m \u001b[49m\u001b[38;5;28;43;01mNone\u001b[39;49;00m\u001b[43m,\u001b[49m\n\u001b[0;32m   1512\u001b[0m \u001b[43m                             \u001b[49m\u001b[38;5;28;43mint\u001b[39;49m\u001b[43m(\u001b[49m\u001b[38;5;129;43;01mnot\u001b[39;49;00m\u001b[43m \u001b[49m\u001b[43mclose_fds\u001b[49m\u001b[43m)\u001b[49m\u001b[43m,\u001b[49m\n\u001b[0;32m   1513\u001b[0m \u001b[43m                             \u001b[49m\u001b[43mcreationflags\u001b[49m\u001b[43m,\u001b[49m\n\u001b[0;32m   1514\u001b[0m \u001b[43m                             \u001b[49m\u001b[43menv\u001b[49m\u001b[43m,\u001b[49m\n\u001b[0;32m   1515\u001b[0m \u001b[43m                             \u001b[49m\u001b[43mcwd\u001b[49m\u001b[43m,\u001b[49m\n\u001b[0;32m   1516\u001b[0m \u001b[43m                             \u001b[49m\u001b[43mstartupinfo\u001b[49m\u001b[43m)\u001b[49m\n\u001b[0;32m   1517\u001b[0m \u001b[38;5;28;01mfinally\u001b[39;00m:\n\u001b[0;32m   1518\u001b[0m     \u001b[38;5;66;03m# Child is launched. Close the parent's copy of those pipe\u001b[39;00m\n\u001b[0;32m   1519\u001b[0m     \u001b[38;5;66;03m# handles that only the child should have open.  You need\u001b[39;00m\n\u001b[1;32m   (...)\u001b[0m\n\u001b[0;32m   1522\u001b[0m     \u001b[38;5;66;03m# pipe will not close when the child process exits and the\u001b[39;00m\n\u001b[0;32m   1523\u001b[0m     \u001b[38;5;66;03m# ReadFile will hang.\u001b[39;00m\n",
      "\u001b[1;31mFileNotFoundError\u001b[0m: [WinError 2] The system cannot find the file specified",
      "\nDuring handling of the above exception, another exception occurred:\n",
      "\u001b[1;31mFileNotFoundError\u001b[0m                         Traceback (most recent call last)",
      "File \u001b[1;32mc:\\Users\\Anis\\AppData\\Local\\Programs\\Python\\Python311\\Lib\\site-packages\\keras\\src\\utils\\model_visualization.py:37\u001b[0m, in \u001b[0;36mcheck_graphviz\u001b[1;34m()\u001b[0m\n\u001b[0;32m     34\u001b[0m \u001b[38;5;28;01mtry\u001b[39;00m:\n\u001b[0;32m     35\u001b[0m     \u001b[38;5;66;03m# Attempt to create an image of a blank graph\u001b[39;00m\n\u001b[0;32m     36\u001b[0m     \u001b[38;5;66;03m# to check the pydot/graphviz installation.\u001b[39;00m\n\u001b[1;32m---> 37\u001b[0m     \u001b[43mpydot\u001b[49m\u001b[38;5;241;43m.\u001b[39;49m\u001b[43mDot\u001b[49m\u001b[38;5;241;43m.\u001b[39;49m\u001b[43mcreate\u001b[49m\u001b[43m(\u001b[49m\u001b[43mpydot\u001b[49m\u001b[38;5;241;43m.\u001b[39;49m\u001b[43mDot\u001b[49m\u001b[43m(\u001b[49m\u001b[43m)\u001b[49m\u001b[43m)\u001b[49m\n\u001b[0;32m     38\u001b[0m     \u001b[38;5;28;01mreturn\u001b[39;00m \u001b[38;5;28;01mTrue\u001b[39;00m\n",
      "File \u001b[1;32mc:\\Users\\Anis\\AppData\\Local\\Programs\\Python\\Python311\\Lib\\site-packages\\pydot\\core.py:1860\u001b[0m, in \u001b[0;36mDot.create\u001b[1;34m(self, prog, format, encoding)\u001b[0m\n\u001b[0;32m   1859\u001b[0m     args[\u001b[38;5;241m1\u001b[39m] \u001b[38;5;241m=\u001b[39m \u001b[38;5;124mf\u001b[39m\u001b[38;5;124m'\u001b[39m\u001b[38;5;124m\"\u001b[39m\u001b[38;5;132;01m{\u001b[39;00mprog\u001b[38;5;132;01m}\u001b[39;00m\u001b[38;5;124m\"\u001b[39m\u001b[38;5;124m not found in path.\u001b[39m\u001b[38;5;124m'\u001b[39m\n\u001b[1;32m-> 1860\u001b[0m     \u001b[38;5;28;01mraise\u001b[39;00m \u001b[38;5;167;01mOSError\u001b[39;00m(\u001b[38;5;241m*\u001b[39margs)\n\u001b[0;32m   1861\u001b[0m \u001b[38;5;28;01melse\u001b[39;00m:\n",
      "\u001b[1;31mFileNotFoundError\u001b[0m: [WinError 2] \"dot\" not found in path.",
      "\nDuring handling of the above exception, another exception occurred:\n",
      "\u001b[1;31mAttributeError\u001b[0m                            Traceback (most recent call last)",
      "Cell \u001b[1;32mIn[42], line 4\u001b[0m\n\u001b[0;32m      1\u001b[0m \u001b[38;5;66;03m# Visualize Model\u001b[39;00m\n\u001b[0;32m      2\u001b[0m \u001b[38;5;66;03m#from keras.utils.vis_utils import plot_model\u001b[39;00m\n\u001b[0;32m      3\u001b[0m \u001b[38;5;28;01mfrom\u001b[39;00m \u001b[38;5;21;01mtensorflow\u001b[39;00m\u001b[38;5;21;01m.\u001b[39;00m\u001b[38;5;21;01mkeras\u001b[39;00m\u001b[38;5;21;01m.\u001b[39;00m\u001b[38;5;21;01mutils\u001b[39;00m \u001b[38;5;28;01mimport\u001b[39;00m to_categorical, plot_model\n\u001b[1;32m----> 4\u001b[0m \u001b[43mplot_model\u001b[49m\u001b[43m(\u001b[49m\u001b[43mmodel\u001b[49m\u001b[43m,\u001b[49m\u001b[43m \u001b[49m\u001b[43mto_file\u001b[49m\u001b[38;5;241;43m=\u001b[39;49m\u001b[38;5;124;43m'\u001b[39;49m\u001b[38;5;124;43mmodel_plot.png\u001b[39;49m\u001b[38;5;124;43m'\u001b[39;49m\u001b[43m,\u001b[49m\u001b[43m \u001b[49m\n\u001b[0;32m      5\u001b[0m \u001b[43m           \u001b[49m\u001b[43mshow_shapes\u001b[49m\u001b[38;5;241;43m=\u001b[39;49m\u001b[38;5;28;43;01mTrue\u001b[39;49;00m\u001b[43m,\u001b[49m\u001b[43m \u001b[49m\n\u001b[0;32m      6\u001b[0m \u001b[43m           \u001b[49m\u001b[43mshow_layer_names\u001b[49m\u001b[38;5;241;43m=\u001b[39;49m\u001b[38;5;28;43;01mTrue\u001b[39;49;00m\u001b[43m,\u001b[49m\u001b[43m \u001b[49m\n\u001b[0;32m      7\u001b[0m \u001b[43m           \u001b[49m\u001b[43mdpi\u001b[49m\u001b[38;5;241;43m=\u001b[39;49m\u001b[38;5;241;43m50\u001b[39;49m\u001b[43m,\u001b[49m\u001b[43m \u001b[49m\n\u001b[0;32m      8\u001b[0m \u001b[43m           \u001b[49m\u001b[43mshow_layer_activations\u001b[49m\u001b[38;5;241;43m=\u001b[39;49m\u001b[38;5;28;43;01mTrue\u001b[39;49;00m\u001b[43m,\u001b[49m\n\u001b[0;32m      9\u001b[0m \u001b[43m           \u001b[49m\u001b[43mshow_trainable\u001b[49m\u001b[38;5;241;43m=\u001b[39;49m\u001b[38;5;28;43;01mTrue\u001b[39;49;00m\u001b[43m)\u001b[49m\n",
      "File \u001b[1;32mc:\\Users\\Anis\\AppData\\Local\\Programs\\Python\\Python311\\Lib\\site-packages\\keras\\src\\utils\\model_visualization.py:416\u001b[0m, in \u001b[0;36mplot_model\u001b[1;34m(model, to_file, show_shapes, show_dtype, show_layer_names, rankdir, expand_nested, dpi, show_layer_activations, show_trainable, **kwargs)\u001b[0m\n\u001b[0;32m    414\u001b[0m     \u001b[38;5;28;01melse\u001b[39;00m:\n\u001b[0;32m    415\u001b[0m         \u001b[38;5;28;01mraise\u001b[39;00m \u001b[38;5;167;01mImportError\u001b[39;00m(message)\n\u001b[1;32m--> 416\u001b[0m \u001b[38;5;28;01mif\u001b[39;00m \u001b[38;5;129;01mnot\u001b[39;00m \u001b[43mcheck_graphviz\u001b[49m\u001b[43m(\u001b[49m\u001b[43m)\u001b[49m:\n\u001b[0;32m    417\u001b[0m     message \u001b[38;5;241m=\u001b[39m (\n\u001b[0;32m    418\u001b[0m         \u001b[38;5;124m\"\u001b[39m\u001b[38;5;124mYou must install graphviz \u001b[39m\u001b[38;5;124m\"\u001b[39m\n\u001b[0;32m    419\u001b[0m         \u001b[38;5;124m\"\u001b[39m\u001b[38;5;124m(see instructions at https://graphviz.gitlab.io/download/) \u001b[39m\u001b[38;5;124m\"\u001b[39m\n\u001b[0;32m    420\u001b[0m         \u001b[38;5;124m\"\u001b[39m\u001b[38;5;124mfor `plot_model` to work.\u001b[39m\u001b[38;5;124m\"\u001b[39m\n\u001b[0;32m    421\u001b[0m     )\n\u001b[0;32m    422\u001b[0m     \u001b[38;5;28;01mif\u001b[39;00m \u001b[38;5;124m\"\u001b[39m\u001b[38;5;124mIPython.core.magics.namespace\u001b[39m\u001b[38;5;124m\"\u001b[39m \u001b[38;5;129;01min\u001b[39;00m sys\u001b[38;5;241m.\u001b[39mmodules:\n\u001b[0;32m    423\u001b[0m         \u001b[38;5;66;03m# We don't raise an exception here in order to avoid crashing\u001b[39;00m\n\u001b[0;32m    424\u001b[0m         \u001b[38;5;66;03m# notebook tests where graphviz is not available.\u001b[39;00m\n",
      "File \u001b[1;32mc:\\Users\\Anis\\AppData\\Local\\Programs\\Python\\Python311\\Lib\\site-packages\\keras\\src\\utils\\model_visualization.py:39\u001b[0m, in \u001b[0;36mcheck_graphviz\u001b[1;34m()\u001b[0m\n\u001b[0;32m     37\u001b[0m     pydot\u001b[38;5;241m.\u001b[39mDot\u001b[38;5;241m.\u001b[39mcreate(pydot\u001b[38;5;241m.\u001b[39mDot())\n\u001b[0;32m     38\u001b[0m     \u001b[38;5;28;01mreturn\u001b[39;00m \u001b[38;5;28;01mTrue\u001b[39;00m\n\u001b[1;32m---> 39\u001b[0m \u001b[38;5;28;01mexcept\u001b[39;00m (\u001b[38;5;167;01mOSError\u001b[39;00m, \u001b[43mpydot\u001b[49m\u001b[38;5;241;43m.\u001b[39;49m\u001b[43mInvocationException\u001b[49m):\n\u001b[0;32m     40\u001b[0m     \u001b[38;5;28;01mreturn\u001b[39;00m \u001b[38;5;28;01mFalse\u001b[39;00m\n",
      "\u001b[1;31mAttributeError\u001b[0m: module 'pydot' has no attribute 'InvocationException'"
     ]
    }
   ],
   "source": [
    "# Visualize Model\n",
    "#from keras.utils.vis_utils import plot_model\n",
    "from tensorflow.keras.utils import to_categorical, plot_model\n",
    "plot_model(model, to_file='model_plot.png', \n",
    "           show_shapes=True, \n",
    "           show_layer_names=True, \n",
    "           dpi=50, \n",
    "           show_layer_activations=True,\n",
    "           show_trainable=True)"
   ]
  },
  {
   "cell_type": "markdown",
   "metadata": {},
   "source": [
    "# Interface using Gradio\n",
    "### You can test the following codes in your PC (optional)\n",
    "if you want to test the following codes in your PC remove the comments"
   ]
  },
  {
   "cell_type": "code",
   "execution_count": null,
   "metadata": {
    "execution": {
     "iopub.status.busy": "2024-11-20T09:39:10.104378Z",
     "iopub.status.idle": "2024-11-20T09:39:10.104873Z",
     "shell.execute_reply": "2024-11-20T09:39:10.104642Z",
     "shell.execute_reply.started": "2024-11-20T09:39:10.104622Z"
    },
    "trusted": true
   },
   "outputs": [],
   "source": [
    "'''\n",
    "!pip install gradio\n",
    "import gradio as gr\n",
    "def predict_fun_(num1, num2,num3, num4,num5, num6,num7, num8):\n",
    "    inp= np.array([[num1, num2,num3, num4,num5, num6,num7, num8]])\n",
    "    print([inp])\n",
    "    y_pred=model.predict([inp])\n",
    "    return \"Diabetes\" if y_pred > 0.5 else \"No Diabetes\"\n",
    "\n",
    "\n",
    "interface = gr.Interface(fn=predict_fun_, \n",
    "            inputs=[gr.components.Slider(minimum=0, maximum=20,value=0, step=1,label=\"Pregnancies\"), \n",
    "                    gr.components.Slider(minimum=0, maximum=250,value=120, step=1,label=\"Glucose\"),\n",
    "                    gr.components.Slider(minimum=0, maximum=150,value=69, step=1,label=\"Blood Pressure\"),\n",
    "                    gr.components.Slider(minimum=0, maximum=120,value=20, step=1,label=\"Skin Thickness\"),\n",
    "                    gr.components.Slider(minimum=0, maximum=1000,value=80, step=1,label=\"Insulin\"),\n",
    "                    gr.components.Slider(minimum=0, maximum=80,value=32, step=1,label=\"BMI\"),\n",
    "                    gr.components.Number(value=0.47, label=\"Diabetes Pedigree Function\"),\n",
    "                    gr.components.Slider(minimum=0, maximum=100,value=33, step=1,label=\"Age\")], \n",
    "                         outputs=gr.components.Textbox(label=\"Prediction\"), \n",
    "                         title=\"ANN Classifier Model for Diabetes Prediction\",\n",
    "                         description=\"Enter the diagnostic test results to predict diabetes.\")\n",
    "\n",
    "interface.launch(share=True,debug=True) # Uncoment this line to see the Gradio Interface\n",
    "\n",
    "'''"
   ]
  },
  {
   "cell_type": "code",
   "execution_count": null,
   "metadata": {
    "trusted": true
   },
   "outputs": [],
   "source": []
  }
 ],
 "metadata": {
  "kaggle": {
   "accelerator": "none",
   "dataSources": [
    {
     "datasetId": 228,
     "sourceId": 482,
     "sourceType": "datasetVersion"
    },
    {
     "datasetId": 5211512,
     "sourceId": 8691117,
     "sourceType": "datasetVersion"
    }
   ],
   "dockerImageVersionId": 30786,
   "isGpuEnabled": false,
   "isInternetEnabled": true,
   "language": "python",
   "sourceType": "notebook"
  },
  "kernelspec": {
   "display_name": "Python 3",
   "language": "python",
   "name": "python3"
  },
  "language_info": {
   "codemirror_mode": {
    "name": "ipython",
    "version": 3
   },
   "file_extension": ".py",
   "mimetype": "text/x-python",
   "name": "python",
   "nbconvert_exporter": "python",
   "pygments_lexer": "ipython3",
   "version": "3.11.3"
  }
 },
 "nbformat": 4,
 "nbformat_minor": 4
}
